{
  "nbformat": 4,
  "nbformat_minor": 0,
  "metadata": {
    "colab": {
      "name": "Predicting App Ratings.ipynb",
      "provenance": [],
      "collapsed_sections": [
        "IzheISFfWu6L",
        "HXKuMsQ2ob2F",
        "NKoQTNUohfBb",
        "62vJH90epGVZ"
      ]
    },
    "kernelspec": {
      "name": "python3",
      "display_name": "Python 3"
    },
    "accelerator": "GPU"
  },
  "cells": [
    {
      "cell_type": "code",
      "metadata": {
        "id": "jd8aUXgjIqc1",
        "colab_type": "code",
        "trusted": true,
        "colab": {}
      },
      "source": [
        "import re\n",
        "import sys\n",
        "\n",
        "import pandas as pd\n",
        "import numpy as np\n",
        "\n",
        "import matplotlib.pyplot as plt\n",
        "%matplotlib inline\n",
        "import seaborn as sns\n",
        "\n",
        "import time\n",
        "import datetime\n",
        "\n",
        "import warnings\n",
        "warnings.filterwarnings(\"ignore\")\n",
        "\n",
        "from sklearn import preprocessing\n",
        "\n",
        "from sklearn.ensemble import RandomForestRegressor\n",
        "from sklearn.model_selection import train_test_split\n",
        "from sklearn.model_selection import cross_val_score\n",
        "\n",
        "from sklearn.linear_model import Ridge\n",
        "from sklearn import tree\n",
        "\n",
        "from sklearn import metrics\n",
        "from sklearn.metrics import accuracy_score, mean_squared_error, mean_absolute_error, r2_score\n",
        "\n"
      ],
      "execution_count": 0,
      "outputs": []
    },
    {
      "cell_type": "code",
      "metadata": {
        "id": "38lGx_dvJz2L",
        "colab_type": "code",
        "trusted": true,
        "outputId": "c7aa797e-ec0c-4ddb-e72e-fe07137f4d05",
        "colab": {
          "base_uri": "https://localhost:8080/",
          "height": 118
        }
      },
      "source": [
        "from google.colab import drive\n",
        "drive.mount('/content/drive')\n",
        "\n",
        "data = pd.read_csv(\"/content/drive/My Drive/app-rating/googleplaystore.csv\")"
      ],
      "execution_count": 2,
      "outputs": [
        {
          "output_type": "stream",
          "text": [
            "Go to this URL in a browser: https://accounts.google.com/o/oauth2/auth?client_id=947318989803-6bn6qk8qdgf4n4g3pfee6491hc0brc4i.apps.googleusercontent.com&redirect_uri=urn%3aietf%3awg%3aoauth%3a2.0%3aoob&response_type=code&scope=email%20https%3a%2f%2fwww.googleapis.com%2fauth%2fdocs.test%20https%3a%2f%2fwww.googleapis.com%2fauth%2fdrive%20https%3a%2f%2fwww.googleapis.com%2fauth%2fdrive.photos.readonly%20https%3a%2f%2fwww.googleapis.com%2fauth%2fpeopleapi.readonly\n",
            "\n",
            "Enter your authorization code:\n",
            "··········\n",
            "Mounted at /content/drive\n"
          ],
          "name": "stdout"
        }
      ]
    },
    {
      "cell_type": "markdown",
      "metadata": {
        "id": "IzheISFfWu6L",
        "colab_type": "text"
      },
      "source": [
        "## Data Exploration\n",
        "\n",
        "Exploring our data"
      ]
    },
    {
      "cell_type": "code",
      "metadata": {
        "id": "e-e1aS2rNZsB",
        "colab_type": "code",
        "outputId": "652af2d1-5a3b-48d2-b026-af8039f47a13",
        "trusted": true,
        "colab": {
          "base_uri": "https://localhost:8080/",
          "height": 191
        }
      },
      "source": [
        "# Print first rows from data\n",
        "\n",
        "data.head()"
      ],
      "execution_count": 3,
      "outputs": [
        {
          "output_type": "execute_result",
          "data": {
            "text/html": [
              "<div>\n",
              "<style scoped>\n",
              "    .dataframe tbody tr th:only-of-type {\n",
              "        vertical-align: middle;\n",
              "    }\n",
              "\n",
              "    .dataframe tbody tr th {\n",
              "        vertical-align: top;\n",
              "    }\n",
              "\n",
              "    .dataframe thead th {\n",
              "        text-align: right;\n",
              "    }\n",
              "</style>\n",
              "<table border=\"1\" class=\"dataframe\">\n",
              "  <thead>\n",
              "    <tr style=\"text-align: right;\">\n",
              "      <th></th>\n",
              "      <th>App</th>\n",
              "      <th>Category</th>\n",
              "      <th>Rating</th>\n",
              "      <th>Reviews</th>\n",
              "      <th>Size</th>\n",
              "      <th>Installs</th>\n",
              "      <th>Type</th>\n",
              "      <th>Price</th>\n",
              "      <th>Content Rating</th>\n",
              "      <th>Genres</th>\n",
              "      <th>Last Updated</th>\n",
              "      <th>Current Ver</th>\n",
              "      <th>Android Ver</th>\n",
              "    </tr>\n",
              "  </thead>\n",
              "  <tbody>\n",
              "    <tr>\n",
              "      <th>0</th>\n",
              "      <td>Photo Editor &amp; Candy Camera &amp; Grid &amp; ScrapBook</td>\n",
              "      <td>ART_AND_DESIGN</td>\n",
              "      <td>4.1</td>\n",
              "      <td>159</td>\n",
              "      <td>19M</td>\n",
              "      <td>10,000+</td>\n",
              "      <td>Free</td>\n",
              "      <td>0</td>\n",
              "      <td>Everyone</td>\n",
              "      <td>Art &amp; Design</td>\n",
              "      <td>January 7, 2018</td>\n",
              "      <td>1.0.0</td>\n",
              "      <td>4.0.3 and up</td>\n",
              "    </tr>\n",
              "    <tr>\n",
              "      <th>1</th>\n",
              "      <td>Coloring book moana</td>\n",
              "      <td>ART_AND_DESIGN</td>\n",
              "      <td>3.9</td>\n",
              "      <td>967</td>\n",
              "      <td>14M</td>\n",
              "      <td>500,000+</td>\n",
              "      <td>Free</td>\n",
              "      <td>0</td>\n",
              "      <td>Everyone</td>\n",
              "      <td>Art &amp; Design;Pretend Play</td>\n",
              "      <td>January 15, 2018</td>\n",
              "      <td>2.0.0</td>\n",
              "      <td>4.0.3 and up</td>\n",
              "    </tr>\n",
              "    <tr>\n",
              "      <th>2</th>\n",
              "      <td>U Launcher Lite – FREE Live Cool Themes, Hide ...</td>\n",
              "      <td>ART_AND_DESIGN</td>\n",
              "      <td>4.7</td>\n",
              "      <td>87510</td>\n",
              "      <td>8.7M</td>\n",
              "      <td>5,000,000+</td>\n",
              "      <td>Free</td>\n",
              "      <td>0</td>\n",
              "      <td>Everyone</td>\n",
              "      <td>Art &amp; Design</td>\n",
              "      <td>August 1, 2018</td>\n",
              "      <td>1.2.4</td>\n",
              "      <td>4.0.3 and up</td>\n",
              "    </tr>\n",
              "    <tr>\n",
              "      <th>3</th>\n",
              "      <td>Sketch - Draw &amp; Paint</td>\n",
              "      <td>ART_AND_DESIGN</td>\n",
              "      <td>4.5</td>\n",
              "      <td>215644</td>\n",
              "      <td>25M</td>\n",
              "      <td>50,000,000+</td>\n",
              "      <td>Free</td>\n",
              "      <td>0</td>\n",
              "      <td>Teen</td>\n",
              "      <td>Art &amp; Design</td>\n",
              "      <td>June 8, 2018</td>\n",
              "      <td>Varies with device</td>\n",
              "      <td>4.2 and up</td>\n",
              "    </tr>\n",
              "    <tr>\n",
              "      <th>4</th>\n",
              "      <td>Pixel Draw - Number Art Coloring Book</td>\n",
              "      <td>ART_AND_DESIGN</td>\n",
              "      <td>4.3</td>\n",
              "      <td>967</td>\n",
              "      <td>2.8M</td>\n",
              "      <td>100,000+</td>\n",
              "      <td>Free</td>\n",
              "      <td>0</td>\n",
              "      <td>Everyone</td>\n",
              "      <td>Art &amp; Design;Creativity</td>\n",
              "      <td>June 20, 2018</td>\n",
              "      <td>1.1</td>\n",
              "      <td>4.4 and up</td>\n",
              "    </tr>\n",
              "  </tbody>\n",
              "</table>\n",
              "</div>"
            ],
            "text/plain": [
              "                                                 App  ...   Android Ver\n",
              "0     Photo Editor & Candy Camera & Grid & ScrapBook  ...  4.0.3 and up\n",
              "1                                Coloring book moana  ...  4.0.3 and up\n",
              "2  U Launcher Lite – FREE Live Cool Themes, Hide ...  ...  4.0.3 and up\n",
              "3                              Sketch - Draw & Paint  ...    4.2 and up\n",
              "4              Pixel Draw - Number Art Coloring Book  ...    4.4 and up\n",
              "\n",
              "[5 rows x 13 columns]"
            ]
          },
          "metadata": {
            "tags": []
          },
          "execution_count": 3
        }
      ]
    },
    {
      "cell_type": "code",
      "metadata": {
        "id": "Tq9f9m-8Ai8A",
        "colab_type": "code",
        "outputId": "a3dff238-382f-42c0-84df-193f5d8a8557",
        "trusted": true,
        "colab": {
          "base_uri": "https://localhost:8080/",
          "height": 416
        }
      },
      "source": [
        "# Print last rows from data\n",
        "\n",
        "data.tail(10)"
      ],
      "execution_count": 4,
      "outputs": [
        {
          "output_type": "execute_result",
          "data": {
            "text/html": [
              "<div>\n",
              "<style scoped>\n",
              "    .dataframe tbody tr th:only-of-type {\n",
              "        vertical-align: middle;\n",
              "    }\n",
              "\n",
              "    .dataframe tbody tr th {\n",
              "        vertical-align: top;\n",
              "    }\n",
              "\n",
              "    .dataframe thead th {\n",
              "        text-align: right;\n",
              "    }\n",
              "</style>\n",
              "<table border=\"1\" class=\"dataframe\">\n",
              "  <thead>\n",
              "    <tr style=\"text-align: right;\">\n",
              "      <th></th>\n",
              "      <th>App</th>\n",
              "      <th>Category</th>\n",
              "      <th>Rating</th>\n",
              "      <th>Reviews</th>\n",
              "      <th>Size</th>\n",
              "      <th>Installs</th>\n",
              "      <th>Type</th>\n",
              "      <th>Price</th>\n",
              "      <th>Content Rating</th>\n",
              "      <th>Genres</th>\n",
              "      <th>Last Updated</th>\n",
              "      <th>Current Ver</th>\n",
              "      <th>Android Ver</th>\n",
              "    </tr>\n",
              "  </thead>\n",
              "  <tbody>\n",
              "    <tr>\n",
              "      <th>10831</th>\n",
              "      <td>payermonstationnement.fr</td>\n",
              "      <td>MAPS_AND_NAVIGATION</td>\n",
              "      <td>NaN</td>\n",
              "      <td>38</td>\n",
              "      <td>9.8M</td>\n",
              "      <td>5,000+</td>\n",
              "      <td>Free</td>\n",
              "      <td>0</td>\n",
              "      <td>Everyone</td>\n",
              "      <td>Maps &amp; Navigation</td>\n",
              "      <td>June 13, 2018</td>\n",
              "      <td>2.0.148.0</td>\n",
              "      <td>4.0 and up</td>\n",
              "    </tr>\n",
              "    <tr>\n",
              "      <th>10832</th>\n",
              "      <td>FR Tides</td>\n",
              "      <td>WEATHER</td>\n",
              "      <td>3.8</td>\n",
              "      <td>1195</td>\n",
              "      <td>582k</td>\n",
              "      <td>100,000+</td>\n",
              "      <td>Free</td>\n",
              "      <td>0</td>\n",
              "      <td>Everyone</td>\n",
              "      <td>Weather</td>\n",
              "      <td>February 16, 2014</td>\n",
              "      <td>6.0</td>\n",
              "      <td>2.1 and up</td>\n",
              "    </tr>\n",
              "    <tr>\n",
              "      <th>10833</th>\n",
              "      <td>Chemin (fr)</td>\n",
              "      <td>BOOKS_AND_REFERENCE</td>\n",
              "      <td>4.8</td>\n",
              "      <td>44</td>\n",
              "      <td>619k</td>\n",
              "      <td>1,000+</td>\n",
              "      <td>Free</td>\n",
              "      <td>0</td>\n",
              "      <td>Everyone</td>\n",
              "      <td>Books &amp; Reference</td>\n",
              "      <td>March 23, 2014</td>\n",
              "      <td>0.8</td>\n",
              "      <td>2.2 and up</td>\n",
              "    </tr>\n",
              "    <tr>\n",
              "      <th>10834</th>\n",
              "      <td>FR Calculator</td>\n",
              "      <td>FAMILY</td>\n",
              "      <td>4.0</td>\n",
              "      <td>7</td>\n",
              "      <td>2.6M</td>\n",
              "      <td>500+</td>\n",
              "      <td>Free</td>\n",
              "      <td>0</td>\n",
              "      <td>Everyone</td>\n",
              "      <td>Education</td>\n",
              "      <td>June 18, 2017</td>\n",
              "      <td>1.0.0</td>\n",
              "      <td>4.1 and up</td>\n",
              "    </tr>\n",
              "    <tr>\n",
              "      <th>10835</th>\n",
              "      <td>FR Forms</td>\n",
              "      <td>BUSINESS</td>\n",
              "      <td>NaN</td>\n",
              "      <td>0</td>\n",
              "      <td>9.6M</td>\n",
              "      <td>10+</td>\n",
              "      <td>Free</td>\n",
              "      <td>0</td>\n",
              "      <td>Everyone</td>\n",
              "      <td>Business</td>\n",
              "      <td>September 29, 2016</td>\n",
              "      <td>1.1.5</td>\n",
              "      <td>4.0 and up</td>\n",
              "    </tr>\n",
              "    <tr>\n",
              "      <th>10836</th>\n",
              "      <td>Sya9a Maroc - FR</td>\n",
              "      <td>FAMILY</td>\n",
              "      <td>4.5</td>\n",
              "      <td>38</td>\n",
              "      <td>53M</td>\n",
              "      <td>5,000+</td>\n",
              "      <td>Free</td>\n",
              "      <td>0</td>\n",
              "      <td>Everyone</td>\n",
              "      <td>Education</td>\n",
              "      <td>July 25, 2017</td>\n",
              "      <td>1.48</td>\n",
              "      <td>4.1 and up</td>\n",
              "    </tr>\n",
              "    <tr>\n",
              "      <th>10837</th>\n",
              "      <td>Fr. Mike Schmitz Audio Teachings</td>\n",
              "      <td>FAMILY</td>\n",
              "      <td>5.0</td>\n",
              "      <td>4</td>\n",
              "      <td>3.6M</td>\n",
              "      <td>100+</td>\n",
              "      <td>Free</td>\n",
              "      <td>0</td>\n",
              "      <td>Everyone</td>\n",
              "      <td>Education</td>\n",
              "      <td>July 6, 2018</td>\n",
              "      <td>1.0</td>\n",
              "      <td>4.1 and up</td>\n",
              "    </tr>\n",
              "    <tr>\n",
              "      <th>10838</th>\n",
              "      <td>Parkinson Exercices FR</td>\n",
              "      <td>MEDICAL</td>\n",
              "      <td>NaN</td>\n",
              "      <td>3</td>\n",
              "      <td>9.5M</td>\n",
              "      <td>1,000+</td>\n",
              "      <td>Free</td>\n",
              "      <td>0</td>\n",
              "      <td>Everyone</td>\n",
              "      <td>Medical</td>\n",
              "      <td>January 20, 2017</td>\n",
              "      <td>1.0</td>\n",
              "      <td>2.2 and up</td>\n",
              "    </tr>\n",
              "    <tr>\n",
              "      <th>10839</th>\n",
              "      <td>The SCP Foundation DB fr nn5n</td>\n",
              "      <td>BOOKS_AND_REFERENCE</td>\n",
              "      <td>4.5</td>\n",
              "      <td>114</td>\n",
              "      <td>Varies with device</td>\n",
              "      <td>1,000+</td>\n",
              "      <td>Free</td>\n",
              "      <td>0</td>\n",
              "      <td>Mature 17+</td>\n",
              "      <td>Books &amp; Reference</td>\n",
              "      <td>January 19, 2015</td>\n",
              "      <td>Varies with device</td>\n",
              "      <td>Varies with device</td>\n",
              "    </tr>\n",
              "    <tr>\n",
              "      <th>10840</th>\n",
              "      <td>iHoroscope - 2018 Daily Horoscope &amp; Astrology</td>\n",
              "      <td>LIFESTYLE</td>\n",
              "      <td>4.5</td>\n",
              "      <td>398307</td>\n",
              "      <td>19M</td>\n",
              "      <td>10,000,000+</td>\n",
              "      <td>Free</td>\n",
              "      <td>0</td>\n",
              "      <td>Everyone</td>\n",
              "      <td>Lifestyle</td>\n",
              "      <td>July 25, 2018</td>\n",
              "      <td>Varies with device</td>\n",
              "      <td>Varies with device</td>\n",
              "    </tr>\n",
              "  </tbody>\n",
              "</table>\n",
              "</div>"
            ],
            "text/plain": [
              "                                                 App  ...         Android Ver\n",
              "10831                       payermonstationnement.fr  ...          4.0 and up\n",
              "10832                                       FR Tides  ...          2.1 and up\n",
              "10833                                    Chemin (fr)  ...          2.2 and up\n",
              "10834                                  FR Calculator  ...          4.1 and up\n",
              "10835                                       FR Forms  ...          4.0 and up\n",
              "10836                               Sya9a Maroc - FR  ...          4.1 and up\n",
              "10837               Fr. Mike Schmitz Audio Teachings  ...          4.1 and up\n",
              "10838                         Parkinson Exercices FR  ...          2.2 and up\n",
              "10839                  The SCP Foundation DB fr nn5n  ...  Varies with device\n",
              "10840  iHoroscope - 2018 Daily Horoscope & Astrology  ...  Varies with device\n",
              "\n",
              "[10 rows x 13 columns]"
            ]
          },
          "metadata": {
            "tags": []
          },
          "execution_count": 4
        }
      ]
    },
    {
      "cell_type": "code",
      "metadata": {
        "id": "KOWfmZBcNovC",
        "colab_type": "code",
        "outputId": "12356e81-a685-44ae-b5bd-a9f7ccc61cdb",
        "trusted": true,
        "colab": {
          "base_uri": "https://localhost:8080/",
          "height": 33
        }
      },
      "source": [
        "# Shape of data i.e. rows and columns\n",
        "\n",
        "data.shape"
      ],
      "execution_count": 5,
      "outputs": [
        {
          "output_type": "execute_result",
          "data": {
            "text/plain": [
              "(10841, 13)"
            ]
          },
          "metadata": {
            "tags": []
          },
          "execution_count": 5
        }
      ]
    },
    {
      "cell_type": "code",
      "metadata": {
        "id": "-bOFszeKceaY",
        "colab_type": "code",
        "outputId": "7c5229eb-5c9f-4c12-ac29-6528e45fb700",
        "trusted": true,
        "colab": {
          "base_uri": "https://localhost:8080/",
          "height": 310
        }
      },
      "source": [
        "data.info()"
      ],
      "execution_count": 6,
      "outputs": [
        {
          "output_type": "stream",
          "text": [
            "<class 'pandas.core.frame.DataFrame'>\n",
            "RangeIndex: 10841 entries, 0 to 10840\n",
            "Data columns (total 13 columns):\n",
            "App               10841 non-null object\n",
            "Category          10841 non-null object\n",
            "Rating            9367 non-null float64\n",
            "Reviews           10841 non-null object\n",
            "Size              10841 non-null object\n",
            "Installs          10841 non-null object\n",
            "Type              10840 non-null object\n",
            "Price             10841 non-null object\n",
            "Content Rating    10840 non-null object\n",
            "Genres            10841 non-null object\n",
            "Last Updated      10841 non-null object\n",
            "Current Ver       10833 non-null object\n",
            "Android Ver       10838 non-null object\n",
            "dtypes: float64(1), object(12)\n",
            "memory usage: 1.1+ MB\n"
          ],
          "name": "stdout"
        }
      ]
    },
    {
      "cell_type": "markdown",
      "metadata": {
        "id": "QDZnn5a1XA3X",
        "colab_type": "text"
      },
      "source": [
        "Looks like there are missing values in \"Rating\", \"Type\", \"Content Rating\", \"Current Ver\" and \" Android Ver\"."
      ]
    },
    {
      "cell_type": "code",
      "metadata": {
        "id": "_5S4m2kNcf3-",
        "colab_type": "code",
        "outputId": "ea18079b-f4e8-4fa4-f0b8-0d4437af2faf",
        "trusted": true,
        "colab": {
          "base_uri": "https://localhost:8080/",
          "height": 245
        }
      },
      "source": [
        "# Checking null values\n",
        "\n",
        "data.isnull().sum()"
      ],
      "execution_count": 7,
      "outputs": [
        {
          "output_type": "execute_result",
          "data": {
            "text/plain": [
              "App                  0\n",
              "Category             0\n",
              "Rating            1474\n",
              "Reviews              0\n",
              "Size                 0\n",
              "Installs             0\n",
              "Type                 1\n",
              "Price                0\n",
              "Content Rating       1\n",
              "Genres               0\n",
              "Last Updated         0\n",
              "Current Ver          8\n",
              "Android Ver          3\n",
              "dtype: int64"
            ]
          },
          "metadata": {
            "tags": []
          },
          "execution_count": 7
        }
      ]
    },
    {
      "cell_type": "code",
      "metadata": {
        "id": "a38bqSc3EyGE",
        "colab_type": "code",
        "outputId": "99fc28de-3a2b-42f2-85b8-0a5c9540087e",
        "trusted": true,
        "colab": {
          "base_uri": "https://localhost:8080/",
          "height": 245
        }
      },
      "source": [
        "data.dtypes"
      ],
      "execution_count": 8,
      "outputs": [
        {
          "output_type": "execute_result",
          "data": {
            "text/plain": [
              "App                object\n",
              "Category           object\n",
              "Rating            float64\n",
              "Reviews            object\n",
              "Size               object\n",
              "Installs           object\n",
              "Type               object\n",
              "Price              object\n",
              "Content Rating     object\n",
              "Genres             object\n",
              "Last Updated       object\n",
              "Current Ver        object\n",
              "Android Ver        object\n",
              "dtype: object"
            ]
          },
          "metadata": {
            "tags": []
          },
          "execution_count": 8
        }
      ]
    },
    {
      "cell_type": "code",
      "metadata": {
        "id": "Ci6pngyUUcZN",
        "colab_type": "code",
        "outputId": "5bd68736-b2b5-4df3-e8d6-c96c505e8db4",
        "trusted": true,
        "colab": {
          "base_uri": "https://localhost:8080/",
          "height": 277
        }
      },
      "source": [
        "# Describing our data\n",
        "\n",
        "data.describe()"
      ],
      "execution_count": 9,
      "outputs": [
        {
          "output_type": "execute_result",
          "data": {
            "text/html": [
              "<div>\n",
              "<style scoped>\n",
              "    .dataframe tbody tr th:only-of-type {\n",
              "        vertical-align: middle;\n",
              "    }\n",
              "\n",
              "    .dataframe tbody tr th {\n",
              "        vertical-align: top;\n",
              "    }\n",
              "\n",
              "    .dataframe thead th {\n",
              "        text-align: right;\n",
              "    }\n",
              "</style>\n",
              "<table border=\"1\" class=\"dataframe\">\n",
              "  <thead>\n",
              "    <tr style=\"text-align: right;\">\n",
              "      <th></th>\n",
              "      <th>Rating</th>\n",
              "    </tr>\n",
              "  </thead>\n",
              "  <tbody>\n",
              "    <tr>\n",
              "      <th>count</th>\n",
              "      <td>9367.000000</td>\n",
              "    </tr>\n",
              "    <tr>\n",
              "      <th>mean</th>\n",
              "      <td>4.193338</td>\n",
              "    </tr>\n",
              "    <tr>\n",
              "      <th>std</th>\n",
              "      <td>0.537431</td>\n",
              "    </tr>\n",
              "    <tr>\n",
              "      <th>min</th>\n",
              "      <td>1.000000</td>\n",
              "    </tr>\n",
              "    <tr>\n",
              "      <th>25%</th>\n",
              "      <td>4.000000</td>\n",
              "    </tr>\n",
              "    <tr>\n",
              "      <th>50%</th>\n",
              "      <td>4.300000</td>\n",
              "    </tr>\n",
              "    <tr>\n",
              "      <th>75%</th>\n",
              "      <td>4.500000</td>\n",
              "    </tr>\n",
              "    <tr>\n",
              "      <th>max</th>\n",
              "      <td>19.000000</td>\n",
              "    </tr>\n",
              "  </tbody>\n",
              "</table>\n",
              "</div>"
            ],
            "text/plain": [
              "            Rating\n",
              "count  9367.000000\n",
              "mean      4.193338\n",
              "std       0.537431\n",
              "min       1.000000\n",
              "25%       4.000000\n",
              "50%       4.300000\n",
              "75%       4.500000\n",
              "max      19.000000"
            ]
          },
          "metadata": {
            "tags": []
          },
          "execution_count": 9
        }
      ]
    },
    {
      "cell_type": "code",
      "metadata": {
        "id": "tNp0zDyZhXpg",
        "colab_type": "code",
        "outputId": "71daab39-30c5-4a94-cc15-ec0af86d253f",
        "trusted": true,
        "colab": {
          "base_uri": "https://localhost:8080/",
          "height": 82
        }
      },
      "source": [
        "# Columns present in our data\n",
        "\n",
        "data.columns"
      ],
      "execution_count": 10,
      "outputs": [
        {
          "output_type": "execute_result",
          "data": {
            "text/plain": [
              "Index(['App', 'Category', 'Rating', 'Reviews', 'Size', 'Installs', 'Type',\n",
              "       'Price', 'Content Rating', 'Genres', 'Last Updated', 'Current Ver',\n",
              "       'Android Ver'],\n",
              "      dtype='object')"
            ]
          },
          "metadata": {
            "tags": []
          },
          "execution_count": 10
        }
      ]
    },
    {
      "cell_type": "markdown",
      "metadata": {
        "id": "HXKuMsQ2ob2F",
        "colab_type": "text"
      },
      "source": [
        "## Data Cleaning\n",
        "\n",
        "*   Removing null values\n",
        "*   Filling missing values\n",
        "*   Remove certain characters from the string and convert it into usable format.\n",
        "\n",
        "\n",
        "\n",
        "\n"
      ]
    },
    {
      "cell_type": "code",
      "metadata": {
        "id": "B6kEk1J29DYV",
        "colab_type": "code",
        "trusted": true,
        "colab": {}
      },
      "source": [
        "# The best way to fill missing values might be using the median instead of mean\n",
        "\n",
        "data['Rating'] = data['Rating'].fillna(data['Rating'].median())"
      ],
      "execution_count": 0,
      "outputs": []
    },
    {
      "cell_type": "code",
      "metadata": {
        "id": "zE5myBsVxYXY",
        "colab_type": "code",
        "trusted": true,
        "colab": {}
      },
      "source": [
        "# Lets convert all the versions in the format number.number to simplify the data\n",
        "# We have to clean all non numerical values & unicode charachters \n",
        "\n",
        "replaces = [u'\\u00AE', u'\\u2013', u'\\u00C3', u'\\u00E3', u'\\u00B3', '[', ']', \"'\"]\n",
        "for i in replaces:\n",
        "    data['Current Ver'] = data['Current Ver'].astype(str).apply(lambda x : x.replace(i, ''))\n",
        "\n",
        "regex = [r'[-+|/:/;(_)@]', r'\\s+', r'[A-Za-z]+']\n",
        "for j in regex:\n",
        "    data['Current Ver'] = data['Current Ver'].astype(str).apply(lambda x : re.sub(j, '0', x))\n",
        "\n",
        "data['Current Ver'] = data['Current Ver'].astype(str).apply(lambda x : x.replace('.', ',',1).replace('.', '').replace(',', '.',1)).astype(float)\n",
        "data['Current Ver'] = data['Current Ver'].fillna(data['Current Ver'].median())\n"
      ],
      "execution_count": 0,
      "outputs": []
    },
    {
      "cell_type": "code",
      "metadata": {
        "id": "ZzvD6ye_jLVj",
        "colab_type": "code",
        "outputId": "07676ba3-72fb-4091-a114-7038a7563fc8",
        "trusted": true,
        "colab": {
          "base_uri": "https://localhost:8080/",
          "height": 163
        }
      },
      "source": [
        "# Count the number of unique values in category column \n",
        "\n",
        "data['Category'].unique()"
      ],
      "execution_count": 13,
      "outputs": [
        {
          "output_type": "execute_result",
          "data": {
            "text/plain": [
              "array(['ART_AND_DESIGN', 'AUTO_AND_VEHICLES', 'BEAUTY',\n",
              "       'BOOKS_AND_REFERENCE', 'BUSINESS', 'COMICS', 'COMMUNICATION',\n",
              "       'DATING', 'EDUCATION', 'ENTERTAINMENT', 'EVENTS', 'FINANCE',\n",
              "       'FOOD_AND_DRINK', 'HEALTH_AND_FITNESS', 'HOUSE_AND_HOME',\n",
              "       'LIBRARIES_AND_DEMO', 'LIFESTYLE', 'GAME', 'FAMILY', 'MEDICAL',\n",
              "       'SOCIAL', 'SHOPPING', 'PHOTOGRAPHY', 'SPORTS', 'TRAVEL_AND_LOCAL',\n",
              "       'TOOLS', 'PERSONALIZATION', 'PRODUCTIVITY', 'PARENTING', 'WEATHER',\n",
              "       'VIDEO_PLAYERS', 'NEWS_AND_MAGAZINES', 'MAPS_AND_NAVIGATION',\n",
              "       '1.9'], dtype=object)"
            ]
          },
          "metadata": {
            "tags": []
          },
          "execution_count": 13
        }
      ]
    },
    {
      "cell_type": "code",
      "metadata": {
        "id": "1l1BJK3FjRGq",
        "colab_type": "code",
        "outputId": "3759be1f-abd7-4cbd-bc2c-27852a78af56",
        "trusted": true,
        "colab": {
          "base_uri": "https://localhost:8080/",
          "height": 76
        }
      },
      "source": [
        "# Check the record  of unreasonable value which is 1.9\n",
        "i = data[data['Category'] == '1.9'].index\n",
        "data.loc[i]"
      ],
      "execution_count": 14,
      "outputs": [
        {
          "output_type": "execute_result",
          "data": {
            "text/html": [
              "<div>\n",
              "<style scoped>\n",
              "    .dataframe tbody tr th:only-of-type {\n",
              "        vertical-align: middle;\n",
              "    }\n",
              "\n",
              "    .dataframe tbody tr th {\n",
              "        vertical-align: top;\n",
              "    }\n",
              "\n",
              "    .dataframe thead th {\n",
              "        text-align: right;\n",
              "    }\n",
              "</style>\n",
              "<table border=\"1\" class=\"dataframe\">\n",
              "  <thead>\n",
              "    <tr style=\"text-align: right;\">\n",
              "      <th></th>\n",
              "      <th>App</th>\n",
              "      <th>Category</th>\n",
              "      <th>Rating</th>\n",
              "      <th>Reviews</th>\n",
              "      <th>Size</th>\n",
              "      <th>Installs</th>\n",
              "      <th>Type</th>\n",
              "      <th>Price</th>\n",
              "      <th>Content Rating</th>\n",
              "      <th>Genres</th>\n",
              "      <th>Last Updated</th>\n",
              "      <th>Current Ver</th>\n",
              "      <th>Android Ver</th>\n",
              "    </tr>\n",
              "  </thead>\n",
              "  <tbody>\n",
              "    <tr>\n",
              "      <th>10472</th>\n",
              "      <td>Life Made WI-Fi Touchscreen Photo Frame</td>\n",
              "      <td>1.9</td>\n",
              "      <td>19.0</td>\n",
              "      <td>3.0M</td>\n",
              "      <td>1,000+</td>\n",
              "      <td>Free</td>\n",
              "      <td>0</td>\n",
              "      <td>Everyone</td>\n",
              "      <td>NaN</td>\n",
              "      <td>February 11, 2018</td>\n",
              "      <td>1.0.19</td>\n",
              "      <td>4.0</td>\n",
              "      <td>NaN</td>\n",
              "    </tr>\n",
              "  </tbody>\n",
              "</table>\n",
              "</div>"
            ],
            "text/plain": [
              "                                           App  ... Android Ver\n",
              "10472  Life Made WI-Fi Touchscreen Photo Frame  ...         NaN\n",
              "\n",
              "[1 rows x 13 columns]"
            ]
          },
          "metadata": {
            "tags": []
          },
          "execution_count": 14
        }
      ]
    },
    {
      "cell_type": "markdown",
      "metadata": {
        "id": "l8-ZRf6XjkEz",
        "colab_type": "text"
      },
      "source": [
        "It's obvious that the first value of this record is missing (App name) and all other values are respectively propagated backward starting from \"Category\" towards the \"Current Ver\"; and the last column which is \"Android Ver\" is left null. It's better to drop the entire recored instead of consider these unreasonable values while cleaning each column!\n",
        "\n"
      ]
    },
    {
      "cell_type": "code",
      "metadata": {
        "id": "GagpwJSzjdz3",
        "colab_type": "code",
        "trusted": true,
        "colab": {}
      },
      "source": [
        "# Drop this bad column\n",
        "data = data.drop(i)"
      ],
      "execution_count": 0,
      "outputs": []
    },
    {
      "cell_type": "code",
      "metadata": {
        "id": "9ULUHDCsjfBm",
        "colab_type": "code",
        "trusted": true,
        "colab": {}
      },
      "source": [
        "# Removing NaN values\n",
        "data = data[pd.notnull(data['Last Updated'])]\n",
        "data = data[pd.notnull(data['Content Rating'])]"
      ],
      "execution_count": 0,
      "outputs": []
    },
    {
      "cell_type": "markdown",
      "metadata": {
        "id": "NKoQTNUohfBb",
        "colab_type": "text"
      },
      "source": [
        "## Plotting\n",
        "\n",
        "1.) Count of application according to Category"
      ]
    },
    {
      "cell_type": "code",
      "metadata": {
        "id": "B0BJ5QLelXhE",
        "colab_type": "code",
        "outputId": "f961b4b8-89f6-4556-8a34-ee94d2e945c9",
        "trusted": true,
        "colab": {
          "base_uri": "https://localhost:8080/",
          "height": 493
        }
      },
      "source": [
        "plt.figure(figsize=(15, 5))\n",
        "sns.countplot(x='Category', data=data, palette='Set1')\n",
        "plt.xticks(rotation=90)\n",
        "plt.xlabel('Categories', fontsize=20)\n",
        "plt.ylabel('Counts', fontsize=20)\n",
        "plt.title('Count of application according to category', fontsize=15, color='r')"
      ],
      "execution_count": 17,
      "outputs": [
        {
          "output_type": "execute_result",
          "data": {
            "text/plain": [
              "Text(0.5, 1.0, 'Count of application according to category')"
            ]
          },
          "metadata": {
            "tags": []
          },
          "execution_count": 17
        },
        {
          "output_type": "display_data",
          "data": {
            "image/png": "[encoded data removed]",
            "text/plain": [
              "<Figure size 1080x360 with 1 Axes>"
            ]
          },
          "metadata": {
            "tags": []
          }
        }
      ]
    },
    {
      "cell_type": "markdown",
      "metadata": {
        "id": "Cct-0O9-o3aq",
        "colab_type": "text"
      },
      "source": [
        "Seems like family and games category have quite large number \n",
        "\n",
        "2.) Let's look at the Rating distribution"
      ]
    },
    {
      "cell_type": "code",
      "metadata": {
        "id": "nNBXi3GrkUv2",
        "colab_type": "code",
        "outputId": "b52786f5-e9d1-4e03-ce97-0b3d24a7239e",
        "trusted": true,
        "colab": {
          "base_uri": "https://localhost:8080/",
          "height": 548
        }
      },
      "source": [
        "from pylab import rcParams\n",
        "\n",
        "rcParams['figure.figsize'] = 11.7,8.27\n",
        "g = sns.kdeplot(data.Rating, color=\"Red\", shade = True)\n",
        "g.set_xlabel(\"Rating\")\n",
        "g.set_ylabel(\"Frequency\")\n",
        "plt.title('Distribution of Rating',size = 20)"
      ],
      "execution_count": 18,
      "outputs": [
        {
          "output_type": "execute_result",
          "data": {
            "text/plain": [
              "Text(0.5, 1.0, 'Distribution of Rating')"
            ]
          },
          "metadata": {
            "tags": []
          },
          "execution_count": 18
        },
        {
          "output_type": "display_data",
          "data": {
            "image/png": "[encoded data removed]",
            "text/plain": [
              "<Figure size 842.4x595.44 with 1 Axes>"
            ]
          },
          "metadata": {
            "tags": []
          }
        }
      ]
    },
    {
      "cell_type": "markdown",
      "metadata": {
        "id": "7nTAK4zrq44k",
        "colab_type": "text"
      },
      "source": [
        "3.) Let's check out the percentage of free apps in data"
      ]
    },
    {
      "cell_type": "code",
      "metadata": {
        "id": "hnsLsZCGk5Wf",
        "colab_type": "code",
        "outputId": "fcaa186c-40e1-4f56-8d02-65d11307a939",
        "trusted": true,
        "colab": {
          "base_uri": "https://localhost:8080/",
          "height": 321
        }
      },
      "source": [
        "labels =data['Type'].value_counts(sort = True).index\n",
        "sizes = data['Type'].value_counts(sort = True)\n",
        "\n",
        "\n",
        "colors = [\"lightblue\",\"orangered\"]\n",
        "explode = (0.1,0)  # explode 1st slice\n",
        " \n",
        "rcParams['figure.figsize'] = 5,5\n",
        "# Plot\n",
        "plt.pie(sizes, explode=explode, labels=labels, colors=colors,\n",
        "        autopct='%1.1f%%', shadow=True, startangle=150,)\n",
        "\n",
        "plt.title('Percent of Free App in data', size = 15)\n",
        "plt.show()"
      ],
      "execution_count": 19,
      "outputs": [
        {
          "output_type": "display_data",
          "data": {
            "image/png": "[encoded data removed]",
            "text/plain": [
              "<Figure size 360x360 with 1 Axes>"
            ]
          },
          "metadata": {
            "tags": []
          }
        }
      ]
    },
    {
      "cell_type": "markdown",
      "metadata": {
        "id": "5zl5zuIV_k5n",
        "colab_type": "text"
      },
      "source": [
        "Majority of the apps are free\n"
      ]
    },
    {
      "cell_type": "markdown",
      "metadata": {
        "id": "YG9WpsMaDjIK",
        "colab_type": "text"
      },
      "source": [
        "4.) Content Distribution"
      ]
    },
    {
      "cell_type": "code",
      "metadata": {
        "id": "pthwxHIECWXt",
        "colab_type": "code",
        "outputId": "901dfd1a-2d86-4dc2-a276-7a7ded289d1a",
        "trusted": true,
        "colab": {
          "base_uri": "https://localhost:8080/",
          "height": 497
        }
      },
      "source": [
        "plt.figure(figsize=(10,8))\n",
        "ax = sns.countplot(y='Content Rating', data=data)"
      ],
      "execution_count": 20,
      "outputs": [
        {
          "output_type": "display_data",
          "data": {
            "image/png": "[encoded data removed]",
            "text/plain": [
              "<Figure size 720x576 with 1 Axes>"
            ]
          },
          "metadata": {
            "tags": []
          }
        }
      ]
    },
    {
      "cell_type": "markdown",
      "metadata": {
        "id": "62vJH90epGVZ",
        "colab_type": "text"
      },
      "source": [
        "## Categorical Data Encoding\n",
        "\n",
        "We need to convert categorical features (strings) to numerical features (numbers). \n",
        "\n",
        "Many machine learning algorithms can support categorical values without further manipulation but there are many more algorithms that do not. We need to make all data ready for the model, so we will convert categorical variables (variables that stored as text values) into numerical variables. "
      ]
    },
    {
      "cell_type": "code",
      "metadata": {
        "id": "Dy0B3iS-DqIB",
        "colab_type": "code",
        "trusted": true,
        "colab": {}
      },
      "source": [
        "# App values encoding\n",
        "\n",
        "LE = preprocessing.LabelEncoder()\n",
        "data['App'] = LE.fit_transform(data['App'])"
      ],
      "execution_count": 0,
      "outputs": []
    },
    {
      "cell_type": "code",
      "metadata": {
        "id": "shZmY2Vbrvbm",
        "colab_type": "code",
        "trusted": true,
        "colab": {}
      },
      "source": [
        "# Category features encoding\n",
        "\n",
        "CategoryList = data['Category'].unique().tolist() \n",
        "CategoryList = ['cat_' + word for word in CategoryList]\n",
        "data = pd.concat([data, pd.get_dummies(data['Category'], prefix='cat')], axis=1)"
      ],
      "execution_count": 0,
      "outputs": []
    },
    {
      "cell_type": "code",
      "metadata": {
        "id": "GXxJpIfcspjE",
        "colab_type": "code",
        "trusted": true,
        "colab": {}
      },
      "source": [
        "# Genres features encoding\n",
        "\n",
        "LE = preprocessing.LabelEncoder()\n",
        "data['Genres'] = LE.fit_transform(data['Genres'])"
      ],
      "execution_count": 0,
      "outputs": []
    },
    {
      "cell_type": "code",
      "metadata": {
        "id": "yw4nL2B1s6Eg",
        "colab_type": "code",
        "trusted": true,
        "colab": {}
      },
      "source": [
        "# Content Rating features encoding\n",
        "\n",
        "LE = preprocessing.LabelEncoder()\n",
        "data['Content Rating'] = LE.fit_transform(data['Content Rating'])\n"
      ],
      "execution_count": 0,
      "outputs": []
    },
    {
      "cell_type": "code",
      "metadata": {
        "id": "boBg8UZitEv0",
        "colab_type": "code",
        "trusted": true,
        "colab": {}
      },
      "source": [
        "# Type encoding\n",
        "\n",
        "data['Type'] = pd.get_dummies(data['Type'])"
      ],
      "execution_count": 0,
      "outputs": []
    },
    {
      "cell_type": "code",
      "metadata": {
        "id": "sSB4Ov78tNk8",
        "colab_type": "code",
        "trusted": true,
        "colab": {}
      },
      "source": [
        "# Last Updated encoding\n",
        "\n",
        "data['Last Updated'] = data['Last Updated'].apply(lambda x : time.mktime(datetime.datetime.strptime(x, '%B %d, %Y').timetuple()))\n"
      ],
      "execution_count": 0,
      "outputs": []
    },
    {
      "cell_type": "code",
      "metadata": {
        "id": "2yLRRjk6ujE_",
        "colab_type": "code",
        "trusted": true,
        "colab": {}
      },
      "source": [
        "# Price cleaning\n",
        "\n",
        "data['Price'] = data['Price'].apply(lambda x : x.strip('$'))"
      ],
      "execution_count": 0,
      "outputs": []
    },
    {
      "cell_type": "code",
      "metadata": {
        "id": "l4pfGlpTujCL",
        "colab_type": "code",
        "trusted": true,
        "colab": {}
      },
      "source": [
        "# Installs cleaning\n",
        "\n",
        "data['Installs'] = data['Installs'].apply(lambda x : x.strip('+').replace(',', ''))"
      ],
      "execution_count": 0,
      "outputs": []
    },
    {
      "cell_type": "code",
      "metadata": {
        "id": "_WNCak97ui_j",
        "colab_type": "code",
        "trusted": true,
        "colab": {}
      },
      "source": [
        "# Convert kbytes to Mbytes\n",
        "\n",
        "k_indices = data['Size'].loc[data['Size'].str.contains('k')].index.tolist()\n",
        "\n",
        "converter = pd.DataFrame(data.loc[k_indices, 'Size'].apply(lambda x: x.strip('k')).astype(float).apply(lambda x: x / 1024).apply(lambda x: round(x, 3)).astype(str))\n",
        "\n",
        "data.loc[k_indices,'Size'] = converter"
      ],
      "execution_count": 0,
      "outputs": []
    },
    {
      "cell_type": "code",
      "metadata": {
        "id": "vKZRFm62ui9J",
        "colab_type": "code",
        "trusted": true,
        "colab": {}
      },
      "source": [
        "# Size cleaning\n",
        "\n",
        "data['Size'] = data['Size'].apply(lambda x: x.strip('M'))\n",
        "data[data['Size'] == 'Varies with device'] = 0\n",
        "data['Size'] = data['Size'].astype(float)"
      ],
      "execution_count": 0,
      "outputs": []
    },
    {
      "cell_type": "markdown",
      "metadata": {
        "id": "vKYqwcykuLor",
        "colab_type": "text"
      },
      "source": [
        "## Building Machine Learning Model"
      ]
    },
    {
      "cell_type": "markdown",
      "metadata": {
        "id": "6FPyJQznKu9l",
        "colab_type": "text"
      },
      "source": [
        "Preparing data"
      ]
    },
    {
      "cell_type": "code",
      "metadata": {
        "id": "OOJ6QIuqt4w_",
        "colab_type": "code",
        "trusted": true,
        "colab": {}
      },
      "source": [
        "features = ['App', 'Reviews', 'Size', 'Installs', 'Type', 'Price', 'Content Rating', 'Genres', 'Last Updated', 'Current Ver']\n",
        "features.extend(CategoryList)\n",
        "\n",
        "X = data[features]\n",
        "y = data['Rating']"
      ],
      "execution_count": 0,
      "outputs": []
    },
    {
      "cell_type": "code",
      "metadata": {
        "id": "P6f0qmqbvGNS",
        "colab_type": "code",
        "trusted": true,
        "colab": {}
      },
      "source": [
        "X_train, X_test, y_train, y_test = train_test_split(X, y, test_size = 0.30, random_state=42)"
      ],
      "execution_count": 0,
      "outputs": []
    },
    {
      "cell_type": "code",
      "metadata": {
        "id": "KOrGz0XshtS7",
        "colab_type": "code",
        "outputId": "8974ba2b-bb85-4775-e932-888ff9dd02e7",
        "colab": {
          "base_uri": "https://localhost:8080/",
          "height": 33
        }
      },
      "source": [
        "X_train.shape"
      ],
      "execution_count": 70,
      "outputs": [
        {
          "output_type": "execute_result",
          "data": {
            "text/plain": [
              "(7588, 43)"
            ]
          },
          "metadata": {
            "tags": []
          },
          "execution_count": 70
        }
      ]
    },
    {
      "cell_type": "code",
      "metadata": {
        "id": "0HhreD_ChxIc",
        "colab_type": "code",
        "outputId": "6e6c1deb-c0c5-458d-c8b1-c31f8a5a86c2",
        "colab": {
          "base_uri": "https://localhost:8080/",
          "height": 33
        }
      },
      "source": [
        "y_train.shape"
      ],
      "execution_count": 71,
      "outputs": [
        {
          "output_type": "execute_result",
          "data": {
            "text/plain": [
              "(7588,)"
            ]
          },
          "metadata": {
            "tags": []
          },
          "execution_count": 71
        }
      ]
    },
    {
      "cell_type": "markdown",
      "metadata": {
        "id": "BbfTCK1Lzp8a",
        "colab_type": "text"
      },
      "source": [
        "Ridge Regression\n"
      ]
    },
    {
      "cell_type": "code",
      "metadata": {
        "id": "e354I9Dkzo1C",
        "colab_type": "code",
        "outputId": "db4ea8a5-cf49-4f52-bac0-1f9e68182f4f",
        "colab": {
          "base_uri": "https://localhost:8080/",
          "height": 50
        }
      },
      "source": [
        "r_clf = Ridge(alpha=0.1, random_state=42)\n",
        "r_clf.fit(X_train, y_train)"
      ],
      "execution_count": 88,
      "outputs": [
        {
          "output_type": "execute_result",
          "data": {
            "text/plain": [
              "Ridge(alpha=0.1, copy_X=True, fit_intercept=True, max_iter=None,\n",
              "      normalize=False, random_state=42, solver='auto', tol=0.001)"
            ]
          },
          "metadata": {
            "tags": []
          },
          "execution_count": 88
        }
      ]
    },
    {
      "cell_type": "code",
      "metadata": {
        "id": "uh2o3MpXz9jV",
        "colab_type": "code",
        "outputId": "eaab91c0-2baf-471c-f73e-2166e743277e",
        "colab": {
          "base_uri": "https://localhost:8080/",
          "height": 33
        }
      },
      "source": [
        "r_accuracy = r_clf.score(X_test, y_test)\n",
        "r_accuracy"
      ],
      "execution_count": 89,
      "outputs": [
        {
          "output_type": "execute_result",
          "data": {
            "text/plain": [
              "-2.79275523426645e+33"
            ]
          },
          "metadata": {
            "tags": []
          },
          "execution_count": 89
        }
      ]
    },
    {
      "cell_type": "code",
      "metadata": {
        "id": "YsJexgLd-DW9",
        "colab_type": "code",
        "outputId": "de9d0ae7-d2e6-4264-f6c1-42529fbade70",
        "colab": {
          "base_uri": "https://localhost:8080/",
          "height": 33
        }
      },
      "source": [
        "r_predict = r_clf.predict(X_test)\n",
        "'Mean Absolute Error:', metrics.mean_absolute_error(y_test, r_predict)"
      ],
      "execution_count": 83,
      "outputs": [
        {
          "output_type": "execute_result",
          "data": {
            "text/plain": [
              "('Mean Absolute Error:', 1630619667530355.5)"
            ]
          },
          "metadata": {
            "tags": []
          },
          "execution_count": 83
        }
      ]
    },
    {
      "cell_type": "markdown",
      "metadata": {
        "id": "sE-GSXme06JD",
        "colab_type": "text"
      },
      "source": [
        "#### Decision Tree Regression\n",
        "\n",
        "Decision tree regression observes features of an object and trains a model in the structure of a tree to predict data in the future to produce meaningful continuous output. Continuous output means that the output/result is not discrete, i.e., it is not represented just by a discrete, known set of numbers or values."
      ]
    },
    {
      "cell_type": "code",
      "metadata": {
        "id": "4eKBr3i1wIBo",
        "colab_type": "code",
        "trusted": true,
        "colab": {}
      },
      "source": [
        "dt_clf = tree.DecisionTreeRegressor(criterion='mae', max_depth=5, min_samples_leaf=5, random_state=42)"
      ],
      "execution_count": 0,
      "outputs": []
    },
    {
      "cell_type": "code",
      "metadata": {
        "id": "frzeCnGEwctT",
        "colab_type": "code",
        "outputId": "80246f6d-2384-4b2b-ce25-4b579c183504",
        "trusted": true,
        "colab": {
          "base_uri": "https://localhost:8080/",
          "height": 98
        }
      },
      "source": [
        "dt_clf.fit(X_train, y_train)"
      ],
      "execution_count": 102,
      "outputs": [
        {
          "output_type": "execute_result",
          "data": {
            "text/plain": [
              "DecisionTreeRegressor(criterion='mae', max_depth=5, max_features=None,\n",
              "                      max_leaf_nodes=None, min_impurity_decrease=0.0,\n",
              "                      min_impurity_split=None, min_samples_leaf=5,\n",
              "                      min_samples_split=2, min_weight_fraction_leaf=0.0,\n",
              "                      presort=False, random_state=42, splitter='best')"
            ]
          },
          "metadata": {
            "tags": []
          },
          "execution_count": 102
        }
      ]
    },
    {
      "cell_type": "code",
      "metadata": {
        "id": "p9dJh3Ruwl1Q",
        "colab_type": "code",
        "outputId": "100301c3-8aef-455f-b888-44e6d2402535",
        "trusted": true,
        "colab": {
          "base_uri": "https://localhost:8080/",
          "height": 33
        }
      },
      "source": [
        "dt_accuracy = dt_clf.score(X_test, y_test)\n",
        "dt_accuracy"
      ],
      "execution_count": 103,
      "outputs": [
        {
          "output_type": "execute_result",
          "data": {
            "text/plain": [
              "0.9216974647212245"
            ]
          },
          "metadata": {
            "tags": []
          },
          "execution_count": 103
        }
      ]
    },
    {
      "cell_type": "code",
      "metadata": {
        "id": "bcYYcZEarJof",
        "colab_type": "code",
        "outputId": "5962c0ef-943e-42e6-af84-037be1ef6326",
        "colab": {
          "base_uri": "https://localhost:8080/",
          "height": 33
        }
      },
      "source": [
        "dt_predict = dt_clf.predict(X_test)\n",
        "'Mean Absolute Error:', metrics.mean_absolute_error(y_test, dt_predict)"
      ],
      "execution_count": 104,
      "outputs": [
        {
          "output_type": "execute_result",
          "data": {
            "text/plain": [
              "('Mean Absolute Error:', 0.2542127921279213)"
            ]
          },
          "metadata": {
            "tags": []
          },
          "execution_count": 104
        }
      ]
    },
    {
      "cell_type": "code",
      "metadata": {
        "id": "J2oUAyavPIEp",
        "colab_type": "code",
        "outputId": "cc7ab79d-ddec-484e-f9c3-1525cf4a206a",
        "colab": {
          "base_uri": "https://localhost:8080/",
          "height": 815
        }
      },
      "source": [
        "import graphviz \n",
        "dot_data = tree.export_graphviz(dt_clf, out_file=None) \n",
        "graph = graphviz.Source(dot_data) \n",
        "graph"
      ],
      "execution_count": 42,
      "outputs": [
        {
          "output_type": "execute_result",
          "data": {
            "text/plain": [
              "<graphviz.files.Source at 0x7f0275d8e0b8>"
            ],
            "image/svg+xml": "<?xml version=\"1.0\" encoding=\"UTF-8\" standalone=\"no\"?>\n<!DOCTYPE svg PUBLIC \"-//W3C//DTD SVG 1.1//EN\"\n \"http://www.w3.org/Graphics/SVG/1.1/DTD/svg11.dtd\">\n<!-- Generated by graphviz version 2.40.1 (20161225.0304)\n -->\n<!-- Title: Tree Pages: 1 -->\n<svg width=\"1826pt\" height=\"581pt\"\n viewBox=\"0.00 0.00 1825.50 581.00\" xmlns=\"http://www.w3.org/2000/svg\" xmlns:xlink=\"http://www.w3.org/1999/xlink\">\n<g id=\"graph0\" class=\"graph\" transform=\"scale(1 1) rotate(0) translate(4 577)\">\n<title>Tree</title>\n<polygon fill=\"#ffffff\" stroke=\"transparent\" points=\"-4,4 -4,-577 1821.5,-577 1821.5,4 -4,4\"/>\n<!-- 0 -->\n<g id=\"node1\" class=\"node\">\n<title>0</title>\n<polygon fill=\"none\" stroke=\"#000000\" points=\"929.5,-573 783.5,-573 783.5,-505 929.5,-505 929.5,-573\"/>\n<text text-anchor=\"middle\" x=\"856.5\" y=\"-557.8\" font-family=\"Times,serif\" font-size=\"14.00\" fill=\"#000000\">X[8] &lt;= 637200000.0</text>\n<text text-anchor=\"middle\" x=\"856.5\" y=\"-542.8\" font-family=\"Times,serif\" font-size=\"14.00\" fill=\"#000000\">mae = 0.935</text>\n<text text-anchor=\"middle\" x=\"856.5\" y=\"-527.8\" font-family=\"Times,serif\" font-size=\"14.00\" fill=\"#000000\">samples = 7588</text>\n<text text-anchor=\"middle\" x=\"856.5\" y=\"-512.8\" font-family=\"Times,serif\" font-size=\"14.00\" fill=\"#000000\">value = 4.3</text>\n</g>\n<!-- 1 -->\n<g id=\"node2\" class=\"node\">\n<title>1</title>\n<polygon fill=\"none\" stroke=\"#000000\" points=\"843,-461.5 736,-461.5 736,-408.5 843,-408.5 843,-461.5\"/>\n<text text-anchor=\"middle\" x=\"789.5\" y=\"-446.3\" font-family=\"Times,serif\" font-size=\"14.00\" fill=\"#000000\">mae = 0.0</text>\n<text text-anchor=\"middle\" x=\"789.5\" y=\"-431.3\" font-family=\"Times,serif\" font-size=\"14.00\" fill=\"#000000\">samples = 1175</text>\n<text text-anchor=\"middle\" x=\"789.5\" y=\"-416.3\" font-family=\"Times,serif\" font-size=\"14.00\" fill=\"#000000\">value = 0.0</text>\n</g>\n<!-- 0&#45;&gt;1 -->\n<g id=\"edge1\" class=\"edge\">\n<title>0&#45;&gt;1</title>\n<path fill=\"none\" stroke=\"#000000\" d=\"M834.5617,-504.9465C827.3946,-493.8215 819.4227,-481.4473 812.2007,-470.237\"/>\n<polygon fill=\"#000000\" stroke=\"#000000\" points=\"814.9574,-468.0532 806.5993,-461.5422 809.0728,-471.8442 814.9574,-468.0532\"/>\n<text text-anchor=\"middle\" x=\"801.3123\" y=\"-482.2767\" font-family=\"Times,serif\" font-size=\"14.00\" fill=\"#000000\">True</text>\n</g>\n<!-- 2 -->\n<g id=\"node3\" class=\"node\">\n<title>2</title>\n<polygon fill=\"none\" stroke=\"#000000\" points=\"985.5,-469 861.5,-469 861.5,-401 985.5,-401 985.5,-469\"/>\n<text text-anchor=\"middle\" x=\"923.5\" y=\"-453.8\" font-family=\"Times,serif\" font-size=\"14.00\" fill=\"#000000\">X[1] &lt;= 166307.0</text>\n<text text-anchor=\"middle\" x=\"923.5\" y=\"-438.8\" font-family=\"Times,serif\" font-size=\"14.00\" fill=\"#000000\">mae = 0.319</text>\n<text text-anchor=\"middle\" x=\"923.5\" y=\"-423.8\" font-family=\"Times,serif\" font-size=\"14.00\" fill=\"#000000\">samples = 6413</text>\n<text text-anchor=\"middle\" x=\"923.5\" y=\"-408.8\" font-family=\"Times,serif\" font-size=\"14.00\" fill=\"#000000\">value = 4.3</text>\n</g>\n<!-- 0&#45;&gt;2 -->\n<g id=\"edge2\" class=\"edge\">\n<title>0&#45;&gt;2</title>\n<path fill=\"none\" stroke=\"#000000\" d=\"M878.4383,-504.9465C884.049,-496.2373 890.1529,-486.7626 896.0042,-477.6801\"/>\n<polygon fill=\"#000000\" stroke=\"#000000\" points=\"899.0389,-479.4321 901.5124,-469.13 893.1543,-475.641 899.0389,-479.4321\"/>\n<text text-anchor=\"middle\" x=\"906.7994\" y=\"-489.8646\" font-family=\"Times,serif\" font-size=\"14.00\" fill=\"#000000\">False</text>\n</g>\n<!-- 3 -->\n<g id=\"node4\" class=\"node\">\n<title>3</title>\n<polygon fill=\"none\" stroke=\"#000000\" points=\"751,-365 642,-365 642,-297 751,-297 751,-365\"/>\n<text text-anchor=\"middle\" x=\"696.5\" y=\"-349.8\" font-family=\"Times,serif\" font-size=\"14.00\" fill=\"#000000\">X[3] &lt;= 3000.0</text>\n<text text-anchor=\"middle\" x=\"696.5\" y=\"-334.8\" font-family=\"Times,serif\" font-size=\"14.00\" fill=\"#000000\">mae = 0.335</text>\n<text text-anchor=\"middle\" x=\"696.5\" y=\"-319.8\" font-family=\"Times,serif\" font-size=\"14.00\" fill=\"#000000\">samples = 5712</text>\n<text text-anchor=\"middle\" x=\"696.5\" y=\"-304.8\" font-family=\"Times,serif\" font-size=\"14.00\" fill=\"#000000\">value = 4.3</text>\n</g>\n<!-- 2&#45;&gt;3 -->\n<g id=\"edge3\" class=\"edge\">\n<title>2&#45;&gt;3</title>\n<path fill=\"none\" stroke=\"#000000\" d=\"M861.4786,-405.6304C858.1057,-404.0587 854.7629,-402.5071 851.5,-401 821.6369,-387.2069 788.4113,-372.1621 760.4053,-359.5671\"/>\n<polygon fill=\"#000000\" stroke=\"#000000\" points=\"761.6761,-356.3011 751.1201,-355.395 758.8071,-362.6861 761.6761,-356.3011\"/>\n</g>\n<!-- 18 -->\n<g id=\"node19\" class=\"node\">\n<title>18</title>\n<polygon fill=\"none\" stroke=\"#000000\" points=\"1231,-365 1100,-365 1100,-297 1231,-297 1231,-365\"/>\n<text text-anchor=\"middle\" x=\"1165.5\" y=\"-349.8\" font-family=\"Times,serif\" font-size=\"14.00\" fill=\"#000000\">X[1] &lt;= 4203466.0</text>\n<text text-anchor=\"middle\" x=\"1165.5\" y=\"-334.8\" font-family=\"Times,serif\" font-size=\"14.00\" fill=\"#000000\">mae = 0.158</text>\n<text text-anchor=\"middle\" x=\"1165.5\" y=\"-319.8\" font-family=\"Times,serif\" font-size=\"14.00\" fill=\"#000000\">samples = 701</text>\n<text text-anchor=\"middle\" x=\"1165.5\" y=\"-304.8\" font-family=\"Times,serif\" font-size=\"14.00\" fill=\"#000000\">value = 4.4</text>\n</g>\n<!-- 2&#45;&gt;18 -->\n<g id=\"edge18\" class=\"edge\">\n<title>2&#45;&gt;18</title>\n<path fill=\"none\" stroke=\"#000000\" d=\"M985.5068,-408.3525C1017.5084,-394.5997 1056.799,-377.7145 1090.4974,-363.2325\"/>\n<polygon fill=\"#000000\" stroke=\"#000000\" points=\"1092.0374,-366.3803 1099.843,-359.2162 1089.2736,-359.949 1092.0374,-366.3803\"/>\n</g>\n<!-- 4 -->\n<g id=\"node5\" class=\"node\">\n<title>4</title>\n<polygon fill=\"none\" stroke=\"#000000\" points=\"406,-261 299,-261 299,-193 406,-193 406,-261\"/>\n<text text-anchor=\"middle\" x=\"352.5\" y=\"-245.8\" font-family=\"Times,serif\" font-size=\"14.00\" fill=\"#000000\">X[1] &lt;= 47.5</text>\n<text text-anchor=\"middle\" x=\"352.5\" y=\"-230.8\" font-family=\"Times,serif\" font-size=\"14.00\" fill=\"#000000\">mae = 0.311</text>\n<text text-anchor=\"middle\" x=\"352.5\" y=\"-215.8\" font-family=\"Times,serif\" font-size=\"14.00\" fill=\"#000000\">samples = 1827</text>\n<text text-anchor=\"middle\" x=\"352.5\" y=\"-200.8\" font-family=\"Times,serif\" font-size=\"14.00\" fill=\"#000000\">value = 4.3</text>\n</g>\n<!-- 3&#45;&gt;4 -->\n<g id=\"edge4\" class=\"edge\">\n<title>3&#45;&gt;4</title>\n<path fill=\"none\" stroke=\"#000000\" d=\"M641.9922,-314.5209C580.544,-295.9435 480.7721,-265.7799 415.8925,-246.1652\"/>\n<polygon fill=\"#000000\" stroke=\"#000000\" points=\"416.7715,-242.7745 406.1865,-243.2308 414.7458,-249.475 416.7715,-242.7745\"/>\n</g>\n<!-- 11 -->\n<g id=\"node12\" class=\"node\">\n<title>11</title>\n<polygon fill=\"none\" stroke=\"#000000\" points=\"773.5,-261 619.5,-261 619.5,-193 773.5,-193 773.5,-261\"/>\n<text text-anchor=\"middle\" x=\"696.5\" y=\"-245.8\" font-family=\"Times,serif\" font-size=\"14.00\" fill=\"#000000\">X[8] &lt;= 1529668800.0</text>\n<text text-anchor=\"middle\" x=\"696.5\" y=\"-230.8\" font-family=\"Times,serif\" font-size=\"14.00\" fill=\"#000000\">mae = 0.343</text>\n<text text-anchor=\"middle\" x=\"696.5\" y=\"-215.8\" font-family=\"Times,serif\" font-size=\"14.00\" fill=\"#000000\">samples = 3885</text>\n<text text-anchor=\"middle\" x=\"696.5\" y=\"-200.8\" font-family=\"Times,serif\" font-size=\"14.00\" fill=\"#000000\">value = 4.2</text>\n</g>\n<!-- 3&#45;&gt;11 -->\n<g id=\"edge11\" class=\"edge\">\n<title>3&#45;&gt;11</title>\n<path fill=\"none\" stroke=\"#000000\" d=\"M696.5,-296.9465C696.5,-288.776 696.5,-279.9318 696.5,-271.3697\"/>\n<polygon fill=\"#000000\" stroke=\"#000000\" points=\"700.0001,-271.13 696.5,-261.13 693.0001,-271.13 700.0001,-271.13\"/>\n</g>\n<!-- 5 -->\n<g id=\"node6\" class=\"node\">\n<title>5</title>\n<polygon fill=\"none\" stroke=\"#000000\" points=\"240.5,-157 94.5,-157 94.5,-89 240.5,-89 240.5,-157\"/>\n<text text-anchor=\"middle\" x=\"167.5\" y=\"-141.8\" font-family=\"Times,serif\" font-size=\"14.00\" fill=\"#000000\">X[9] &lt;= 1550001.312</text>\n<text text-anchor=\"middle\" x=\"167.5\" y=\"-126.8\" font-family=\"Times,serif\" font-size=\"14.00\" fill=\"#000000\">mae = 0.305</text>\n<text text-anchor=\"middle\" x=\"167.5\" y=\"-111.8\" font-family=\"Times,serif\" font-size=\"14.00\" fill=\"#000000\">samples = 1704</text>\n<text text-anchor=\"middle\" x=\"167.5\" y=\"-96.8\" font-family=\"Times,serif\" font-size=\"14.00\" fill=\"#000000\">value = 4.3</text>\n</g>\n<!-- 4&#45;&gt;5 -->\n<g id=\"edge5\" class=\"edge\">\n<title>4&#45;&gt;5</title>\n<path fill=\"none\" stroke=\"#000000\" d=\"M298.9903,-196.9189C279.6551,-186.0494 257.5378,-173.6158 237.0289,-162.0865\"/>\n<polygon fill=\"#000000\" stroke=\"#000000\" points=\"238.4761,-158.885 228.0439,-157.0355 235.0458,-164.9869 238.4761,-158.885\"/>\n</g>\n<!-- 8 -->\n<g id=\"node9\" class=\"node\">\n<title>8</title>\n<polygon fill=\"none\" stroke=\"#000000\" points=\"407,-157 298,-157 298,-89 407,-89 407,-157\"/>\n<text text-anchor=\"middle\" x=\"352.5\" y=\"-141.8\" font-family=\"Times,serif\" font-size=\"14.00\" fill=\"#000000\">X[5] &lt;= 14.995</text>\n<text text-anchor=\"middle\" x=\"352.5\" y=\"-126.8\" font-family=\"Times,serif\" font-size=\"14.00\" fill=\"#000000\">mae = 0.349</text>\n<text text-anchor=\"middle\" x=\"352.5\" y=\"-111.8\" font-family=\"Times,serif\" font-size=\"14.00\" fill=\"#000000\">samples = 123</text>\n<text text-anchor=\"middle\" x=\"352.5\" y=\"-96.8\" font-family=\"Times,serif\" font-size=\"14.00\" fill=\"#000000\">value = 4.5</text>\n</g>\n<!-- 4&#45;&gt;8 -->\n<g id=\"edge8\" class=\"edge\">\n<title>4&#45;&gt;8</title>\n<path fill=\"none\" stroke=\"#000000\" d=\"M352.5,-192.9465C352.5,-184.776 352.5,-175.9318 352.5,-167.3697\"/>\n<polygon fill=\"#000000\" stroke=\"#000000\" points=\"356.0001,-167.13 352.5,-157.13 349.0001,-167.13 356.0001,-167.13\"/>\n</g>\n<!-- 6 -->\n<g id=\"node7\" class=\"node\">\n<title>6</title>\n<polygon fill=\"none\" stroke=\"#000000\" points=\"107,-53 0,-53 0,0 107,0 107,-53\"/>\n<text text-anchor=\"middle\" x=\"53.5\" y=\"-37.8\" font-family=\"Times,serif\" font-size=\"14.00\" fill=\"#000000\">mae = 0.305</text>\n<text text-anchor=\"middle\" x=\"53.5\" y=\"-22.8\" font-family=\"Times,serif\" font-size=\"14.00\" fill=\"#000000\">samples = 1699</text>\n<text text-anchor=\"middle\" x=\"53.5\" y=\"-7.8\" font-family=\"Times,serif\" font-size=\"14.00\" fill=\"#000000\">value = 4.3</text>\n</g>\n<!-- 5&#45;&gt;6 -->\n<g id=\"edge6\" class=\"edge\">\n<title>5&#45;&gt;6</title>\n<path fill=\"none\" stroke=\"#000000\" d=\"M127.3079,-88.9777C116.1658,-79.546 104.0827,-69.3178 92.9815,-59.9208\"/>\n<polygon fill=\"#000000\" stroke=\"#000000\" points=\"94.9932,-57.038 85.0992,-53.2485 90.4705,-62.3809 94.9932,-57.038\"/>\n</g>\n<!-- 7 -->\n<g id=\"node8\" class=\"node\">\n<title>7</title>\n<polygon fill=\"none\" stroke=\"#000000\" points=\"210,-53 125,-53 125,0 210,0 210,-53\"/>\n<text text-anchor=\"middle\" x=\"167.5\" y=\"-37.8\" font-family=\"Times,serif\" font-size=\"14.00\" fill=\"#000000\">mae = 0.18</text>\n<text text-anchor=\"middle\" x=\"167.5\" y=\"-22.8\" font-family=\"Times,serif\" font-size=\"14.00\" fill=\"#000000\">samples = 5</text>\n<text text-anchor=\"middle\" x=\"167.5\" y=\"-7.8\" font-family=\"Times,serif\" font-size=\"14.00\" fill=\"#000000\">value = 4.5</text>\n</g>\n<!-- 5&#45;&gt;7 -->\n<g id=\"edge7\" class=\"edge\">\n<title>5&#45;&gt;7</title>\n<path fill=\"none\" stroke=\"#000000\" d=\"M167.5,-88.9777C167.5,-80.7364 167.5,-71.887 167.5,-63.5153\"/>\n<polygon fill=\"#000000\" stroke=\"#000000\" points=\"171.0001,-63.2484 167.5,-53.2485 164.0001,-63.2485 171.0001,-63.2484\"/>\n</g>\n<!-- 9 -->\n<g id=\"node10\" class=\"node\">\n<title>9</title>\n<polygon fill=\"none\" stroke=\"#000000\" points=\"327,-53 228,-53 228,0 327,0 327,-53\"/>\n<text text-anchor=\"middle\" x=\"277.5\" y=\"-37.8\" font-family=\"Times,serif\" font-size=\"14.00\" fill=\"#000000\">mae = 0.314</text>\n<text text-anchor=\"middle\" x=\"277.5\" y=\"-22.8\" font-family=\"Times,serif\" font-size=\"14.00\" fill=\"#000000\">samples = 113</text>\n<text text-anchor=\"middle\" x=\"277.5\" y=\"-7.8\" font-family=\"Times,serif\" font-size=\"14.00\" fill=\"#000000\">value = 4.6</text>\n</g>\n<!-- 8&#45;&gt;9 -->\n<g id=\"edge9\" class=\"edge\">\n<title>8&#45;&gt;9</title>\n<path fill=\"none\" stroke=\"#000000\" d=\"M326.0578,-88.9777C319.0833,-80.0039 311.5484,-70.3089 304.5427,-61.295\"/>\n<polygon fill=\"#000000\" stroke=\"#000000\" points=\"307.1891,-58.9964 298.289,-53.2485 301.6621,-63.292 307.1891,-58.9964\"/>\n</g>\n<!-- 10 -->\n<g id=\"node11\" class=\"node\">\n<title>10</title>\n<polygon fill=\"none\" stroke=\"#000000\" points=\"437.5,-53 345.5,-53 345.5,0 437.5,0 437.5,-53\"/>\n<text text-anchor=\"middle\" x=\"391.5\" y=\"-37.8\" font-family=\"Times,serif\" font-size=\"14.00\" fill=\"#000000\">mae = 0.37</text>\n<text text-anchor=\"middle\" x=\"391.5\" y=\"-22.8\" font-family=\"Times,serif\" font-size=\"14.00\" fill=\"#000000\">samples = 10</text>\n<text text-anchor=\"middle\" x=\"391.5\" y=\"-7.8\" font-family=\"Times,serif\" font-size=\"14.00\" fill=\"#000000\">value = 3.65</text>\n</g>\n<!-- 8&#45;&gt;10 -->\n<g id=\"edge10\" class=\"edge\">\n<title>8&#45;&gt;10</title>\n<path fill=\"none\" stroke=\"#000000\" d=\"M366.2499,-88.9777C369.6916,-80.4617 373.3958,-71.2963 376.8781,-62.6798\"/>\n<polygon fill=\"#000000\" stroke=\"#000000\" points=\"380.1877,-63.8314 380.6897,-53.2485 373.6976,-61.2085 380.1877,-63.8314\"/>\n</g>\n<!-- 12 -->\n<g id=\"node13\" class=\"node\">\n<title>12</title>\n<polygon fill=\"none\" stroke=\"#000000\" points=\"688,-157 581,-157 581,-89 688,-89 688,-157\"/>\n<text text-anchor=\"middle\" x=\"634.5\" y=\"-141.8\" font-family=\"Times,serif\" font-size=\"14.00\" fill=\"#000000\">X[1] &lt;= 924.0</text>\n<text text-anchor=\"middle\" x=\"634.5\" y=\"-126.8\" font-family=\"Times,serif\" font-size=\"14.00\" fill=\"#000000\">mae = 0.355</text>\n<text text-anchor=\"middle\" x=\"634.5\" y=\"-111.8\" font-family=\"Times,serif\" font-size=\"14.00\" fill=\"#000000\">samples = 2448</text>\n<text text-anchor=\"middle\" x=\"634.5\" y=\"-96.8\" font-family=\"Times,serif\" font-size=\"14.00\" fill=\"#000000\">value = 4.2</text>\n</g>\n<!-- 11&#45;&gt;12 -->\n<g id=\"edge12\" class=\"edge\">\n<title>11&#45;&gt;12</title>\n<path fill=\"none\" stroke=\"#000000\" d=\"M676.1989,-192.9465C671.0604,-184.3271 665.4749,-174.9579 660.1114,-165.9611\"/>\n<polygon fill=\"#000000\" stroke=\"#000000\" points=\"662.9737,-163.9272 654.8467,-157.13 656.9611,-167.5117 662.9737,-163.9272\"/>\n</g>\n<!-- 15 -->\n<g id=\"node16\" class=\"node\">\n<title>15</title>\n<polygon fill=\"none\" stroke=\"#000000\" points=\"813,-157 706,-157 706,-89 813,-89 813,-157\"/>\n<text text-anchor=\"middle\" x=\"759.5\" y=\"-141.8\" font-family=\"Times,serif\" font-size=\"14.00\" fill=\"#000000\">X[23] &lt;= 0.5</text>\n<text text-anchor=\"middle\" x=\"759.5\" y=\"-126.8\" font-family=\"Times,serif\" font-size=\"14.00\" fill=\"#000000\">mae = 0.309</text>\n<text text-anchor=\"middle\" x=\"759.5\" y=\"-111.8\" font-family=\"Times,serif\" font-size=\"14.00\" fill=\"#000000\">samples = 1437</text>\n<text text-anchor=\"middle\" x=\"759.5\" y=\"-96.8\" font-family=\"Times,serif\" font-size=\"14.00\" fill=\"#000000\">value = 4.3</text>\n</g>\n<!-- 11&#45;&gt;15 -->\n<g id=\"edge15\" class=\"edge\">\n<title>11&#45;&gt;15</title>\n<path fill=\"none\" stroke=\"#000000\" d=\"M717.1286,-192.9465C722.3499,-184.3271 728.0255,-174.9579 733.4755,-165.9611\"/>\n<polygon fill=\"#000000\" stroke=\"#000000\" points=\"736.6374,-167.4965 738.8251,-157.13 730.6503,-163.8697 736.6374,-167.4965\"/>\n</g>\n<!-- 13 -->\n<g id=\"node14\" class=\"node\">\n<title>13</title>\n<polygon fill=\"none\" stroke=\"#000000\" points=\"563,-53 456,-53 456,0 563,0 563,-53\"/>\n<text text-anchor=\"middle\" x=\"509.5\" y=\"-37.8\" font-family=\"Times,serif\" font-size=\"14.00\" fill=\"#000000\">mae = 0.427</text>\n<text text-anchor=\"middle\" x=\"509.5\" y=\"-22.8\" font-family=\"Times,serif\" font-size=\"14.00\" fill=\"#000000\">samples = 1132</text>\n<text text-anchor=\"middle\" x=\"509.5\" y=\"-7.8\" font-family=\"Times,serif\" font-size=\"14.00\" fill=\"#000000\">value = 4.1</text>\n</g>\n<!-- 12&#45;&gt;13 -->\n<g id=\"edge13\" class=\"edge\">\n<title>12&#45;&gt;13</title>\n<path fill=\"none\" stroke=\"#000000\" d=\"M590.4297,-88.9777C577.9752,-79.3629 564.4485,-68.9203 552.0833,-59.3743\"/>\n<polygon fill=\"#000000\" stroke=\"#000000\" points=\"554.2028,-56.5889 544.1483,-53.2485 549.9251,-62.1299 554.2028,-56.5889\"/>\n</g>\n<!-- 14 -->\n<g id=\"node15\" class=\"node\">\n<title>14</title>\n<polygon fill=\"none\" stroke=\"#000000\" points=\"688,-53 581,-53 581,0 688,0 688,-53\"/>\n<text text-anchor=\"middle\" x=\"634.5\" y=\"-37.8\" font-family=\"Times,serif\" font-size=\"14.00\" fill=\"#000000\">mae = 0.286</text>\n<text text-anchor=\"middle\" x=\"634.5\" y=\"-22.8\" font-family=\"Times,serif\" font-size=\"14.00\" fill=\"#000000\">samples = 1316</text>\n<text text-anchor=\"middle\" x=\"634.5\" y=\"-7.8\" font-family=\"Times,serif\" font-size=\"14.00\" fill=\"#000000\">value = 4.2</text>\n</g>\n<!-- 12&#45;&gt;14 -->\n<g id=\"edge14\" class=\"edge\">\n<title>12&#45;&gt;14</title>\n<path fill=\"none\" stroke=\"#000000\" d=\"M634.5,-88.9777C634.5,-80.7364 634.5,-71.887 634.5,-63.5153\"/>\n<polygon fill=\"#000000\" stroke=\"#000000\" points=\"638.0001,-63.2484 634.5,-53.2485 631.0001,-63.2485 638.0001,-63.2484\"/>\n</g>\n<!-- 16 -->\n<g id=\"node17\" class=\"node\">\n<title>16</title>\n<polygon fill=\"none\" stroke=\"#000000\" points=\"813,-53 706,-53 706,0 813,0 813,-53\"/>\n<text text-anchor=\"middle\" x=\"759.5\" y=\"-37.8\" font-family=\"Times,serif\" font-size=\"14.00\" fill=\"#000000\">mae = 0.31</text>\n<text text-anchor=\"middle\" x=\"759.5\" y=\"-22.8\" font-family=\"Times,serif\" font-size=\"14.00\" fill=\"#000000\">samples = 1379</text>\n<text text-anchor=\"middle\" x=\"759.5\" y=\"-7.8\" font-family=\"Times,serif\" font-size=\"14.00\" fill=\"#000000\">value = 4.3</text>\n</g>\n<!-- 15&#45;&gt;16 -->\n<g id=\"edge16\" class=\"edge\">\n<title>15&#45;&gt;16</title>\n<path fill=\"none\" stroke=\"#000000\" d=\"M759.5,-88.9777C759.5,-80.7364 759.5,-71.887 759.5,-63.5153\"/>\n<polygon fill=\"#000000\" stroke=\"#000000\" points=\"763.0001,-63.2484 759.5,-53.2485 756.0001,-63.2485 763.0001,-63.2484\"/>\n</g>\n<!-- 17 -->\n<g id=\"node18\" class=\"node\">\n<title>17</title>\n<polygon fill=\"none\" stroke=\"#000000\" points=\"923.5,-53 831.5,-53 831.5,0 923.5,0 923.5,-53\"/>\n<text text-anchor=\"middle\" x=\"877.5\" y=\"-37.8\" font-family=\"Times,serif\" font-size=\"14.00\" fill=\"#000000\">mae = 0.198</text>\n<text text-anchor=\"middle\" x=\"877.5\" y=\"-22.8\" font-family=\"Times,serif\" font-size=\"14.00\" fill=\"#000000\">samples = 58</text>\n<text text-anchor=\"middle\" x=\"877.5\" y=\"-7.8\" font-family=\"Times,serif\" font-size=\"14.00\" fill=\"#000000\">value = 4.5</text>\n</g>\n<!-- 15&#45;&gt;17 -->\n<g id=\"edge17\" class=\"edge\">\n<title>15&#45;&gt;17</title>\n<path fill=\"none\" stroke=\"#000000\" d=\"M801.1024,-88.9777C812.7474,-79.4545 825.3854,-69.1191 836.9675,-59.6473\"/>\n<polygon fill=\"#000000\" stroke=\"#000000\" points=\"839.2667,-62.2885 844.792,-53.2485 834.8352,-56.8697 839.2667,-62.2885\"/>\n</g>\n<!-- 19 -->\n<g id=\"node20\" class=\"node\">\n<title>19</title>\n<polygon fill=\"none\" stroke=\"#000000\" points=\"1215.5,-261 1115.5,-261 1115.5,-193 1215.5,-193 1215.5,-261\"/>\n<text text-anchor=\"middle\" x=\"1165.5\" y=\"-245.8\" font-family=\"Times,serif\" font-size=\"14.00\" fill=\"#000000\">X[2] &lt;= 70.5</text>\n<text text-anchor=\"middle\" x=\"1165.5\" y=\"-230.8\" font-family=\"Times,serif\" font-size=\"14.00\" fill=\"#000000\">mae = 0.167</text>\n<text text-anchor=\"middle\" x=\"1165.5\" y=\"-215.8\" font-family=\"Times,serif\" font-size=\"14.00\" fill=\"#000000\">samples = 608</text>\n<text text-anchor=\"middle\" x=\"1165.5\" y=\"-200.8\" font-family=\"Times,serif\" font-size=\"14.00\" fill=\"#000000\">value = 4.4</text>\n</g>\n<!-- 18&#45;&gt;19 -->\n<g id=\"edge19\" class=\"edge\">\n<title>18&#45;&gt;19</title>\n<path fill=\"none\" stroke=\"#000000\" d=\"M1165.5,-296.9465C1165.5,-288.776 1165.5,-279.9318 1165.5,-271.3697\"/>\n<polygon fill=\"#000000\" stroke=\"#000000\" points=\"1169.0001,-271.13 1165.5,-261.13 1162.0001,-271.13 1169.0001,-271.13\"/>\n</g>\n<!-- 26 -->\n<g id=\"node27\" class=\"node\">\n<title>26</title>\n<polygon fill=\"none\" stroke=\"#000000\" points=\"1541,-261 1440,-261 1440,-193 1541,-193 1541,-261\"/>\n<text text-anchor=\"middle\" x=\"1490.5\" y=\"-245.8\" font-family=\"Times,serif\" font-size=\"14.00\" fill=\"#000000\">X[9] &lt;= 1.621</text>\n<text text-anchor=\"middle\" x=\"1490.5\" y=\"-230.8\" font-family=\"Times,serif\" font-size=\"14.00\" fill=\"#000000\">mae = 0.072</text>\n<text text-anchor=\"middle\" x=\"1490.5\" y=\"-215.8\" font-family=\"Times,serif\" font-size=\"14.00\" fill=\"#000000\">samples = 93</text>\n<text text-anchor=\"middle\" x=\"1490.5\" y=\"-200.8\" font-family=\"Times,serif\" font-size=\"14.00\" fill=\"#000000\">value = 4.5</text>\n</g>\n<!-- 18&#45;&gt;26 -->\n<g id=\"edge26\" class=\"edge\">\n<title>18&#45;&gt;26</title>\n<path fill=\"none\" stroke=\"#000000\" d=\"M1231.2686,-309.954C1289.4477,-291.3367 1373.636,-264.3965 1430.1299,-246.3184\"/>\n<polygon fill=\"#000000\" stroke=\"#000000\" points=\"1431.5371,-249.543 1439.9946,-243.1617 1429.4036,-242.8761 1431.5371,-249.543\"/>\n</g>\n<!-- 20 -->\n<g id=\"node21\" class=\"node\">\n<title>20</title>\n<polygon fill=\"none\" stroke=\"#000000\" points=\"1168,-157 1029,-157 1029,-89 1168,-89 1168,-157\"/>\n<text text-anchor=\"middle\" x=\"1098.5\" y=\"-141.8\" font-family=\"Times,serif\" font-size=\"14.00\" fill=\"#000000\">X[3] &lt;= 30000000.0</text>\n<text text-anchor=\"middle\" x=\"1098.5\" y=\"-126.8\" font-family=\"Times,serif\" font-size=\"14.00\" fill=\"#000000\">mae = 0.165</text>\n<text text-anchor=\"middle\" x=\"1098.5\" y=\"-111.8\" font-family=\"Times,serif\" font-size=\"14.00\" fill=\"#000000\">samples = 520</text>\n<text text-anchor=\"middle\" x=\"1098.5\" y=\"-96.8\" font-family=\"Times,serif\" font-size=\"14.00\" fill=\"#000000\">value = 4.4</text>\n</g>\n<!-- 19&#45;&gt;20 -->\n<g id=\"edge20\" class=\"edge\">\n<title>19&#45;&gt;20</title>\n<path fill=\"none\" stroke=\"#000000\" d=\"M1143.5617,-192.9465C1137.951,-184.2373 1131.8471,-174.7626 1125.9958,-165.6801\"/>\n<polygon fill=\"#000000\" stroke=\"#000000\" points=\"1128.8457,-163.641 1120.4876,-157.13 1122.9611,-167.4321 1128.8457,-163.641\"/>\n</g>\n<!-- 23 -->\n<g id=\"node24\" class=\"node\">\n<title>23</title>\n<polygon fill=\"none\" stroke=\"#000000\" points=\"1280.5,-157 1186.5,-157 1186.5,-89 1280.5,-89 1280.5,-157\"/>\n<text text-anchor=\"middle\" x=\"1233.5\" y=\"-141.8\" font-family=\"Times,serif\" font-size=\"14.00\" fill=\"#000000\">X[9] &lt;= 1.05</text>\n<text text-anchor=\"middle\" x=\"1233.5\" y=\"-126.8\" font-family=\"Times,serif\" font-size=\"14.00\" fill=\"#000000\">mae = 0.161</text>\n<text text-anchor=\"middle\" x=\"1233.5\" y=\"-111.8\" font-family=\"Times,serif\" font-size=\"14.00\" fill=\"#000000\">samples = 88</text>\n<text text-anchor=\"middle\" x=\"1233.5\" y=\"-96.8\" font-family=\"Times,serif\" font-size=\"14.00\" fill=\"#000000\">value = 4.5</text>\n</g>\n<!-- 19&#45;&gt;23 -->\n<g id=\"edge23\" class=\"edge\">\n<title>19&#45;&gt;23</title>\n<path fill=\"none\" stroke=\"#000000\" d=\"M1187.7657,-192.9465C1193.4602,-184.2373 1199.6552,-174.7626 1205.5938,-165.6801\"/>\n<polygon fill=\"#000000\" stroke=\"#000000\" points=\"1208.6411,-167.4151 1211.1842,-157.13 1202.7823,-163.5843 1208.6411,-167.4151\"/>\n</g>\n<!-- 21 -->\n<g id=\"node22\" class=\"node\">\n<title>21</title>\n<polygon fill=\"none\" stroke=\"#000000\" points=\"1041.5,-53 941.5,-53 941.5,0 1041.5,0 1041.5,-53\"/>\n<text text-anchor=\"middle\" x=\"991.5\" y=\"-37.8\" font-family=\"Times,serif\" font-size=\"14.00\" fill=\"#000000\">mae = 0.175</text>\n<text text-anchor=\"middle\" x=\"991.5\" y=\"-22.8\" font-family=\"Times,serif\" font-size=\"14.00\" fill=\"#000000\">samples = 369</text>\n<text text-anchor=\"middle\" x=\"991.5\" y=\"-7.8\" font-family=\"Times,serif\" font-size=\"14.00\" fill=\"#000000\">value = 4.4</text>\n</g>\n<!-- 20&#45;&gt;21 -->\n<g id=\"edge21\" class=\"edge\">\n<title>20&#45;&gt;21</title>\n<path fill=\"none\" stroke=\"#000000\" d=\"M1060.7758,-88.9777C1050.4194,-79.6376 1039.1969,-69.5163 1028.861,-60.1947\"/>\n<polygon fill=\"#000000\" stroke=\"#000000\" points=\"1030.9291,-57.3467 1021.1589,-53.2485 1026.2409,-62.5449 1030.9291,-57.3467\"/>\n</g>\n<!-- 22 -->\n<g id=\"node23\" class=\"node\">\n<title>22</title>\n<polygon fill=\"none\" stroke=\"#000000\" points=\"1159.5,-53 1059.5,-53 1059.5,0 1159.5,0 1159.5,-53\"/>\n<text text-anchor=\"middle\" x=\"1109.5\" y=\"-37.8\" font-family=\"Times,serif\" font-size=\"14.00\" fill=\"#000000\">mae = 0.127</text>\n<text text-anchor=\"middle\" x=\"1109.5\" y=\"-22.8\" font-family=\"Times,serif\" font-size=\"14.00\" fill=\"#000000\">samples = 151</text>\n<text text-anchor=\"middle\" x=\"1109.5\" y=\"-7.8\" font-family=\"Times,serif\" font-size=\"14.00\" fill=\"#000000\">value = 4.3</text>\n</g>\n<!-- 20&#45;&gt;22 -->\n<g id=\"edge22\" class=\"edge\">\n<title>20&#45;&gt;22</title>\n<path fill=\"none\" stroke=\"#000000\" d=\"M1102.3782,-88.9777C1103.328,-80.6449 1104.3488,-71.6903 1105.3124,-63.2364\"/>\n<polygon fill=\"#000000\" stroke=\"#000000\" points=\"1108.7958,-63.5806 1106.451,-53.2485 1101.8408,-62.7877 1108.7958,-63.5806\"/>\n</g>\n<!-- 24 -->\n<g id=\"node25\" class=\"node\">\n<title>24</title>\n<polygon fill=\"none\" stroke=\"#000000\" points=\"1269.5,-53 1177.5,-53 1177.5,0 1269.5,0 1269.5,-53\"/>\n<text text-anchor=\"middle\" x=\"1223.5\" y=\"-37.8\" font-family=\"Times,serif\" font-size=\"14.00\" fill=\"#000000\">mae = 0.117</text>\n<text text-anchor=\"middle\" x=\"1223.5\" y=\"-22.8\" font-family=\"Times,serif\" font-size=\"14.00\" fill=\"#000000\">samples = 12</text>\n<text text-anchor=\"middle\" x=\"1223.5\" y=\"-7.8\" font-family=\"Times,serif\" font-size=\"14.00\" fill=\"#000000\">value = 4.7</text>\n</g>\n<!-- 23&#45;&gt;24 -->\n<g id=\"edge24\" class=\"edge\">\n<title>23&#45;&gt;24</title>\n<path fill=\"none\" stroke=\"#000000\" d=\"M1229.9744,-88.9777C1229.1109,-80.6449 1228.1829,-71.6903 1227.3069,-63.2364\"/>\n<polygon fill=\"#000000\" stroke=\"#000000\" points=\"1230.7841,-62.8344 1226.2719,-53.2485 1223.8213,-63.556 1230.7841,-62.8344\"/>\n</g>\n<!-- 25 -->\n<g id=\"node26\" class=\"node\">\n<title>25</title>\n<polygon fill=\"none\" stroke=\"#000000\" points=\"1379.5,-53 1287.5,-53 1287.5,0 1379.5,0 1379.5,-53\"/>\n<text text-anchor=\"middle\" x=\"1333.5\" y=\"-37.8\" font-family=\"Times,serif\" font-size=\"14.00\" fill=\"#000000\">mae = 0.147</text>\n<text text-anchor=\"middle\" x=\"1333.5\" y=\"-22.8\" font-family=\"Times,serif\" font-size=\"14.00\" fill=\"#000000\">samples = 76</text>\n<text text-anchor=\"middle\" x=\"1333.5\" y=\"-7.8\" font-family=\"Times,serif\" font-size=\"14.00\" fill=\"#000000\">value = 4.5</text>\n</g>\n<!-- 23&#45;&gt;25 -->\n<g id=\"edge25\" class=\"edge\">\n<title>23&#45;&gt;25</title>\n<path fill=\"none\" stroke=\"#000000\" d=\"M1268.7563,-88.9777C1278.4351,-79.6376 1288.9235,-69.5163 1298.5832,-60.1947\"/>\n<polygon fill=\"#000000\" stroke=\"#000000\" points=\"1301.0159,-62.7111 1305.7814,-53.2485 1296.1551,-57.674 1301.0159,-62.7111\"/>\n</g>\n<!-- 27 -->\n<g id=\"node28\" class=\"node\">\n<title>27</title>\n<polygon fill=\"none\" stroke=\"#000000\" points=\"1545,-157 1436,-157 1436,-89 1545,-89 1545,-157\"/>\n<text text-anchor=\"middle\" x=\"1490.5\" y=\"-141.8\" font-family=\"Times,serif\" font-size=\"14.00\" fill=\"#000000\">X[0] &lt;= 6665.5</text>\n<text text-anchor=\"middle\" x=\"1490.5\" y=\"-126.8\" font-family=\"Times,serif\" font-size=\"14.00\" fill=\"#000000\">mae = 0.064</text>\n<text text-anchor=\"middle\" x=\"1490.5\" y=\"-111.8\" font-family=\"Times,serif\" font-size=\"14.00\" fill=\"#000000\">samples = 22</text>\n<text text-anchor=\"middle\" x=\"1490.5\" y=\"-96.8\" font-family=\"Times,serif\" font-size=\"14.00\" fill=\"#000000\">value = 4.4</text>\n</g>\n<!-- 26&#45;&gt;27 -->\n<g id=\"edge27\" class=\"edge\">\n<title>26&#45;&gt;27</title>\n<path fill=\"none\" stroke=\"#000000\" d=\"M1490.5,-192.9465C1490.5,-184.776 1490.5,-175.9318 1490.5,-167.3697\"/>\n<polygon fill=\"#000000\" stroke=\"#000000\" points=\"1494.0001,-167.13 1490.5,-157.13 1487.0001,-167.13 1494.0001,-167.13\"/>\n</g>\n<!-- 30 -->\n<g id=\"node31\" class=\"node\">\n<title>30</title>\n<polygon fill=\"none\" stroke=\"#000000\" points=\"1712,-157 1611,-157 1611,-89 1712,-89 1712,-157\"/>\n<text text-anchor=\"middle\" x=\"1661.5\" y=\"-141.8\" font-family=\"Times,serif\" font-size=\"14.00\" fill=\"#000000\">X[7] &lt;= 103.0</text>\n<text text-anchor=\"middle\" x=\"1661.5\" y=\"-126.8\" font-family=\"Times,serif\" font-size=\"14.00\" fill=\"#000000\">mae = 0.052</text>\n<text text-anchor=\"middle\" x=\"1661.5\" y=\"-111.8\" font-family=\"Times,serif\" font-size=\"14.00\" fill=\"#000000\">samples = 71</text>\n<text text-anchor=\"middle\" x=\"1661.5\" y=\"-96.8\" font-family=\"Times,serif\" font-size=\"14.00\" fill=\"#000000\">value = 4.5</text>\n</g>\n<!-- 26&#45;&gt;30 -->\n<g id=\"edge30\" class=\"edge\">\n<title>26&#45;&gt;30</title>\n<path fill=\"none\" stroke=\"#000000\" d=\"M1541.3427,-196.0782C1560.4669,-184.4471 1582.3757,-171.1224 1602.2033,-159.0635\"/>\n<polygon fill=\"#000000\" stroke=\"#000000\" points=\"1604.128,-161.9894 1610.8532,-153.8027 1600.4906,-156.0087 1604.128,-161.9894\"/>\n</g>\n<!-- 28 -->\n<g id=\"node29\" class=\"node\">\n<title>28</title>\n<polygon fill=\"none\" stroke=\"#000000\" points=\"1489.5,-53 1397.5,-53 1397.5,0 1489.5,0 1489.5,-53\"/>\n<text text-anchor=\"middle\" x=\"1443.5\" y=\"-37.8\" font-family=\"Times,serif\" font-size=\"14.00\" fill=\"#000000\">mae = 0.014</text>\n<text text-anchor=\"middle\" x=\"1443.5\" y=\"-22.8\" font-family=\"Times,serif\" font-size=\"14.00\" fill=\"#000000\">samples = 14</text>\n<text text-anchor=\"middle\" x=\"1443.5\" y=\"-7.8\" font-family=\"Times,serif\" font-size=\"14.00\" fill=\"#000000\">value = 4.4</text>\n</g>\n<!-- 27&#45;&gt;28 -->\n<g id=\"edge28\" class=\"edge\">\n<title>27&#45;&gt;28</title>\n<path fill=\"none\" stroke=\"#000000\" d=\"M1473.9296,-88.9777C1469.7373,-80.3702 1465.2219,-71.0992 1460.986,-62.402\"/>\n<polygon fill=\"#000000\" stroke=\"#000000\" points=\"1464.0532,-60.7063 1456.5278,-53.2485 1457.7599,-63.7714 1464.0532,-60.7063\"/>\n</g>\n<!-- 29 -->\n<g id=\"node30\" class=\"node\">\n<title>29</title>\n<polygon fill=\"none\" stroke=\"#000000\" points=\"1597,-53 1508,-53 1508,0 1597,0 1597,-53\"/>\n<text text-anchor=\"middle\" x=\"1552.5\" y=\"-37.8\" font-family=\"Times,serif\" font-size=\"14.00\" fill=\"#000000\">mae = 0.075</text>\n<text text-anchor=\"middle\" x=\"1552.5\" y=\"-22.8\" font-family=\"Times,serif\" font-size=\"14.00\" fill=\"#000000\">samples = 8</text>\n<text text-anchor=\"middle\" x=\"1552.5\" y=\"-7.8\" font-family=\"Times,serif\" font-size=\"14.00\" fill=\"#000000\">value = 4.3</text>\n</g>\n<!-- 27&#45;&gt;29 -->\n<g id=\"edge29\" class=\"edge\">\n<title>27&#45;&gt;29</title>\n<path fill=\"none\" stroke=\"#000000\" d=\"M1512.3589,-88.9777C1518.0068,-80.187 1524.0993,-70.7044 1529.7896,-61.8477\"/>\n<polygon fill=\"#000000\" stroke=\"#000000\" points=\"1532.8537,-63.5536 1535.3144,-53.2485 1526.9644,-59.7698 1532.8537,-63.5536\"/>\n</g>\n<!-- 31 -->\n<g id=\"node32\" class=\"node\">\n<title>31</title>\n<polygon fill=\"none\" stroke=\"#000000\" points=\"1707.5,-53 1615.5,-53 1615.5,0 1707.5,0 1707.5,-53\"/>\n<text text-anchor=\"middle\" x=\"1661.5\" y=\"-37.8\" font-family=\"Times,serif\" font-size=\"14.00\" fill=\"#000000\">mae = 0.05</text>\n<text text-anchor=\"middle\" x=\"1661.5\" y=\"-22.8\" font-family=\"Times,serif\" font-size=\"14.00\" fill=\"#000000\">samples = 60</text>\n<text text-anchor=\"middle\" x=\"1661.5\" y=\"-7.8\" font-family=\"Times,serif\" font-size=\"14.00\" fill=\"#000000\">value = 4.5</text>\n</g>\n<!-- 30&#45;&gt;31 -->\n<g id=\"edge31\" class=\"edge\">\n<title>30&#45;&gt;31</title>\n<path fill=\"none\" stroke=\"#000000\" d=\"M1661.5,-88.9777C1661.5,-80.7364 1661.5,-71.887 1661.5,-63.5153\"/>\n<polygon fill=\"#000000\" stroke=\"#000000\" points=\"1665.0001,-63.2484 1661.5,-53.2485 1658.0001,-63.2485 1665.0001,-63.2484\"/>\n</g>\n<!-- 32 -->\n<g id=\"node33\" class=\"node\">\n<title>32</title>\n<polygon fill=\"none\" stroke=\"#000000\" points=\"1817.5,-53 1725.5,-53 1725.5,0 1817.5,0 1817.5,-53\"/>\n<text text-anchor=\"middle\" x=\"1771.5\" y=\"-37.8\" font-family=\"Times,serif\" font-size=\"14.00\" fill=\"#000000\">mae = 0.036</text>\n<text text-anchor=\"middle\" x=\"1771.5\" y=\"-22.8\" font-family=\"Times,serif\" font-size=\"14.00\" fill=\"#000000\">samples = 11</text>\n<text text-anchor=\"middle\" x=\"1771.5\" y=\"-7.8\" font-family=\"Times,serif\" font-size=\"14.00\" fill=\"#000000\">value = 4.6</text>\n</g>\n<!-- 30&#45;&gt;32 -->\n<g id=\"edge32\" class=\"edge\">\n<title>30&#45;&gt;32</title>\n<path fill=\"none\" stroke=\"#000000\" d=\"M1700.2819,-88.9777C1711.033,-79.546 1722.6922,-69.3178 1733.4038,-59.9208\"/>\n<polygon fill=\"#000000\" stroke=\"#000000\" points=\"1735.8004,-62.4743 1741.0095,-53.2485 1731.184,-57.2122 1735.8004,-62.4743\"/>\n</g>\n</g>\n</svg>\n"
          },
          "metadata": {
            "tags": []
          },
          "execution_count": 42
        }
      ]
    },
    {
      "cell_type": "code",
      "metadata": {
        "id": "6UwhlxsAJ-Gb",
        "colab_type": "code",
        "colab": {}
      },
      "source": [
        "from sklearn.model_selection import GridSearchCV\n",
        "grid_param = {\n",
        "    'max_depth': [3, 4, 5, 6, 8],\n",
        "    'min_samples_leaf': [3, 4, 5, 6, 8]\n",
        "}"
      ],
      "execution_count": 0,
      "outputs": []
    },
    {
      "cell_type": "code",
      "metadata": {
        "id": "tPfQlCFdK-nv",
        "colab_type": "code",
        "colab": {
          "base_uri": "https://localhost:8080/",
          "height": 277
        },
        "outputId": "946ee0d4-d852-4075-9929-46e710620560"
      },
      "source": [
        "classifier = tree.DecisionTreeRegressor(criterion='mae', random_state=42)\n",
        "gd_sr = GridSearchCV(estimator=classifier,\n",
        "                     param_grid=grid_param,\n",
        "                     cv=5,\n",
        "                     n_jobs=-1)\n",
        "gd_sr.fit(X_train, y_train)"
      ],
      "execution_count": 92,
      "outputs": [
        {
          "output_type": "execute_result",
          "data": {
            "text/plain": [
              "GridSearchCV(cv=5, error_score='raise-deprecating',\n",
              "             estimator=DecisionTreeRegressor(criterion='mae', max_depth=None,\n",
              "                                             max_features=None,\n",
              "                                             max_leaf_nodes=None,\n",
              "                                             min_impurity_decrease=0.0,\n",
              "                                             min_impurity_split=None,\n",
              "                                             min_samples_leaf=1,\n",
              "                                             min_samples_split=2,\n",
              "                                             min_weight_fraction_leaf=0.0,\n",
              "                                             presort=False, random_state=42,\n",
              "                                             splitter='best'),\n",
              "             iid='warn', n_jobs=-1,\n",
              "             param_grid={'max_depth': [3, 4, 5, 6, 8],\n",
              "                         'min_samples_leaf': [3, 4, 5, 6, 8]},\n",
              "             pre_dispatch='2*n_jobs', refit=True, return_train_score=False,\n",
              "             scoring=None, verbose=0)"
            ]
          },
          "metadata": {
            "tags": []
          },
          "execution_count": 92
        }
      ]
    },
    {
      "cell_type": "code",
      "metadata": {
        "id": "KschAzsjLjbS",
        "colab_type": "code",
        "colab": {
          "base_uri": "https://localhost:8080/",
          "height": 33
        },
        "outputId": "7b096262-a3bb-444a-caa4-fee5ed1626f1"
      },
      "source": [
        "best_parameters = gd_sr.best_params_\n",
        "print(best_parameters)"
      ],
      "execution_count": 93,
      "outputs": [
        {
          "output_type": "stream",
          "text": [
            "{'max_depth': 5, 'min_samples_leaf': 6}\n"
          ],
          "name": "stdout"
        }
      ]
    },
    {
      "cell_type": "markdown",
      "metadata": {
        "id": "HLjY_dKCv1gr",
        "colab_type": "text"
      },
      "source": [
        "#### Random Forest Regression Model\n",
        "\n",
        "The RandomForestRegressor class of the sklearn.ensemble library is used to solve regression problems via random forest. The most important parameter of the RandomForestRegressor class is the n_estimators parameter. This parameter defines the number of trees in the random forest.\n"
      ]
    },
    {
      "cell_type": "code",
      "metadata": {
        "id": "AIy1breBO0Z6",
        "colab_type": "code",
        "outputId": "18d5d31e-9a94-4f22-a147-75f515e477a9",
        "colab": {
          "base_uri": "https://localhost:8080/",
          "height": 147
        }
      },
      "source": [
        "n_trees = [20, 50, 200, 300]\n",
        "ntree_scores = []\n",
        "for n in n_trees:\n",
        "  print(n)\n",
        "  rf_model = RandomForestRegressor(n_estimators = n, n_jobs=-1, random_state=10)\n",
        "  rf_scores = cross_val_score(rf_model, X_train, y_train, cv=5)\n",
        "  ntree_scores.append(rf_scores) \n",
        "ntree_scores"
      ],
      "execution_count": 44,
      "outputs": [
        {
          "output_type": "stream",
          "text": [
            "20\n",
            "50\n",
            "200\n",
            "300\n"
          ],
          "name": "stdout"
        },
        {
          "output_type": "execute_result",
          "data": {
            "text/plain": [
              "[array([0.9280866 , 0.92562393, 0.91292065, 0.91384588, 0.91992858]),\n",
              " array([0.93194409, 0.92719752, 0.9166499 , 0.9147995 , 0.92371791]),\n",
              " array([0.93225955, 0.92836703, 0.91797859, 0.91611285, 0.92553416]),\n",
              " array([0.93255529, 0.92817901, 0.91821648, 0.91625103, 0.92576244])]"
            ]
          },
          "metadata": {
            "tags": []
          },
          "execution_count": 44
        }
      ]
    },
    {
      "cell_type": "code",
      "metadata": {
        "id": "N6rXivBO5hio",
        "colab_type": "code",
        "outputId": "08fc4979-8b64-4b12-8c31-e3f22f28cd2d",
        "trusted": true,
        "colab": {
          "base_uri": "https://localhost:8080/",
          "height": 131
        }
      },
      "source": [
        "model = RandomForestRegressor(n_estimators = 300, n_jobs=-1, random_state=10)\n",
        "model.fit(X_train, y_train)"
      ],
      "execution_count": 108,
      "outputs": [
        {
          "output_type": "execute_result",
          "data": {
            "text/plain": [
              "RandomForestRegressor(bootstrap=True, criterion='mse', max_depth=None,\n",
              "                      max_features='auto', max_leaf_nodes=None,\n",
              "                      min_impurity_decrease=0.0, min_impurity_split=None,\n",
              "                      min_samples_leaf=1, min_samples_split=2,\n",
              "                      min_weight_fraction_leaf=0.0, n_estimators=300, n_jobs=-1,\n",
              "                      oob_score=False, random_state=10, verbose=0,\n",
              "                      warm_start=False)"
            ]
          },
          "metadata": {
            "tags": []
          },
          "execution_count": 108
        }
      ]
    },
    {
      "cell_type": "code",
      "metadata": {
        "id": "0_3CqKCJ5lQH",
        "colab_type": "code",
        "outputId": "69232b20-e5e3-481e-c37c-28278c8c5848",
        "trusted": true,
        "colab": {
          "base_uri": "https://localhost:8080/",
          "height": 33
        }
      },
      "source": [
        "accuracy = model.score(X_test, y_test)\n",
        "accuracy"
      ],
      "execution_count": 109,
      "outputs": [
        {
          "output_type": "execute_result",
          "data": {
            "text/plain": [
              "0.9320085377856966"
            ]
          },
          "metadata": {
            "tags": []
          },
          "execution_count": 109
        }
      ]
    },
    {
      "cell_type": "code",
      "metadata": {
        "id": "11loTYT85pmY",
        "colab_type": "code",
        "outputId": "2953c367-aedf-4ce4-da33-c9913b3b16bf",
        "trusted": true,
        "colab": {
          "base_uri": "https://localhost:8080/",
          "height": 33
        }
      },
      "source": [
        "predict = model.predict(X_test)\n",
        "'Mean Absolute Error:', metrics.mean_absolute_error(y_test, predict)"
      ],
      "execution_count": 47,
      "outputs": [
        {
          "output_type": "execute_result",
          "data": {
            "text/plain": [
              "('Mean Absolute Error:', 0.245743388683887)"
            ]
          },
          "metadata": {
            "tags": []
          },
          "execution_count": 47
        }
      ]
    },
    {
      "cell_type": "code",
      "metadata": {
        "id": "BvHQ4WvXw2q8",
        "colab_type": "code",
        "outputId": "e51e2506-5623-45b1-a856-7b7dbc1faa01",
        "trusted": true,
        "colab": {
          "base_uri": "https://localhost:8080/",
          "height": 33
        }
      },
      "source": [
        "'Mean Squared Error:', metrics.mean_squared_error(y_test, predict)"
      ],
      "execution_count": 48,
      "outputs": [
        {
          "output_type": "execute_result",
          "data": {
            "text/plain": [
              "('Mean Squared Error:', 0.162998591097786)"
            ]
          },
          "metadata": {
            "tags": []
          },
          "execution_count": 48
        }
      ]
    },
    {
      "cell_type": "code",
      "metadata": {
        "id": "dNkNuS3jw8W-",
        "colab_type": "code",
        "outputId": "aa6076ea-fe86-4127-8ed7-e1a47a76879b",
        "trusted": true,
        "colab": {
          "base_uri": "https://localhost:8080/",
          "height": 33
        }
      },
      "source": [
        "'Root Mean Squared Error:', np.sqrt(metrics.mean_squared_error(y_test, predict))"
      ],
      "execution_count": 49,
      "outputs": [
        {
          "output_type": "execute_result",
          "data": {
            "text/plain": [
              "('Root Mean Squared Error:', 0.4037308399141512)"
            ]
          },
          "metadata": {
            "tags": []
          },
          "execution_count": 49
        }
      ]
    },
    {
      "cell_type": "markdown",
      "metadata": {
        "id": "lNXKUFHVhE5b",
        "colab_type": "text"
      },
      "source": [
        "##Evaluation using Cross-validation"
      ]
    },
    {
      "cell_type": "markdown",
      "metadata": {
        "id": "ISLEuE6Z94Cl",
        "colab_type": "text"
      },
      "source": [
        "####Random Forest"
      ]
    },
    {
      "cell_type": "code",
      "metadata": {
        "id": "ULn9tRJehNN7",
        "colab_type": "code",
        "colab": {}
      },
      "source": [
        "cv_rf_model = RandomForestRegressor(n_estimators = 200, n_jobs=-1, random_state=10)\n",
        "rf_scores = cross_val_score(cv_rf_model, X, y, cv=5)"
      ],
      "execution_count": 0,
      "outputs": []
    },
    {
      "cell_type": "code",
      "metadata": {
        "id": "al2Q_A4YhzNW",
        "colab_type": "code",
        "colab": {
          "base_uri": "https://localhost:8080/",
          "height": 33
        },
        "outputId": "2f310a4e-73da-4ec1-834f-174766497dc9"
      },
      "source": [
        "print(\"Accuracy: %0.2f (+/- %0.2f)\" % (rf_scores.mean(), rf_scores.std() * 2))"
      ],
      "execution_count": 64,
      "outputs": [
        {
          "output_type": "stream",
          "text": [
            "Accuracy: 0.89 (+/- 0.14)\n"
          ],
          "name": "stdout"
        }
      ]
    },
    {
      "cell_type": "markdown",
      "metadata": {
        "id": "UMlh2ukT97Pt",
        "colab_type": "text"
      },
      "source": [
        "####Ridge Regression"
      ]
    },
    {
      "cell_type": "code",
      "metadata": {
        "id": "EjtaGRGn-DZo",
        "colab_type": "code",
        "colab": {}
      },
      "source": [
        "cv_r_model = Ridge(alpha=10, random_state=42)\n",
        "cv_r_scores = cross_val_score(cv_r_model, X, y, cv=5)"
      ],
      "execution_count": 0,
      "outputs": []
    },
    {
      "cell_type": "code",
      "metadata": {
        "id": "IBGMoFhkASu0",
        "colab_type": "code",
        "colab": {
          "base_uri": "https://localhost:8080/",
          "height": 33
        },
        "outputId": "243561fa-82ef-4731-a448-966f731703eb"
      },
      "source": [
        "print(\"Accuracy: %0.2f (+/- %0.2f)\" % (cv_r_scores.mean(), cv_r_scores.std() * 2))"
      ],
      "execution_count": 68,
      "outputs": [
        {
          "output_type": "stream",
          "text": [
            "Accuracy: -14084629331086495008798121738108928.00 (+/- 56338517324345980035192486952435712.00)\n"
          ],
          "name": "stdout"
        }
      ]
    },
    {
      "cell_type": "markdown",
      "metadata": {
        "id": "5GBsLRukKSij",
        "colab_type": "text"
      },
      "source": [
        "\n",
        "\n",
        "## Feature Selection\n",
        "\n",
        "Feature selection is a process where you automatically select those features in your data that contribute most to the prediction variable or output in which you are interested. \n",
        "\n",
        "Three benefits of performing feature selection before modeling your data are:\n",
        "\n",
        "*  **Reduces Overfitting:** Less redundant data means less opportunity to make decisions based on noise.\n",
        "*  **Improves Accuracy:** Less misleading data means modeling accuracy improves.\n",
        "*  **Reduces Training Time:** Less data means that algorithms train faster."
      ]
    },
    {
      "cell_type": "code",
      "metadata": {
        "id": "nPmkjouPxia8",
        "colab_type": "code",
        "trusted": true,
        "colab": {}
      },
      "source": [
        "X = data.loc[:,['Reviews', 'Size', 'Installs', 'Content Rating']]\n",
        "\n",
        "x_train1, x_test1, y_train1, y_test1 = train_test_split(X, data.Rating)"
      ],
      "execution_count": 0,
      "outputs": []
    },
    {
      "cell_type": "code",
      "metadata": {
        "id": "fP0q5arAc-Rq",
        "colab_type": "code",
        "outputId": "97414cdd-93e3-42b7-dd19-22ff15feb908",
        "trusted": true,
        "colab": {
          "base_uri": "https://localhost:8080/",
          "height": 98
        }
      },
      "source": [
        "dtr_clf = tree.DecisionTreeRegressor(criterion='mae', max_depth=5, min_samples_leaf=5, random_state=42)\n",
        "dtr_clf.fit(x_train1, y_train1)"
      ],
      "execution_count": 84,
      "outputs": [
        {
          "output_type": "execute_result",
          "data": {
            "text/plain": [
              "DecisionTreeRegressor(criterion='mae', max_depth=5, max_features=None,\n",
              "                      max_leaf_nodes=None, min_impurity_decrease=0.0,\n",
              "                      min_impurity_split=None, min_samples_leaf=5,\n",
              "                      min_samples_split=2, min_weight_fraction_leaf=0.0,\n",
              "                      presort=False, random_state=42, splitter='best')"
            ]
          },
          "metadata": {
            "tags": []
          },
          "execution_count": 84
        }
      ]
    },
    {
      "cell_type": "code",
      "metadata": {
        "id": "i0OsS8_xHxQ3",
        "colab_type": "code",
        "outputId": "5a970333-5f2f-40a4-ca4e-eccad6aa08ce",
        "trusted": true,
        "colab": {
          "base_uri": "https://localhost:8080/",
          "height": 33
        }
      },
      "source": [
        "dtr_acc = dtr_clf.score(x_test1, y_test1)\n",
        "dtr_acc"
      ],
      "execution_count": 85,
      "outputs": [
        {
          "output_type": "execute_result",
          "data": {
            "text/plain": [
              "0.9230607277792351"
            ]
          },
          "metadata": {
            "tags": []
          },
          "execution_count": 85
        }
      ]
    },
    {
      "cell_type": "code",
      "metadata": {
        "id": "7GbK2tclmkq9",
        "colab_type": "code",
        "colab": {}
      },
      "source": [
        "rfr_model = RandomForestRegressor(n_estimators = 200, n_jobs=-1, random_state=10)"
      ],
      "execution_count": 0,
      "outputs": []
    },
    {
      "cell_type": "code",
      "metadata": {
        "id": "qL6bC4EomySS",
        "colab_type": "code",
        "outputId": "fe705449-efd4-4e6b-8cbb-508bce402e9b",
        "colab": {
          "base_uri": "https://localhost:8080/",
          "height": 131
        }
      },
      "source": [
        "rfr_model.fit(x_train1, y_train1)"
      ],
      "execution_count": 87,
      "outputs": [
        {
          "output_type": "execute_result",
          "data": {
            "text/plain": [
              "RandomForestRegressor(bootstrap=True, criterion='mse', max_depth=None,\n",
              "                      max_features='auto', max_leaf_nodes=None,\n",
              "                      min_impurity_decrease=0.0, min_impurity_split=None,\n",
              "                      min_samples_leaf=1, min_samples_split=2,\n",
              "                      min_weight_fraction_leaf=0.0, n_estimators=200, n_jobs=-1,\n",
              "                      oob_score=False, random_state=10, verbose=0,\n",
              "                      warm_start=False)"
            ]
          },
          "metadata": {
            "tags": []
          },
          "execution_count": 87
        }
      ]
    },
    {
      "cell_type": "code",
      "metadata": {
        "id": "OBxyWji5m08u",
        "colab_type": "code",
        "outputId": "959e278c-616b-4d5b-fc33-dc3f37972530",
        "colab": {
          "base_uri": "https://localhost:8080/",
          "height": 33
        }
      },
      "source": [
        "rfr_acc = rfr_model.score(x_test1, y_test1)\n",
        "rfr_acc"
      ],
      "execution_count": 88,
      "outputs": [
        {
          "output_type": "execute_result",
          "data": {
            "text/plain": [
              "0.9172592326256521"
            ]
          },
          "metadata": {
            "tags": []
          },
          "execution_count": 88
        }
      ]
    }
  ]
}