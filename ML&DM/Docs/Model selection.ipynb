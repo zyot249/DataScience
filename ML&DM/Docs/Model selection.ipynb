{
 "cells": [
  {
   "cell_type": "markdown",
   "metadata": {},
   "source": [
    "# Target\n",
    "- Understanding about methods for model evaluation.\n",
    "- Use sklearn library to evaluate models.\n"
   ]
  },
  {
   "cell_type": "code",
   "execution_count": 2,
   "metadata": {
    "collapsed": true
   },
   "outputs": [],
   "source": [
    "import matplotlib.pyplot as plt\n",
    "import numpy as np\n",
    "from sklearn.model_selection import learning_curve\n",
    "\n",
    "from sklearn.datasets.base import load_files\n",
    "from pyvi import ViTokenizer\n",
    "\n",
    "\n",
    "from sklearn import svm\n",
    "from sklearn.ensemble.forest import RandomForestClassifier\n",
    "from sklearn.datasets.base import load_files\n",
    "from sklearn.feature_extraction.text import CountVectorizer, TfidfVectorizer\n",
    "from sklearn.feature_extraction.text import TfidfTransformer\n",
    "from sklearn.model_selection import train_test_split, GridSearchCV\n",
    "from sklearn.pipeline import Pipeline\n",
    "from sklearn.metrics import accuracy_score\n",
    "\n",
    "\n",
    "%matplotlib inline"
   ]
  },
  {
   "cell_type": "markdown",
   "metadata": {},
   "source": [
    "## Load data:\n",
    "\n",
    "Structure of the folder: \n",
    "\n",
    "- data_sample/news_1135/\n",
    "\n",
    "    - Sport \n",
    "        - news1.txt \n",
    "        - news2.txt \n",
    "    - Education\n",
    "        - news3.txt \n",
    "        - news4.txt "
   ]
  },
  {
   "cell_type": "markdown",
   "metadata": {},
   "source": [
    "\n",
    "Data:\n",
    "- Documents and their labels.\n",
    "- Sport label: \n",
    "    > \"Dân_trí Real Madrid đã dẫn trước trong cả trận đấu , nhưng họ vẫn phải chấp_nhận bị Dortmund cầm hòa 2-2 ở Bernabeu . Real Madrid chấp_nhận đứng thứ_hai ở bảng F Champions League ...\""
   ]
  },
  {
   "cell_type": "code",
   "execution_count": 6,
   "metadata": {
    "scrolled": true
   },
   "outputs": [
    {
     "name": "stdout",
     "output_type": "stream",
     "text": [
      "['data/news_1135/Kinh tế/c3926c2bf603cd4c4474f1e3e21159dc2c732c6d.txt'\n",
      " 'data/news_1135/Đời sống - Xã hội/52e734aba11ec2a6e25e2be3beb1e9a25992c8be.txt'\n",
      " 'data/news_1135/Kinh tế/aeadfcd44b05f4adf6641e3f77398525837b333e.txt'\n",
      " ...\n",
      " 'data/news_1135/Thời sự/a12673b7661ec06056b5e20ba7d4c83aebbf6334.txt'\n",
      " 'data/news_1135/Sức khỏe/43b45beb5f82fa0dcfc228bd78d287a26a251026.txt'\n",
      " 'data/news_1135/Thể thao/7c4e2c0d15cf600e6b60d4cd195d89ee0eb3e408.txt']\n",
      "\n",
      "The number of files: 1134\n"
     ]
    }
   ],
   "source": [
    "data_train = load_files(container_path=\"data/news_1135/\", encoding=\"utf-8\")\n",
    "\n",
    "print(data_train.filenames)\n",
    "print()\n",
    "\n",
    "print(\"The number of files: {}\" .format( len(data_train.filenames)))"
   ]
  },
  {
   "cell_type": "markdown",
   "metadata": {},
   "source": [
    "### 1.1 Divide data into 2 parts with a given ratio."
   ]
  },
  {
   "cell_type": "code",
   "execution_count": 7,
   "metadata": {
    "collapsed": true
   },
   "outputs": [],
   "source": [
    "from sklearn.model_selection import ShuffleSplit\n",
    "\n",
    "# Transforming data \n",
    "# Convert text to tf-idf vector \n",
    "#     - Remove stop words\n",
    "#     - Generate the vocab.\n",
    "module_count_vector = CountVectorizer()\n",
    "model_rf_preprocess = Pipeline([('vect', module_count_vector),\n",
    "                    ('tfidf', TfidfTransformer()),\n",
    "                    ])\n",
    "# Convert text to matrix\n",
    "# Input: 2 dimensional numpy.array\n",
    "#Label: convert text to index. numpy array.\n",
    "data_preprocessed = model_rf_preprocess.fit_transform(data_train.data, data_train.target)\n",
    "# print(module_count_vector.vocabulary_)\n",
    "\n",
    "# Divide data into 2 part by using the function: train_test_split.\n",
    "test_size = 0.2\n",
    "# cv = ShuffleSplit(n_splits=10, test_size=0.2, random_state=0)\n",
    "X_train, X_test, y_train, y_test = train_test_split( data_preprocessed, data_train.target, test_size=test_size)\n"
   ]
  },
  {
   "cell_type": "markdown",
   "metadata": {},
   "source": [
    "### 1.2 Build and Learn the model \n",
    "- Using SVM."
   ]
  },
  {
   "cell_type": "code",
   "execution_count": 8,
   "metadata": {},
   "outputs": [
    {
     "data": {
      "text/plain": [
       "SVC(C=1.0, cache_size=200, class_weight=None, coef0=0.0,\n",
       "    decision_function_shape='ovr', degree=3, gamma='auto_deprecated',\n",
       "    kernel='linear', max_iter=-1, probability=False, random_state=None,\n",
       "    shrinking=True, tol=0.001, verbose=False)"
      ]
     },
     "execution_count": 8,
     "metadata": {},
     "output_type": "execute_result"
    }
   ],
   "source": [
    "model = svm.SVC(kernel='linear', C=1.0)\n",
    "model.fit(X_train, y_train)"
   ]
  },
  {
   "cell_type": "markdown",
   "metadata": {},
   "source": [
    "### 1.3 Evaluate\n",
    "- Using Accuracy measure."
   ]
  },
  {
   "cell_type": "code",
   "execution_count": 9,
   "metadata": {},
   "outputs": [
    {
     "name": "stdout",
     "output_type": "stream",
     "text": [
      "- Acc = 0.8854625550660793\n"
     ]
    }
   ],
   "source": [
    "y_pred = model.predict(X_test)\n",
    "print(\"- Acc = {}\".format(accuracy_score(y_test, y_pred)))"
   ]
  },
  {
   "cell_type": "markdown",
   "metadata": {},
   "source": [
    "# 2. Use cross-validation to evaluate models."
   ]
  },
  {
   "cell_type": "markdown",
   "metadata": {},
   "source": [
    "## Plot learning curver \n",
    "\n",
    "- Write the function to train with cross-validation.\n",
    "- Use libs to train and select ratios of data, then write log of values.\n",
    "- Use matlibplot to draw learning curver."
   ]
  },
  {
   "cell_type": "code",
   "execution_count": 14,
   "metadata": {
    "collapsed": true
   },
   "outputs": [],
   "source": [
    "# Function to generate different colors for ids.  \n",
    "def get_cmap(n):\n",
    "    return 'C' + str(n)\n",
    "\n",
    "# Funtion to train the model, cross-validation and draw with matplotlib. \n",
    "def plot_learning_curve(estimator, title, label_curve, X, y, ylim=None, cv=None,\n",
    "                        n_jobs=1, train_sizes=np.linspace(.1, 1.0, 5), new_plot=False,\n",
    "                        idx_color=0):\n",
    "    \n",
    "    # Make a new image: \n",
    "    if new_plot:\n",
    "        # plt.figure()\n",
    "        plt.title(title)\n",
    "        plt.xlabel(\"Training examples\")\n",
    "        plt.ylabel(\"Accuracy\")\n",
    "        plt.grid()\n",
    "    \n",
    "    if ylim is not None:\n",
    "        plt.ylim(*ylim)\n",
    "        \n",
    "    # Train the model and save some values while training. \n",
    "    # cv = the number of folds, one fold will be selected to test in training phase \n",
    "    # and the others will be used for training.\n",
    "    # train_sizes = ratio array, \n",
    "    #  train_sizes = [0.3, 0.5] means case 1 with 0.3: 0.3 for training and 0.7 for testing.\n",
    "    # case 2 with 0.5 means 0.5 for training and 0.5 for validating.\n",
    "    # scoring = objective function to evaluate the quality of models. \n",
    "    train_sizes, train_scores, test_scores = learning_curve(\n",
    "        estimator, X, y, cv=cv, n_jobs=n_jobs, train_sizes=train_sizes, scoring=\"accuracy\")\n",
    "    \n",
    "\n",
    "    # Get the average of all output of folds.\n",
    "    train_scores_mean = np.mean(train_scores, axis=1)\n",
    "    train_scores_std = np.std(train_scores, axis=1)\n",
    "    test_scores_mean = np.mean(test_scores, axis=1)\n",
    "    test_scores_std = np.std(test_scores, axis=1)\n",
    "    \n",
    "    # Select a color.\n",
    "    color = get_cmap(idx_color)\n",
    "    \n",
    "    # Draw\n",
    "    plt.fill_between(train_sizes, test_scores_mean - test_scores_std,\n",
    "                     test_scores_mean + test_scores_std, alpha=0.1, color=color)\n",
    "    plt.plot(train_sizes, test_scores_mean, 'o-', color=color,\n",
    "             label=label_curve)\n",
    "\n",
    "    plt.legend(loc=\"best\")\n",
    "    return plt\n"
   ]
  },
  {
   "cell_type": "markdown",
   "metadata": {},
   "source": [
    "## Convert text to matrix\n"
   ]
  },
  {
   "cell_type": "code",
   "execution_count": 15,
   "metadata": {
    "collapsed": true
   },
   "outputs": [],
   "source": [
    "module_count_vector = CountVectorizer()\n",
    "model_rf_preprocess = Pipeline([('vect', module_count_vector),\n",
    "                    ('tfidf', TfidfTransformer()),\n",
    "                    ])\n",
    "\n",
    "data_preprocessed = model_rf_preprocess.fit_transform(data_train.data, data_train.target)\n"
   ]
  },
  {
   "cell_type": "markdown",
   "metadata": {},
   "source": [
    "## Experiment with different parameters.\n",
    "\n",
    "- For each model: random forest, svm, ... selecting parameters is different. "
   ]
  },
  {
   "cell_type": "markdown",
   "metadata": {},
   "source": [
    "## Change the number of trees for Random Forest model.\n"
   ]
  },
  {
   "cell_type": "code",
   "execution_count": 18,
   "metadata": {},
   "outputs": [
    {
     "data": {
      "image/png": "[encoded data removed]",
      "text/plain": [
       "<Figure size 432x288 with 1 Axes>"
      ]
     },
     "metadata": {
      "needs_background": "light"
     },
     "output_type": "display_data"
    }
   ],
   "source": [
    "title = \"Random forest - n_estimators\"\n",
    "\n",
    "for i, n_estimators in enumerate([20, 30, 50]):\n",
    "    #With each estimator, we will build and learn the corresponding model.\n",
    "    text_clf =  RandomForestClassifier(criterion='gini', n_estimators=n_estimators)\n",
    "    plt = plot_learning_curve(text_clf, title, \"n_estimators = {}\".format(n_estimators),\n",
    "                              data_preprocessed, data_train.target,\n",
    "                              (0.4, 1.01),\n",
    "                              train_sizes=np.linspace(.1, 1.0, 10),\n",
    "                              cv=10, n_jobs=-1, idx_color=i, new_plot=i == 0)\n",
    "# Save image \n",
    "plt.savefig('images/RandomForestcriterion.png', bbox_inches='tight')\n",
    "plt.show()"
   ]
  },
  {
   "cell_type": "markdown",
   "metadata": {},
   "source": [
    "## Comparision of best models\n"
   ]
  },
  {
   "cell_type": "code",
   "execution_count": 19,
   "metadata": {},
   "outputs": [
    {
     "data": {
      "image/png": "[encoded data removed]",
      "text/plain": [
       "<Figure size 432x288 with 1 Axes>"
      ]
     },
     "metadata": {
      "needs_background": "light"
     },
     "output_type": "display_data"
    }
   ],
   "source": [
    "title = \"Model comparison\"\n",
    "\n",
    "best_models = [\n",
    "    svm.SVC(kernel='linear', C=1.0),\n",
    "    RandomForestClassifier(criterion='gini', n_estimators=50)\n",
    "]\n",
    "best_models_name = [\n",
    "    'svm.SVC',\n",
    "    'RandomForestClassifier'\n",
    "]\n",
    "\n",
    "for i, estimator in enumerate(best_models):\n",
    "    \n",
    "    text_clf = Pipeline([\n",
    "                         ('clf', estimator),\n",
    "                         ])\n",
    "    plt = plot_learning_curve(text_clf, title, \"estimator = {}\".format(best_models_name[i]),\n",
    "                              data_preprocessed, data_train.target,\n",
    "                              (0.4, 1.01),\n",
    "                              train_sizes=np.linspace(.1, 1.0, 10),\n",
    "                              cv=10, n_jobs=-1, idx_color=i, new_plot=i == 0)\n",
    "# Save the image \n",
    "plt.savefig('images/Model_comparison.png', bbox_inches='tight')\n",
    "plt.show()"
   ]
  }
 ],
 "metadata": {
  "kernelspec": {
   "display_name": "Python 2",
   "language": "python",
   "name": "python2"
  },
  "language_info": {
   "codemirror_mode": {
    "name": "ipython",
    "version": 2
   },
   "file_extension": ".py",
   "mimetype": "text/x-python",
   "name": "python",
   "nbconvert_exporter": "python",
   "pygments_lexer": "ipython2",
   "version": "2.7.13"
  }
 },
 "nbformat": 4,
 "nbformat_minor": 2
}
