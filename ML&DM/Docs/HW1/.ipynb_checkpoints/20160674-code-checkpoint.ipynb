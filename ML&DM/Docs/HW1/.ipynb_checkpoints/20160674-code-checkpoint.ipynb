{
 "cells": [
  {
   "cell_type": "markdown",
   "metadata": {
    "colab_type": "text",
    "id": "KR6LeoCPXbqX"
   },
   "source": [
    "```\n",
    "Student name: Nguyen Duc Dung\n",
    "Student ID:   20160674\n",
    "Class:        ICT.02 - K61\n",
    "```\n",
    "\n"
   ]
  },
  {
   "cell_type": "markdown",
   "metadata": {
    "colab_type": "text",
    "id": "WpGD1DTxb7gL"
   },
   "source": [
    "# Tasks"
   ]
  },
  {
   "cell_type": "markdown",
   "metadata": {
    "colab_type": "text",
    "id": "gYdboM8EcKm0"
   },
   "source": [
    "- Formulate the learning problem\n",
    "- Choose a way to deal with missing value\n",
    "- Choose a Machine Learning model \n",
    "- Do training / evaluation\n",
    "- Make prediction for 10 testing samples"
   ]
  },
  {
   "cell_type": "markdown",
   "metadata": {
    "colab_type": "text",
    "id": "oi4frj0CcRQQ"
   },
   "source": [
    "# Solving"
   ]
  },
  {
   "cell_type": "markdown",
   "metadata": {
    "colab_type": "text",
    "id": "6T9Ce7iLYbE4"
   },
   "source": [
    "## Import needed libraries"
   ]
  },
  {
   "cell_type": "code",
   "execution_count": 0,
   "metadata": {
    "colab": {},
    "colab_type": "code",
    "id": "zuV2ftYPWgYu"
   },
   "outputs": [],
   "source": [
    "import re\n",
    "import sys\n",
    "\n",
    "import pandas as pd\n",
    "import pandas.util.testing as tm\n",
    "import numpy as np\n",
    "\n",
    "import matplotlib.pyplot as plt\n",
    "%matplotlib inline\n",
    "\n",
    "import warnings\n",
    "warnings.filterwarnings(\"ignore\")\n",
    "\n",
    "from sklearn import preprocessing\n",
    "\n",
    "from sklearn.ensemble import RandomForestClassifier\n",
    "from sklearn.svm import SVC\n",
    "\n",
    "from sklearn.model_selection import train_test_split\n",
    "from sklearn.model_selection import cross_val_score\n",
    "\n",
    "from sklearn import tree\n",
    "\n",
    "from sklearn.model_selection import GridSearchCV\n",
    "\n",
    "from sklearn import metrics\n",
    "from sklearn.metrics import accuracy_score, mean_squared_error, mean_absolute_error, r2_score, f1_score"
   ]
  },
  {
   "cell_type": "markdown",
   "metadata": {
    "colab_type": "text",
    "id": "13RIBt0lYhk_"
   },
   "source": [
    "## Read file from Drive"
   ]
  },
  {
   "cell_type": "code",
   "execution_count": 0,
   "metadata": {
    "colab": {
     "base_uri": "https://localhost:8080/",
     "height": 118
    },
    "colab_type": "code",
    "id": "zRTCHDeDW9kz",
    "outputId": "d661ff7e-815f-4d5a-f3df-01d0e51786a1"
   },
   "outputs": [
    {
     "name": "stdout",
     "output_type": "stream",
     "text": [
      "Go to this URL in a browser: https://accounts.google.com/o/oauth2/auth?client_id=947318989803-6bn6qk8qdgf4n4g3pfee6491hc0brc4i.apps.googleusercontent.com&redirect_uri=urn%3aietf%3awg%3aoauth%3a2.0%3aoob&response_type=code&scope=email%20https%3a%2f%2fwww.googleapis.com%2fauth%2fdocs.test%20https%3a%2f%2fwww.googleapis.com%2fauth%2fdrive%20https%3a%2f%2fwww.googleapis.com%2fauth%2fdrive.photos.readonly%20https%3a%2f%2fwww.googleapis.com%2fauth%2fpeopleapi.readonly\n",
      "\n",
      "Enter your authorization code:\n",
      "··········\n",
      "Mounted at /content/drive\n"
     ]
    }
   ],
   "source": [
    "from google.colab import drive\n",
    "drive.mount('/content/drive')"
   ]
  },
  {
   "cell_type": "code",
   "execution_count": 0,
   "metadata": {
    "colab": {},
    "colab_type": "code",
    "id": "Vc3sQ08mXvoY"
   },
   "outputs": [],
   "source": [
    "training_data = pd.read_csv(\"/content/drive/My Drive/Colab Notebooks/Homework1/1-training-data.csv\")\n",
    "testing_data = pd.read_csv(\"/content/drive/My Drive/Colab Notebooks/Homework1/20160674-test.csv\",\n",
    "                           names=['A1', 'A2', 'A3', 'A4', 'A5', 'A6', 'A7', 'A8', 'y'])"
   ]
  },
  {
   "cell_type": "markdown",
   "metadata": {
    "colab_type": "text",
    "id": "Jc3sz213YnK2"
   },
   "source": [
    "## Data analyzing"
   ]
  },
  {
   "cell_type": "code",
   "execution_count": 0,
   "metadata": {
    "colab": {
     "base_uri": "https://localhost:8080/",
     "height": 191
    },
    "colab_type": "code",
    "id": "ctdXqHxsYaAU",
    "outputId": "b327c5e9-ccd9-44e4-ee03-79b9070faebd"
   },
   "outputs": [
    {
     "data": {
      "text/html": [
       "<div>\n",
       "<style scoped>\n",
       "    .dataframe tbody tr th:only-of-type {\n",
       "        vertical-align: middle;\n",
       "    }\n",
       "\n",
       "    .dataframe tbody tr th {\n",
       "        vertical-align: top;\n",
       "    }\n",
       "\n",
       "    .dataframe thead th {\n",
       "        text-align: right;\n",
       "    }\n",
       "</style>\n",
       "<table border=\"1\" class=\"dataframe\">\n",
       "  <thead>\n",
       "    <tr style=\"text-align: right;\">\n",
       "      <th></th>\n",
       "      <th>A1</th>\n",
       "      <th>A2</th>\n",
       "      <th>A3</th>\n",
       "      <th>A4</th>\n",
       "      <th>A5</th>\n",
       "      <th>A6</th>\n",
       "      <th>A7</th>\n",
       "      <th>A8</th>\n",
       "      <th>y</th>\n",
       "    </tr>\n",
       "  </thead>\n",
       "  <tbody>\n",
       "    <tr>\n",
       "      <th>0</th>\n",
       "      <td>?</td>\n",
       "      <td>3.683393747</td>\n",
       "      <td>?</td>\n",
       "      <td>-0.634417312</td>\n",
       "      <td>1</td>\n",
       "      <td>0.409611744</td>\n",
       "      <td>7</td>\n",
       "      <td>30</td>\n",
       "      <td>5</td>\n",
       "    </tr>\n",
       "    <tr>\n",
       "      <th>1</th>\n",
       "      <td>?</td>\n",
       "      <td>?</td>\n",
       "      <td>60</td>\n",
       "      <td>1.573617763</td>\n",
       "      <td>0</td>\n",
       "      <td>0.639813727</td>\n",
       "      <td>7</td>\n",
       "      <td>30</td>\n",
       "      <td>5</td>\n",
       "    </tr>\n",
       "    <tr>\n",
       "      <th>2</th>\n",
       "      <td>?</td>\n",
       "      <td>3.096229013</td>\n",
       "      <td>67</td>\n",
       "      <td>0.249917163</td>\n",
       "      <td>0</td>\n",
       "      <td>0.089343498</td>\n",
       "      <td>?</td>\n",
       "      <td>80</td>\n",
       "      <td>3</td>\n",
       "    </tr>\n",
       "    <tr>\n",
       "      <th>3</th>\n",
       "      <td>2.887677333</td>\n",
       "      <td>3.870994828</td>\n",
       "      <td>68</td>\n",
       "      <td>-1.347755064</td>\n",
       "      <td>?</td>\n",
       "      <td>1.276985638</td>\n",
       "      <td>?</td>\n",
       "      <td>60</td>\n",
       "      <td>5</td>\n",
       "    </tr>\n",
       "    <tr>\n",
       "      <th>4</th>\n",
       "      <td>2.731273335</td>\n",
       "      <td>3.945024383</td>\n",
       "      <td>79</td>\n",
       "      <td>1.967319655</td>\n",
       "      <td>1</td>\n",
       "      <td>2.487831092</td>\n",
       "      <td>?</td>\n",
       "      <td>100</td>\n",
       "      <td>4</td>\n",
       "    </tr>\n",
       "  </tbody>\n",
       "</table>\n",
       "</div>"
      ],
      "text/plain": [
       "            A1           A2  A3            A4 A5           A6 A7   A8  y\n",
       "0            ?  3.683393747   ?  -0.634417312  1  0.409611744  7   30  5\n",
       "1            ?            ?  60   1.573617763  0  0.639813727  7   30  5\n",
       "2            ?  3.096229013  67   0.249917163  0  0.089343498  ?   80  3\n",
       "3  2.887677333  3.870994828  68  -1.347755064  ?  1.276985638  ?   60  5\n",
       "4  2.731273335  3.945024383  79   1.967319655  1  2.487831092  ?  100  4"
      ]
     },
     "execution_count": 5,
     "metadata": {
      "tags": []
     },
     "output_type": "execute_result"
    }
   ],
   "source": [
    "training_data.head()"
   ]
  },
  {
   "cell_type": "code",
   "execution_count": 0,
   "metadata": {
    "colab": {
     "base_uri": "https://localhost:8080/",
     "height": 191
    },
    "colab_type": "code",
    "id": "mFPGa6DAhLBF",
    "outputId": "d9fda585-2c03-433a-933f-50791cbda22a"
   },
   "outputs": [
    {
     "data": {
      "text/html": [
       "<div>\n",
       "<style scoped>\n",
       "    .dataframe tbody tr th:only-of-type {\n",
       "        vertical-align: middle;\n",
       "    }\n",
       "\n",
       "    .dataframe tbody tr th {\n",
       "        vertical-align: top;\n",
       "    }\n",
       "\n",
       "    .dataframe thead th {\n",
       "        text-align: right;\n",
       "    }\n",
       "</style>\n",
       "<table border=\"1\" class=\"dataframe\">\n",
       "  <thead>\n",
       "    <tr style=\"text-align: right;\">\n",
       "      <th></th>\n",
       "      <th>A1</th>\n",
       "      <th>A2</th>\n",
       "      <th>A3</th>\n",
       "      <th>A4</th>\n",
       "      <th>A5</th>\n",
       "      <th>A6</th>\n",
       "      <th>A7</th>\n",
       "      <th>A8</th>\n",
       "      <th>y</th>\n",
       "    </tr>\n",
       "  </thead>\n",
       "  <tbody>\n",
       "    <tr>\n",
       "      <th>995</th>\n",
       "      <td>3.125917</td>\n",
       "      <td>3.245430</td>\n",
       "      <td>68.0</td>\n",
       "      <td>-0.142998</td>\n",
       "      <td>0.0</td>\n",
       "      <td>2.540562</td>\n",
       "      <td>7.0</td>\n",
       "      <td>15.0</td>\n",
       "      <td>4.0</td>\n",
       "    </tr>\n",
       "    <tr>\n",
       "      <th>996</th>\n",
       "      <td>2.566080</td>\n",
       "      <td>3.567651</td>\n",
       "      <td>65.5</td>\n",
       "      <td>-0.618728</td>\n",
       "      <td>1.0</td>\n",
       "      <td>2.414309</td>\n",
       "      <td>7.0</td>\n",
       "      <td>70.0</td>\n",
       "      <td>4.0</td>\n",
       "    </tr>\n",
       "    <tr>\n",
       "      <th>997</th>\n",
       "      <td>1.783414</td>\n",
       "      <td>3.596953</td>\n",
       "      <td>65.5</td>\n",
       "      <td>0.411349</td>\n",
       "      <td>0.0</td>\n",
       "      <td>1.234720</td>\n",
       "      <td>7.0</td>\n",
       "      <td>60.0</td>\n",
       "      <td>3.0</td>\n",
       "    </tr>\n",
       "    <tr>\n",
       "      <th>998</th>\n",
       "      <td>1.633291</td>\n",
       "      <td>4.130596</td>\n",
       "      <td>65.5</td>\n",
       "      <td>1.938254</td>\n",
       "      <td>0.0</td>\n",
       "      <td>-1.389201</td>\n",
       "      <td>6.0</td>\n",
       "      <td>0.0</td>\n",
       "      <td>4.0</td>\n",
       "    </tr>\n",
       "    <tr>\n",
       "      <th>999</th>\n",
       "      <td>1.417296</td>\n",
       "      <td>4.138071</td>\n",
       "      <td>65.0</td>\n",
       "      <td>2.107206</td>\n",
       "      <td>0.0</td>\n",
       "      <td>-0.751386</td>\n",
       "      <td>6.0</td>\n",
       "      <td>0.0</td>\n",
       "      <td>3.0</td>\n",
       "    </tr>\n",
       "  </tbody>\n",
       "</table>\n",
       "</div>"
      ],
      "text/plain": [
       "           A1        A2    A3        A4   A5        A6   A7    A8    y\n",
       "995  3.125917  3.245430  68.0 -0.142998  0.0  2.540562  7.0  15.0  4.0\n",
       "996  2.566080  3.567651  65.5 -0.618728  1.0  2.414309  7.0  70.0  4.0\n",
       "997  1.783414  3.596953  65.5  0.411349  0.0  1.234720  7.0  60.0  3.0\n",
       "998  1.633291  4.130596  65.5  1.938254  0.0 -1.389201  6.0   0.0  4.0\n",
       "999  1.417296  4.138071  65.0  2.107206  0.0 -0.751386  6.0   0.0  3.0"
      ]
     },
     "execution_count": 29,
     "metadata": {
      "tags": []
     },
     "output_type": "execute_result"
    }
   ],
   "source": [
    "training_data.tail()"
   ]
  },
  {
   "cell_type": "code",
   "execution_count": 0,
   "metadata": {
    "colab": {
     "base_uri": "https://localhost:8080/",
     "height": 33
    },
    "colab_type": "code",
    "id": "d9u80c47ZAxa",
    "outputId": "0d1b3c7d-2580-4f2e-9726-4bf6f7137ba0"
   },
   "outputs": [
    {
     "data": {
      "text/plain": [
       "(1000, 9)"
      ]
     },
     "execution_count": 7,
     "metadata": {
      "tags": []
     },
     "output_type": "execute_result"
    }
   ],
   "source": [
    "training_data.shape"
   ]
  },
  {
   "cell_type": "code",
   "execution_count": 0,
   "metadata": {
    "colab": {
     "base_uri": "https://localhost:8080/",
     "height": 277
    },
    "colab_type": "code",
    "id": "tEB4dyzeZMIC",
    "outputId": "aad9399d-8f60-4205-9e6f-bf8d081c2f76"
   },
   "outputs": [
    {
     "name": "stdout",
     "output_type": "stream",
     "text": [
      "<class 'pandas.core.frame.DataFrame'>\n",
      "RangeIndex: 1000 entries, 0 to 999\n",
      "Data columns (total 9 columns):\n",
      " #   Column  Non-Null Count  Dtype \n",
      "---  ------  --------------  ----- \n",
      " 0   A1      1000 non-null   object\n",
      " 1   A2      1000 non-null   object\n",
      " 2   A3      1000 non-null   object\n",
      " 3   A4      1000 non-null   object\n",
      " 4   A5      1000 non-null   object\n",
      " 5   A6      1000 non-null   object\n",
      " 6   A7      1000 non-null   object\n",
      " 7   A8      1000 non-null   object\n",
      " 8   y       1000 non-null   int64 \n",
      "dtypes: int64(1), object(8)\n",
      "memory usage: 70.4+ KB\n"
     ]
    }
   ],
   "source": [
    "training_data.info()"
   ]
  },
  {
   "cell_type": "code",
   "execution_count": 0,
   "metadata": {
    "colab": {
     "base_uri": "https://localhost:8080/",
     "height": 277
    },
    "colab_type": "code",
    "id": "COUERo72hWKn",
    "outputId": "20bdbc0d-bc9b-4a70-978f-47cdef68593b"
   },
   "outputs": [
    {
     "data": {
      "text/html": [
       "<div>\n",
       "<style scoped>\n",
       "    .dataframe tbody tr th:only-of-type {\n",
       "        vertical-align: middle;\n",
       "    }\n",
       "\n",
       "    .dataframe tbody tr th {\n",
       "        vertical-align: top;\n",
       "    }\n",
       "\n",
       "    .dataframe thead th {\n",
       "        text-align: right;\n",
       "    }\n",
       "</style>\n",
       "<table border=\"1\" class=\"dataframe\">\n",
       "  <thead>\n",
       "    <tr style=\"text-align: right;\">\n",
       "      <th></th>\n",
       "      <th>A1</th>\n",
       "      <th>A2</th>\n",
       "      <th>A3</th>\n",
       "      <th>A4</th>\n",
       "      <th>A5</th>\n",
       "      <th>A6</th>\n",
       "      <th>A7</th>\n",
       "      <th>A8</th>\n",
       "      <th>y</th>\n",
       "    </tr>\n",
       "  </thead>\n",
       "  <tbody>\n",
       "    <tr>\n",
       "      <th>count</th>\n",
       "      <td>1000.000000</td>\n",
       "      <td>1000.000000</td>\n",
       "      <td>1000.000000</td>\n",
       "      <td>1000.000000</td>\n",
       "      <td>1000.000000</td>\n",
       "      <td>1000.000000</td>\n",
       "      <td>1000.000000</td>\n",
       "      <td>1000.000000</td>\n",
       "      <td>1000.000000</td>\n",
       "    </tr>\n",
       "    <tr>\n",
       "      <th>mean</th>\n",
       "      <td>1.387968</td>\n",
       "      <td>3.613840</td>\n",
       "      <td>64.888000</td>\n",
       "      <td>-0.134717</td>\n",
       "      <td>0.196000</td>\n",
       "      <td>-0.307805</td>\n",
       "      <td>6.792000</td>\n",
       "      <td>23.085000</td>\n",
       "      <td>3.351000</td>\n",
       "    </tr>\n",
       "    <tr>\n",
       "      <th>std</th>\n",
       "      <td>1.127265</td>\n",
       "      <td>0.419025</td>\n",
       "      <td>6.341149</td>\n",
       "      <td>1.311291</td>\n",
       "      <td>0.397167</td>\n",
       "      <td>1.260653</td>\n",
       "      <td>0.610827</td>\n",
       "      <td>24.818818</td>\n",
       "      <td>1.289753</td>\n",
       "    </tr>\n",
       "    <tr>\n",
       "      <th>min</th>\n",
       "      <td>-1.448874</td>\n",
       "      <td>2.484787</td>\n",
       "      <td>41.000000</td>\n",
       "      <td>-1.722658</td>\n",
       "      <td>0.000000</td>\n",
       "      <td>-1.642174</td>\n",
       "      <td>6.000000</td>\n",
       "      <td>0.000000</td>\n",
       "      <td>1.000000</td>\n",
       "    </tr>\n",
       "    <tr>\n",
       "      <th>25%</th>\n",
       "      <td>0.926002</td>\n",
       "      <td>3.381371</td>\n",
       "      <td>62.000000</td>\n",
       "      <td>-1.347955</td>\n",
       "      <td>0.000000</td>\n",
       "      <td>-1.329206</td>\n",
       "      <td>6.000000</td>\n",
       "      <td>0.000000</td>\n",
       "      <td>2.000000</td>\n",
       "    </tr>\n",
       "    <tr>\n",
       "      <th>50%</th>\n",
       "      <td>1.417296</td>\n",
       "      <td>3.596953</td>\n",
       "      <td>65.500000</td>\n",
       "      <td>-0.618728</td>\n",
       "      <td>0.000000</td>\n",
       "      <td>-0.751386</td>\n",
       "      <td>7.000000</td>\n",
       "      <td>15.000000</td>\n",
       "      <td>4.000000</td>\n",
       "    </tr>\n",
       "    <tr>\n",
       "      <th>75%</th>\n",
       "      <td>1.984458</td>\n",
       "      <td>3.851148</td>\n",
       "      <td>68.000000</td>\n",
       "      <td>1.281885</td>\n",
       "      <td>0.000000</td>\n",
       "      <td>0.375000</td>\n",
       "      <td>7.000000</td>\n",
       "      <td>35.000000</td>\n",
       "      <td>4.000000</td>\n",
       "    </tr>\n",
       "    <tr>\n",
       "      <th>max</th>\n",
       "      <td>3.983271</td>\n",
       "      <td>4.912296</td>\n",
       "      <td>79.000000</td>\n",
       "      <td>2.481077</td>\n",
       "      <td>1.000000</td>\n",
       "      <td>2.768033</td>\n",
       "      <td>9.000000</td>\n",
       "      <td>100.000000</td>\n",
       "      <td>6.000000</td>\n",
       "    </tr>\n",
       "  </tbody>\n",
       "</table>\n",
       "</div>"
      ],
      "text/plain": [
       "                A1           A2  ...           A8            y\n",
       "count  1000.000000  1000.000000  ...  1000.000000  1000.000000\n",
       "mean      1.387968     3.613840  ...    23.085000     3.351000\n",
       "std       1.127265     0.419025  ...    24.818818     1.289753\n",
       "min      -1.448874     2.484787  ...     0.000000     1.000000\n",
       "25%       0.926002     3.381371  ...     0.000000     2.000000\n",
       "50%       1.417296     3.596953  ...    15.000000     4.000000\n",
       "75%       1.984458     3.851148  ...    35.000000     4.000000\n",
       "max       3.983271     4.912296  ...   100.000000     6.000000\n",
       "\n",
       "[8 rows x 9 columns]"
      ]
     },
     "execution_count": 30,
     "metadata": {
      "tags": []
     },
     "output_type": "execute_result"
    }
   ],
   "source": [
    "training_data.describe()"
   ]
  },
  {
   "cell_type": "code",
   "execution_count": 0,
   "metadata": {
    "colab": {
     "base_uri": "https://localhost:8080/",
     "height": 277
    },
    "colab_type": "code",
    "id": "OqQyCjMWreaP",
    "outputId": "029fdbcb-3192-439d-8876-39acde484a32"
   },
   "outputs": [
    {
     "name": "stdout",
     "output_type": "stream",
     "text": [
      "<class 'pandas.core.frame.DataFrame'>\n",
      "RangeIndex: 15 entries, 0 to 14\n",
      "Data columns (total 9 columns):\n",
      " #   Column  Non-Null Count  Dtype  \n",
      "---  ------  --------------  -----  \n",
      " 0   A1      15 non-null     float64\n",
      " 1   A2      15 non-null     float64\n",
      " 2   A3      15 non-null     int64  \n",
      " 3   A4      15 non-null     float64\n",
      " 4   A5      15 non-null     int64  \n",
      " 5   A6      15 non-null     float64\n",
      " 6   A7      15 non-null     int64  \n",
      " 7   A8      15 non-null     int64  \n",
      " 8   y       15 non-null     int64  \n",
      "dtypes: float64(4), int64(5)\n",
      "memory usage: 1.2 KB\n"
     ]
    }
   ],
   "source": [
    "testing_data.info()"
   ]
  },
  {
   "cell_type": "markdown",
   "metadata": {
    "colab_type": "text",
    "id": "w5JW3Lv8bWB5"
   },
   "source": [
    "## Data cleaning\n",
    "\n",
    "We need to change all that missing values to NaN (standing for not a number)."
   ]
  },
  {
   "cell_type": "code",
   "execution_count": 0,
   "metadata": {
    "colab": {},
    "colab_type": "code",
    "id": "QxnaQRjvbU13"
   },
   "outputs": [],
   "source": [
    "# replace all the value '?' by NaN\n",
    "for column in training_data:\n",
    "    training_data[column] = pd.to_numeric(training_data[column], errors='coerce')"
   ]
  },
  {
   "cell_type": "code",
   "execution_count": 0,
   "metadata": {
    "colab": {
     "base_uri": "https://localhost:8080/",
     "height": 277
    },
    "colab_type": "code",
    "id": "BeE43eWksbdB",
    "outputId": "2e1c0f83-aef5-46a4-b713-47d3d86fb4a1"
   },
   "outputs": [
    {
     "name": "stdout",
     "output_type": "stream",
     "text": [
      "<class 'pandas.core.frame.DataFrame'>\n",
      "RangeIndex: 1000 entries, 0 to 999\n",
      "Data columns (total 9 columns):\n",
      " #   Column  Non-Null Count  Dtype  \n",
      "---  ------  --------------  -----  \n",
      " 0   A1      1000 non-null   float64\n",
      " 1   A2      1000 non-null   float64\n",
      " 2   A3      1000 non-null   float64\n",
      " 3   A4      1000 non-null   float64\n",
      " 4   A5      1000 non-null   float64\n",
      " 5   A6      1000 non-null   float64\n",
      " 6   A7      1000 non-null   float64\n",
      " 7   A8      1000 non-null   float64\n",
      " 8   y       1000 non-null   int64  \n",
      "dtypes: float64(8), int64(1)\n",
      "memory usage: 70.4 KB\n"
     ]
    }
   ],
   "source": [
    "training_data.info()"
   ]
  },
  {
   "cell_type": "markdown",
   "metadata": {
    "colab_type": "text",
    "id": "0aUsq8wRpnfG"
   },
   "source": [
    "Then, we replace all the missing values by the median values"
   ]
  },
  {
   "cell_type": "code",
   "execution_count": 0,
   "metadata": {
    "colab": {},
    "colab_type": "code",
    "id": "mpoDrNJJZdFs"
   },
   "outputs": [],
   "source": [
    "# fill all the NaN values\n",
    "training_data.fillna(training_data.median(), inplace = True)"
   ]
  },
  {
   "cell_type": "code",
   "execution_count": 0,
   "metadata": {
    "colab": {
     "base_uri": "https://localhost:8080/",
     "height": 391
    },
    "colab_type": "code",
    "id": "Zk2tnMeDZ3ko",
    "outputId": "44b99d26-630d-41df-d6f9-2aa830b6cb86"
   },
   "outputs": [
    {
     "data": {
      "text/html": [
       "<div>\n",
       "<style scoped>\n",
       "    .dataframe tbody tr th:only-of-type {\n",
       "        vertical-align: middle;\n",
       "    }\n",
       "\n",
       "    .dataframe tbody tr th {\n",
       "        vertical-align: top;\n",
       "    }\n",
       "\n",
       "    .dataframe thead th {\n",
       "        text-align: right;\n",
       "    }\n",
       "</style>\n",
       "<table border=\"1\" class=\"dataframe\">\n",
       "  <thead>\n",
       "    <tr style=\"text-align: right;\">\n",
       "      <th></th>\n",
       "      <th>A1</th>\n",
       "      <th>A2</th>\n",
       "      <th>A3</th>\n",
       "      <th>A4</th>\n",
       "      <th>A5</th>\n",
       "      <th>A6</th>\n",
       "      <th>A7</th>\n",
       "      <th>A8</th>\n",
       "      <th>y</th>\n",
       "    </tr>\n",
       "  </thead>\n",
       "  <tbody>\n",
       "    <tr>\n",
       "      <th>0</th>\n",
       "      <td>1.417296</td>\n",
       "      <td>3.683394</td>\n",
       "      <td>65.5</td>\n",
       "      <td>-0.634417</td>\n",
       "      <td>1.0</td>\n",
       "      <td>0.409612</td>\n",
       "      <td>7.0</td>\n",
       "      <td>30.0</td>\n",
       "      <td>5</td>\n",
       "    </tr>\n",
       "    <tr>\n",
       "      <th>1</th>\n",
       "      <td>1.417296</td>\n",
       "      <td>3.596953</td>\n",
       "      <td>60.0</td>\n",
       "      <td>1.573618</td>\n",
       "      <td>0.0</td>\n",
       "      <td>0.639814</td>\n",
       "      <td>7.0</td>\n",
       "      <td>30.0</td>\n",
       "      <td>5</td>\n",
       "    </tr>\n",
       "    <tr>\n",
       "      <th>2</th>\n",
       "      <td>1.417296</td>\n",
       "      <td>3.096229</td>\n",
       "      <td>67.0</td>\n",
       "      <td>0.249917</td>\n",
       "      <td>0.0</td>\n",
       "      <td>0.089343</td>\n",
       "      <td>7.0</td>\n",
       "      <td>80.0</td>\n",
       "      <td>3</td>\n",
       "    </tr>\n",
       "    <tr>\n",
       "      <th>3</th>\n",
       "      <td>2.887677</td>\n",
       "      <td>3.870995</td>\n",
       "      <td>68.0</td>\n",
       "      <td>-1.347755</td>\n",
       "      <td>0.0</td>\n",
       "      <td>1.276986</td>\n",
       "      <td>7.0</td>\n",
       "      <td>60.0</td>\n",
       "      <td>5</td>\n",
       "    </tr>\n",
       "    <tr>\n",
       "      <th>4</th>\n",
       "      <td>2.731273</td>\n",
       "      <td>3.945024</td>\n",
       "      <td>79.0</td>\n",
       "      <td>1.967320</td>\n",
       "      <td>1.0</td>\n",
       "      <td>2.487831</td>\n",
       "      <td>7.0</td>\n",
       "      <td>100.0</td>\n",
       "      <td>4</td>\n",
       "    </tr>\n",
       "    <tr>\n",
       "      <th>...</th>\n",
       "      <td>...</td>\n",
       "      <td>...</td>\n",
       "      <td>...</td>\n",
       "      <td>...</td>\n",
       "      <td>...</td>\n",
       "      <td>...</td>\n",
       "      <td>...</td>\n",
       "      <td>...</td>\n",
       "      <td>...</td>\n",
       "    </tr>\n",
       "    <tr>\n",
       "      <th>995</th>\n",
       "      <td>3.125917</td>\n",
       "      <td>3.245430</td>\n",
       "      <td>68.0</td>\n",
       "      <td>-0.142998</td>\n",
       "      <td>0.0</td>\n",
       "      <td>2.540562</td>\n",
       "      <td>7.0</td>\n",
       "      <td>15.0</td>\n",
       "      <td>4</td>\n",
       "    </tr>\n",
       "    <tr>\n",
       "      <th>996</th>\n",
       "      <td>2.566080</td>\n",
       "      <td>3.567651</td>\n",
       "      <td>65.5</td>\n",
       "      <td>-0.618728</td>\n",
       "      <td>1.0</td>\n",
       "      <td>2.414309</td>\n",
       "      <td>7.0</td>\n",
       "      <td>70.0</td>\n",
       "      <td>4</td>\n",
       "    </tr>\n",
       "    <tr>\n",
       "      <th>997</th>\n",
       "      <td>1.783414</td>\n",
       "      <td>3.596953</td>\n",
       "      <td>65.5</td>\n",
       "      <td>0.411349</td>\n",
       "      <td>0.0</td>\n",
       "      <td>1.234720</td>\n",
       "      <td>7.0</td>\n",
       "      <td>60.0</td>\n",
       "      <td>3</td>\n",
       "    </tr>\n",
       "    <tr>\n",
       "      <th>998</th>\n",
       "      <td>1.633291</td>\n",
       "      <td>4.130596</td>\n",
       "      <td>65.5</td>\n",
       "      <td>1.938254</td>\n",
       "      <td>0.0</td>\n",
       "      <td>-1.389201</td>\n",
       "      <td>6.0</td>\n",
       "      <td>0.0</td>\n",
       "      <td>4</td>\n",
       "    </tr>\n",
       "    <tr>\n",
       "      <th>999</th>\n",
       "      <td>1.417296</td>\n",
       "      <td>4.138071</td>\n",
       "      <td>65.0</td>\n",
       "      <td>2.107206</td>\n",
       "      <td>0.0</td>\n",
       "      <td>-0.751386</td>\n",
       "      <td>6.0</td>\n",
       "      <td>0.0</td>\n",
       "      <td>3</td>\n",
       "    </tr>\n",
       "  </tbody>\n",
       "</table>\n",
       "<p>1000 rows × 9 columns</p>\n",
       "</div>"
      ],
      "text/plain": [
       "           A1        A2    A3        A4   A5        A6   A7     A8  y\n",
       "0    1.417296  3.683394  65.5 -0.634417  1.0  0.409612  7.0   30.0  5\n",
       "1    1.417296  3.596953  60.0  1.573618  0.0  0.639814  7.0   30.0  5\n",
       "2    1.417296  3.096229  67.0  0.249917  0.0  0.089343  7.0   80.0  3\n",
       "3    2.887677  3.870995  68.0 -1.347755  0.0  1.276986  7.0   60.0  5\n",
       "4    2.731273  3.945024  79.0  1.967320  1.0  2.487831  7.0  100.0  4\n",
       "..        ...       ...   ...       ...  ...       ...  ...    ... ..\n",
       "995  3.125917  3.245430  68.0 -0.142998  0.0  2.540562  7.0   15.0  4\n",
       "996  2.566080  3.567651  65.5 -0.618728  1.0  2.414309  7.0   70.0  4\n",
       "997  1.783414  3.596953  65.5  0.411349  0.0  1.234720  7.0   60.0  3\n",
       "998  1.633291  4.130596  65.5  1.938254  0.0 -1.389201  6.0    0.0  4\n",
       "999  1.417296  4.138071  65.0  2.107206  0.0 -0.751386  6.0    0.0  3\n",
       "\n",
       "[1000 rows x 9 columns]"
      ]
     },
     "execution_count": 58,
     "metadata": {
      "tags": []
     },
     "output_type": "execute_result"
    }
   ],
   "source": [
    "# View the training dataset\n",
    "training_data"
   ]
  },
  {
   "cell_type": "markdown",
   "metadata": {
    "colab_type": "text",
    "id": "oMFgVZoUomX5"
   },
   "source": [
    "The data contains discreted value with 1000 rows and 9 columns, some values of parameters are missing. We found that the data type of column 'y' aka the result of the problem is discrete integer values, so this is classification problem."
   ]
  },
  {
   "cell_type": "markdown",
   "metadata": {
    "colab_type": "text",
    "id": "m-zFbsP8aQ7E"
   },
   "source": [
    "## Training model"
   ]
  },
  {
   "cell_type": "markdown",
   "metadata": {
    "colab_type": "text",
    "id": "brAyoub9njDk"
   },
   "source": [
    "We will use two popular approaches which are appropriate with the problem: Random Forest and SVM. At first, I will split the dataset into train and test using sklearn with the popular ratio 70/30. "
   ]
  },
  {
   "cell_type": "code",
   "execution_count": 0,
   "metadata": {
    "colab": {
     "base_uri": "https://localhost:8080/",
     "height": 33
    },
    "colab_type": "code",
    "id": "jIXbfdXZaS0j",
    "outputId": "a0d6daa3-8e6e-4b0b-d597-0f513aad7d25"
   },
   "outputs": [
    {
     "name": "stdout",
     "output_type": "stream",
     "text": [
      "(700, 8) (300, 8) (700,) (300,)\n"
     ]
    }
   ],
   "source": [
    "X = np.array(training_data[training_data.columns[:-1]])\n",
    "Y = np.array(training_data[training_data.columns[-1]])\n",
    "\n",
    "X_train, X_test, Y_train, Y_test = train_test_split(X, Y, test_size = 0.3, random_state=6)\n",
    "print (X_train.shape, X_test.shape, Y_train.shape, Y_test.shape)"
   ]
  },
  {
   "cell_type": "markdown",
   "metadata": {
    "colab_type": "text",
    "id": "_6SsskLEdZMo"
   },
   "source": [
    "### Training with Random Forest model\n",
    "\n",
    "With Random Forest model, we will use the RandomForestClassifier that is the Random Forest model for classification problem"
   ]
  },
  {
   "cell_type": "markdown",
   "metadata": {
    "colab_type": "text",
    "id": "GOMsUbQAfuOi"
   },
   "source": [
    "#### Find the best parameters for Random Forest by using Grid Search Cross-Validation\n",
    "\n",
    "The parameters that we choose to train this model are the number of decision trees, maximum depth of each tree and the minimum samples leaf."
   ]
  },
  {
   "cell_type": "code",
   "execution_count": 0,
   "metadata": {
    "colab": {
     "base_uri": "https://localhost:8080/",
     "height": 33
    },
    "colab_type": "code",
    "id": "cvcnsWnWdd6I",
    "outputId": "5ef23717-cd8c-40eb-cc0d-7dce862061c6"
   },
   "outputs": [
    {
     "name": "stdout",
     "output_type": "stream",
     "text": [
      "Best Model Parameter:  {'max_depth': 8, 'min_samples_leaf': 3, 'n_estimators': 800}\n"
     ]
    }
   ],
   "source": [
    "rf_param_grid = {\n",
    "              \"n_estimators\":[50, 100, 200, 300, 400, 500, 600, 800, 1000],\n",
    "              'max_depth': [3, 4, 5, 6, 8],\n",
    "              'min_samples_leaf': [3, 4, 5, 6, 8]\n",
    "             }\n",
    "\n",
    "rf_grid = GridSearchCV(estimator=RandomForestClassifier(random_state=6),\n",
    "                 param_grid = rf_param_grid,   \n",
    "                 scoring=\"accuracy\",\n",
    "                 cv = 5,\n",
    "                 n_jobs = 1)\n",
    "\n",
    "rf_grid.fit(X_train,Y_train)\n",
    "rf_grid_best = rf_grid.best_estimator_\n",
    "\n",
    "print(\"Best Model Parameter: \", rf_grid.best_params_)"
   ]
  },
  {
   "cell_type": "markdown",
   "metadata": {
    "colab_type": "text",
    "id": "qgopvCaigIm2"
   },
   "source": [
    "#### Training model with the found parameters"
   ]
  },
  {
   "cell_type": "code",
   "execution_count": 0,
   "metadata": {
    "colab": {},
    "colab_type": "code",
    "id": "_jhHUuJugQZl"
   },
   "outputs": [],
   "source": [
    "rf_model = RandomForestClassifier (n_estimators = 800,\n",
    "                                   criterion = 'gini',\n",
    "                                   bootstrap = True,\n",
    "                                   max_depth=8,\n",
    "                                   min_samples_leaf=3,\n",
    "                                   random_state=6)\n",
    "\n",
    "rf_model.fit (X_train, Y_train)\n",
    "rf_predict = rf_model.predict(X_test)"
   ]
  },
  {
   "cell_type": "code",
   "execution_count": 0,
   "metadata": {
    "colab": {
     "base_uri": "https://localhost:8080/",
     "height": 33
    },
    "colab_type": "code",
    "id": "tofRm8QQgqUf",
    "outputId": "d5e02fc9-5e36-4e7d-b6d9-fe79bda20518"
   },
   "outputs": [
    {
     "name": "stdout",
     "output_type": "stream",
     "text": [
      "Accuracy:  0.8433333333333334\n"
     ]
    }
   ],
   "source": [
    "print (\"Accuracy: \", metrics.accuracy_score(Y_test, rf_predict))"
   ]
  },
  {
   "cell_type": "markdown",
   "metadata": {
    "colab_type": "text",
    "id": "8oyag1zoiT6P"
   },
   "source": [
    "### Training with SVM model"
   ]
  },
  {
   "cell_type": "markdown",
   "metadata": {
    "colab_type": "text",
    "id": "Zp2Dz7ExzVNQ"
   },
   "source": [
    "#### Find the best parameters for SVM by using Grid Search Cross-Validation\n",
    "Some parameters will be used in SVM:\n",
    "- Kernel: RBF (Radial Basis Function). RBF can map an input space in infinite dimensional space.\n",
    "- gamma\n",
    "- C\n"
   ]
  },
  {
   "cell_type": "code",
   "execution_count": 0,
   "metadata": {
    "colab": {},
    "colab_type": "code",
    "id": "Mzpv33v1iXTu"
   },
   "outputs": [],
   "source": [
    "svm_param_grid = {'C': [0.1, 1, 10, 100, 1000],  \n",
    "              'gamma': [0.1, 0.2, 0.3, 0.5, 1.0], \n",
    "              'kernel': ['rbf']\n",
    "             }\n",
    "\n",
    "svm_grid = GridSearchCV(SVC(),\n",
    "                        param_grid = svm_param_grid,\n",
    "                        refit = True,\n",
    "                        scoring=\"accuracy\",\n",
    "                        verbose = 3,\n",
    "                        cv = 5)\n",
    "\n",
    "\n",
    "svm_grid.fit(X_train, Y_train) \n",
    "\n",
    "print(\"Best Model Parameter: \", svm_grid.best_params_) "
   ]
  },
  {
   "cell_type": "markdown",
   "metadata": {
    "colab_type": "text",
    "id": "UM0en2Iljdl1"
   },
   "source": [
    "#### Training model with the found parameters\n",
    "\n",
    "After using Grid Search CV, we found the best parameters are: gamma = 0.3, C = 1000"
   ]
  },
  {
   "cell_type": "code",
   "execution_count": 0,
   "metadata": {
    "colab": {},
    "colab_type": "code",
    "id": "DssTqG4fjc8N"
   },
   "outputs": [],
   "source": [
    "svm_model = SVC (kernel = 'rbf' , gamma = 0.3, C = 1000.0, random_state=6)\n",
    "\n",
    "svm_model.fit(X_train, Y_train)\n",
    "svm_predict = svm_model.predict(X_test)\n",
    "\n"
   ]
  },
  {
   "cell_type": "code",
   "execution_count": 0,
   "metadata": {
    "colab": {
     "base_uri": "https://localhost:8080/",
     "height": 33
    },
    "colab_type": "code",
    "id": "N5yCypeHj05r",
    "outputId": "210bcde8-81f6-48af-e3af-4712809edfac"
   },
   "outputs": [
    {
     "name": "stdout",
     "output_type": "stream",
     "text": [
      "Accuracy:  0.92\n"
     ]
    }
   ],
   "source": [
    "print (\"Accuracy: \", metrics.accuracy_score(Y_test, svm_predict))"
   ]
  },
  {
   "cell_type": "markdown",
   "metadata": {
    "colab_type": "text",
    "id": "IMioPKIpsBhA"
   },
   "source": [
    "## Evaluation model\n",
    "\n",
    "We will evaluate the model using Cross-Validation"
   ]
  },
  {
   "cell_type": "markdown",
   "metadata": {
    "colab_type": "text",
    "id": "gkYMFZhdsakA"
   },
   "source": [
    "### Random Forest model"
   ]
  },
  {
   "cell_type": "code",
   "execution_count": 0,
   "metadata": {
    "colab": {},
    "colab_type": "code",
    "id": "-Hp2bsp4sIw9"
   },
   "outputs": [],
   "source": [
    "cv_rf_model = RandomForestClassifier (n_estimators = 800,\n",
    "                                   criterion = 'gini',\n",
    "                                   bootstrap = True,\n",
    "                                   max_depth=8,\n",
    "                                   min_samples_leaf=3,\n",
    "                                   random_state=6)\n",
    "rf_scores = cross_val_score(cv_rf_model, X, Y, cv=5)"
   ]
  },
  {
   "cell_type": "code",
   "execution_count": 0,
   "metadata": {
    "colab": {
     "base_uri": "https://localhost:8080/",
     "height": 265
    },
    "colab_type": "code",
    "id": "Crv7NhxOs2mP",
    "outputId": "02f2e28c-551a-4a54-8c33-5fca8f6345d4"
   },
   "outputs": [
    {
     "data": {
      "image/png": "[encoded data removed]",
      "text/plain": [
       "<Figure size 432x288 with 1 Axes>"
      ]
     },
     "metadata": {
      "needs_background": "light",
      "tags": []
     },
     "output_type": "display_data"
    }
   ],
   "source": [
    "linear_score_data = np.array(rf_scores)\n",
    "plt.plot(linear_score_data, '-o')\n",
    "plt.legend(['Accuracy'])\n",
    "plt.show()"
   ]
  },
  {
   "cell_type": "markdown",
   "metadata": {
    "colab_type": "text",
    "id": "HRRq_CGPtCgF"
   },
   "source": [
    "### SVM model"
   ]
  },
  {
   "cell_type": "code",
   "execution_count": 0,
   "metadata": {
    "colab": {},
    "colab_type": "code",
    "id": "K332qr6LtHrf"
   },
   "outputs": [],
   "source": [
    "cv_svm_model = SVC (kernel = 'rbf' , gamma = 0.3, C = 1000.0, random_state=6)\n",
    "\n",
    "svm_scores = cross_val_score(cv_svm_model, X, Y, cv=5)"
   ]
  },
  {
   "cell_type": "code",
   "execution_count": 0,
   "metadata": {
    "colab": {
     "base_uri": "https://localhost:8080/",
     "height": 265
    },
    "colab_type": "code",
    "id": "b6wj7fJttl6t",
    "outputId": "d23d406a-3992-4f9c-c0f5-ab4cf08434ba"
   },
   "outputs": [
    {
     "data": {
      "image/png": "[encoded data removed]",
      "text/plain": [
       "<Figure size 432x288 with 1 Axes>"
      ]
     },
     "metadata": {
      "needs_background": "light",
      "tags": []
     },
     "output_type": "display_data"
    }
   ],
   "source": [
    "linear_score_data = np.array(svm_scores)\n",
    "plt.plot(linear_score_data, '-o')\n",
    "plt.legend(['Accuracy'])\n",
    "plt.show()"
   ]
  },
  {
   "cell_type": "markdown",
   "metadata": {
    "colab_type": "text",
    "id": "-exo9v5kuyNt"
   },
   "source": [
    "As we can see, the SVM model has better accuacy. Therefore, we will choose the SVM model to predict the testing data."
   ]
  },
  {
   "cell_type": "markdown",
   "metadata": {
    "colab_type": "text",
    "id": "DWvhg83ckPfw"
   },
   "source": [
    "## Predict the result of testing data"
   ]
  },
  {
   "cell_type": "code",
   "execution_count": 0,
   "metadata": {
    "colab": {
     "base_uri": "https://localhost:8080/",
     "height": 50
    },
    "colab_type": "code",
    "id": "RnyU09oqoIq4",
    "outputId": "614f25fa-3fa8-4d7d-a528-8e0a6bdd39fb"
   },
   "outputs": [
    {
     "name": "stdout",
     "output_type": "stream",
     "text": [
      "Initial value of y:  [5 4 4 1 2 0 0 0 0 0 0 0 0 0 0]\n",
      "Prediction:  [5 4 4 1 2 5 4 4 3 5 5 5 4 2 5]\n"
     ]
    }
   ],
   "source": [
    "testing_X = np.array (testing_data[testing_data.columns[:-1]])\n",
    "testing_Y = np.array (testing_data[testing_data.columns[-1]])\n",
    "Y_prediction = svm_model.predict (testing_X)\n",
    "print (\"Initial value of y: \", testing_Y)\n",
    "print (\"Prediction: \", Y_prediction)"
   ]
  },
  {
   "cell_type": "markdown",
   "metadata": {
    "colab_type": "text",
    "id": "4d6brANWztDL"
   },
   "source": [
    "We can see that, the accuracy in the first 5 rows is 100% so the result of the predicted values might be really good."
   ]
  }
 ],
 "metadata": {
  "colab": {
   "collapsed_sections": [],
   "name": "homework1-NDD.ipynb",
   "provenance": []
  },
  "kernelspec": {
   "display_name": "Python 3",
   "language": "python",
   "name": "python3"
  },
  "language_info": {
   "codemirror_mode": {
    "name": "ipython",
    "version": 3
   },
   "file_extension": ".py",
   "mimetype": "text/x-python",
   "name": "python",
   "nbconvert_exporter": "python",
   "pygments_lexer": "ipython3",
   "version": "3.7.4"
  }
 },
 "nbformat": 4,
 "nbformat_minor": 1
}
