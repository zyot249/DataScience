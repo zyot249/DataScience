{
 "cells": [
  {
   "cell_type": "markdown",
   "metadata": {},
   "source": [
    "\n",
    "- Student name: Nguyen Quang Linh\n",
    "- Student ID: 20162439\n",
    "- Class: ICT.02 K61\n"
   ]
  },
  {
   "cell_type": "markdown",
   "metadata": {},
   "source": [
    "**Task:**"
   ]
  },
  {
   "cell_type": "markdown",
   "metadata": {},
   "source": [
    "\n",
    "- Formulate the learning problem\n",
    "- Choose a way to deal with missing value\n",
    "- Choose a Machine Learning model \n",
    "- Do training / evaluation\n",
    "- Make prediction for 10 testing samples"
   ]
  },
  {
   "cell_type": "markdown",
   "metadata": {},
   "source": [
    "# Gathering Data & Data Preprocessing"
   ]
  },
  {
   "cell_type": "code",
   "execution_count": 1,
   "metadata": {},
   "outputs": [],
   "source": [
    "# Import necessary libraries\n",
    "import pandas as pd\n",
    "import numpy as np\n",
    "from sklearn.model_selection import train_test_split\n",
    "from sklearn.model_selection import learning_curve\n",
    "from sklearn.ensemble import RandomForestClassifier"
   ]
  },
  {
   "cell_type": "code",
   "execution_count": 2,
   "metadata": {},
   "outputs": [],
   "source": [
    "import warnings\n",
    "warnings.filterwarnings(\"ignore\")\n",
    "warnings.filterwarnings(action='ignore',category=DeprecationWarning)\n",
    "warnings.filterwarnings(action='ignore',category=FutureWarning)"
   ]
  },
  {
   "cell_type": "code",
   "execution_count": 3,
   "metadata": {},
   "outputs": [
    {
     "name": "stdout",
     "output_type": "stream",
     "text": [
      "(1000, 9)\n"
     ]
    }
   ],
   "source": [
    "# Load train & test files\n",
    "training_file = '1-training-data.csv'\n",
    "test_file = '20162439-test.csv'\n",
    "\n",
    "# Read files\n",
    "training_data = pd.read_csv (training_file)\n",
    "test_data = pd.read_csv (test_file , header = None)\n",
    "\n",
    "# Shape of training data\n",
    "print (training_data.shape)"
   ]
  },
  {
   "cell_type": "code",
   "execution_count": 4,
   "metadata": {},
   "outputs": [
    {
     "name": "stdout",
     "output_type": "stream",
     "text": [
      "              A1           A2  A3            A4 A5           A6 A7   A8  y\n",
      "0              ?  3.683393747   ?  -0.634417312  1  0.409611744  7   30  5\n",
      "1              ?            ?  60   1.573617763  0  0.639813727  7   30  5\n",
      "2              ?  3.096229013  67   0.249917163  0  0.089343498  ?   80  3\n",
      "3    2.887677333  3.870994828  68  -1.347755064  ?  1.276985638  ?   60  5\n",
      "4    2.731273335  3.945024383  79   1.967319655  1  2.487831092  ?  100  4\n",
      "..           ...          ...  ..           ... ..          ... ..  ... ..\n",
      "995  3.125917333  3.245429971  68  -0.142997786  ?  2.540562226  7    ?  4\n",
      "996  2.566080318  3.567651314   ?             ?  1  2.414309121  7   70  4\n",
      "997  1.783414232            ?   ?   0.411349173  0  1.234719984  7   60  3\n",
      "998  1.633291266  4.130596422   ?   1.938253526  ?  -1.38920108  6    0  4\n",
      "999            ?   4.13807089  65   2.107206276  0            ?  6    0  3\n",
      "\n",
      "[1000 rows x 9 columns]\n"
     ]
    }
   ],
   "source": [
    "# Analyze the full training data \n",
    "print (training_data)"
   ]
  },
  {
   "cell_type": "markdown",
   "metadata": {},
   "source": [
    "The data contains discreted value with 1000 rows and 9 columns, some values of parameters are missing so we can see that this is classification problem. We need to change all that missing values to NaN (standing for not a number). "
   ]
  },
  {
   "cell_type": "code",
   "execution_count": 5,
   "metadata": {},
   "outputs": [
    {
     "data": {
      "text/html": [
       "<div>\n",
       "<style scoped>\n",
       "    .dataframe tbody tr th:only-of-type {\n",
       "        vertical-align: middle;\n",
       "    }\n",
       "\n",
       "    .dataframe tbody tr th {\n",
       "        vertical-align: top;\n",
       "    }\n",
       "\n",
       "    .dataframe thead th {\n",
       "        text-align: right;\n",
       "    }\n",
       "</style>\n",
       "<table border=\"1\" class=\"dataframe\">\n",
       "  <thead>\n",
       "    <tr style=\"text-align: right;\">\n",
       "      <th></th>\n",
       "      <th>A1</th>\n",
       "      <th>A2</th>\n",
       "      <th>A3</th>\n",
       "      <th>A4</th>\n",
       "      <th>A5</th>\n",
       "      <th>A6</th>\n",
       "      <th>A7</th>\n",
       "      <th>A8</th>\n",
       "      <th>y</th>\n",
       "    </tr>\n",
       "  </thead>\n",
       "  <tbody>\n",
       "    <tr>\n",
       "      <td>0</td>\n",
       "      <td>NaN</td>\n",
       "      <td>3.683394</td>\n",
       "      <td>NaN</td>\n",
       "      <td>-0.634417</td>\n",
       "      <td>1.0</td>\n",
       "      <td>0.409612</td>\n",
       "      <td>7.0</td>\n",
       "      <td>30.0</td>\n",
       "      <td>5</td>\n",
       "    </tr>\n",
       "    <tr>\n",
       "      <td>1</td>\n",
       "      <td>NaN</td>\n",
       "      <td>NaN</td>\n",
       "      <td>60.0</td>\n",
       "      <td>1.573618</td>\n",
       "      <td>0.0</td>\n",
       "      <td>0.639814</td>\n",
       "      <td>7.0</td>\n",
       "      <td>30.0</td>\n",
       "      <td>5</td>\n",
       "    </tr>\n",
       "    <tr>\n",
       "      <td>2</td>\n",
       "      <td>NaN</td>\n",
       "      <td>3.096229</td>\n",
       "      <td>67.0</td>\n",
       "      <td>0.249917</td>\n",
       "      <td>0.0</td>\n",
       "      <td>0.089343</td>\n",
       "      <td>NaN</td>\n",
       "      <td>80.0</td>\n",
       "      <td>3</td>\n",
       "    </tr>\n",
       "    <tr>\n",
       "      <td>3</td>\n",
       "      <td>2.887677</td>\n",
       "      <td>3.870995</td>\n",
       "      <td>68.0</td>\n",
       "      <td>-1.347755</td>\n",
       "      <td>NaN</td>\n",
       "      <td>1.276986</td>\n",
       "      <td>NaN</td>\n",
       "      <td>60.0</td>\n",
       "      <td>5</td>\n",
       "    </tr>\n",
       "    <tr>\n",
       "      <td>4</td>\n",
       "      <td>2.731273</td>\n",
       "      <td>3.945024</td>\n",
       "      <td>79.0</td>\n",
       "      <td>1.967320</td>\n",
       "      <td>1.0</td>\n",
       "      <td>2.487831</td>\n",
       "      <td>NaN</td>\n",
       "      <td>100.0</td>\n",
       "      <td>4</td>\n",
       "    </tr>\n",
       "    <tr>\n",
       "      <td>5</td>\n",
       "      <td>0.864607</td>\n",
       "      <td>NaN</td>\n",
       "      <td>61.0</td>\n",
       "      <td>NaN</td>\n",
       "      <td>0.0</td>\n",
       "      <td>-1.262565</td>\n",
       "      <td>7.0</td>\n",
       "      <td>40.0</td>\n",
       "      <td>4</td>\n",
       "    </tr>\n",
       "    <tr>\n",
       "      <td>6</td>\n",
       "      <td>NaN</td>\n",
       "      <td>3.319786</td>\n",
       "      <td>58.0</td>\n",
       "      <td>-1.481795</td>\n",
       "      <td>0.0</td>\n",
       "      <td>-1.470690</td>\n",
       "      <td>NaN</td>\n",
       "      <td>0.0</td>\n",
       "      <td>1</td>\n",
       "    </tr>\n",
       "    <tr>\n",
       "      <td>7</td>\n",
       "      <td>NaN</td>\n",
       "      <td>3.628115</td>\n",
       "      <td>60.0</td>\n",
       "      <td>1.487310</td>\n",
       "      <td>0.0</td>\n",
       "      <td>NaN</td>\n",
       "      <td>7.0</td>\n",
       "      <td>30.0</td>\n",
       "      <td>5</td>\n",
       "    </tr>\n",
       "    <tr>\n",
       "      <td>8</td>\n",
       "      <td>1.102136</td>\n",
       "      <td>3.386358</td>\n",
       "      <td>NaN</td>\n",
       "      <td>1.644159</td>\n",
       "      <td>0.0</td>\n",
       "      <td>NaN</td>\n",
       "      <td>7.0</td>\n",
       "      <td>25.0</td>\n",
       "      <td>4</td>\n",
       "    </tr>\n",
       "    <tr>\n",
       "      <td>9</td>\n",
       "      <td>1.250055</td>\n",
       "      <td>4.363551</td>\n",
       "      <td>66.0</td>\n",
       "      <td>2.327634</td>\n",
       "      <td>NaN</td>\n",
       "      <td>-1.530729</td>\n",
       "      <td>7.0</td>\n",
       "      <td>NaN</td>\n",
       "      <td>4</td>\n",
       "    </tr>\n",
       "  </tbody>\n",
       "</table>\n",
       "</div>"
      ],
      "text/plain": [
       "         A1        A2    A3        A4   A5        A6   A7     A8  y\n",
       "0       NaN  3.683394   NaN -0.634417  1.0  0.409612  7.0   30.0  5\n",
       "1       NaN       NaN  60.0  1.573618  0.0  0.639814  7.0   30.0  5\n",
       "2       NaN  3.096229  67.0  0.249917  0.0  0.089343  NaN   80.0  3\n",
       "3  2.887677  3.870995  68.0 -1.347755  NaN  1.276986  NaN   60.0  5\n",
       "4  2.731273  3.945024  79.0  1.967320  1.0  2.487831  NaN  100.0  4\n",
       "5  0.864607       NaN  61.0       NaN  0.0 -1.262565  7.0   40.0  4\n",
       "6       NaN  3.319786  58.0 -1.481795  0.0 -1.470690  NaN    0.0  1\n",
       "7       NaN  3.628115  60.0  1.487310  0.0       NaN  7.0   30.0  5\n",
       "8  1.102136  3.386358   NaN  1.644159  0.0       NaN  7.0   25.0  4\n",
       "9  1.250055  4.363551  66.0  2.327634  NaN -1.530729  7.0    NaN  4"
      ]
     },
     "execution_count": 5,
     "metadata": {},
     "output_type": "execute_result"
    }
   ],
   "source": [
    "# Change all '?' to 'NaN'\n",
    "for column in training_data:\n",
    "    training_data[column] = pd.to_numeric(training_data[column], errors='coerce')\n",
    "training_data.head(10)"
   ]
  },
  {
   "cell_type": "code",
   "execution_count": 6,
   "metadata": {},
   "outputs": [
    {
     "name": "stdout",
     "output_type": "stream",
     "text": [
      "A1\n",
      "False    751\n",
      "True     249\n",
      "Name: A1, dtype: int64\n",
      "A2\n",
      "False    782\n",
      "True     218\n",
      "Name: A2, dtype: int64\n",
      "A3\n",
      "False    762\n",
      "True     238\n",
      "Name: A3, dtype: int64\n",
      "A4\n",
      "False    785\n",
      "True     215\n",
      "Name: A4, dtype: int64\n",
      "A5\n",
      "False    761\n",
      "True     239\n",
      "Name: A5, dtype: int64\n",
      "A6\n",
      "False    764\n",
      "True     236\n",
      "Name: A6, dtype: int64\n",
      "A7\n",
      "False    771\n",
      "True     229\n",
      "Name: A7, dtype: int64\n",
      "A8\n",
      "False    743\n",
      "True     257\n",
      "Name: A8, dtype: int64\n",
      "y\n",
      "False    1000\n",
      "Name: y, dtype: int64\n"
     ]
    }
   ],
   "source": [
    "# Count null values in each column\n",
    "null_data = training_data.isnull()\n",
    "for column in training_data:\n",
    "    print (column)\n",
    "    print (null_data[column].value_counts())"
   ]
  },
  {
   "cell_type": "code",
   "execution_count": 7,
   "metadata": {},
   "outputs": [
    {
     "data": {
      "text/html": [
       "<div>\n",
       "<style scoped>\n",
       "    .dataframe tbody tr th:only-of-type {\n",
       "        vertical-align: middle;\n",
       "    }\n",
       "\n",
       "    .dataframe tbody tr th {\n",
       "        vertical-align: top;\n",
       "    }\n",
       "\n",
       "    .dataframe thead th {\n",
       "        text-align: right;\n",
       "    }\n",
       "</style>\n",
       "<table border=\"1\" class=\"dataframe\">\n",
       "  <thead>\n",
       "    <tr style=\"text-align: right;\">\n",
       "      <th></th>\n",
       "      <th>A1</th>\n",
       "      <th>A2</th>\n",
       "      <th>A3</th>\n",
       "      <th>A4</th>\n",
       "      <th>A5</th>\n",
       "      <th>A6</th>\n",
       "      <th>A7</th>\n",
       "      <th>A8</th>\n",
       "      <th>y</th>\n",
       "    </tr>\n",
       "  </thead>\n",
       "  <tbody>\n",
       "    <tr>\n",
       "      <td>count</td>\n",
       "      <td>751.000000</td>\n",
       "      <td>782.000000</td>\n",
       "      <td>762.000000</td>\n",
       "      <td>785.000000</td>\n",
       "      <td>761.000000</td>\n",
       "      <td>764.000000</td>\n",
       "      <td>771.000000</td>\n",
       "      <td>743.000000</td>\n",
       "      <td>1000.000000</td>\n",
       "    </tr>\n",
       "    <tr>\n",
       "      <td>mean</td>\n",
       "      <td>1.378244</td>\n",
       "      <td>3.618547</td>\n",
       "      <td>64.696850</td>\n",
       "      <td>-0.002154</td>\n",
       "      <td>0.257556</td>\n",
       "      <td>-0.170783</td>\n",
       "      <td>6.730220</td>\n",
       "      <td>25.881561</td>\n",
       "      <td>3.351000</td>\n",
       "    </tr>\n",
       "    <tr>\n",
       "      <td>std</td>\n",
       "      <td>1.300856</td>\n",
       "      <td>0.473805</td>\n",
       "      <td>7.254793</td>\n",
       "      <td>1.452304</td>\n",
       "      <td>0.437576</td>\n",
       "      <td>1.414620</td>\n",
       "      <td>0.683655</td>\n",
       "      <td>28.263956</td>\n",
       "      <td>1.289753</td>\n",
       "    </tr>\n",
       "    <tr>\n",
       "      <td>min</td>\n",
       "      <td>-1.448874</td>\n",
       "      <td>2.484787</td>\n",
       "      <td>41.000000</td>\n",
       "      <td>-1.722658</td>\n",
       "      <td>0.000000</td>\n",
       "      <td>-1.642174</td>\n",
       "      <td>6.000000</td>\n",
       "      <td>0.000000</td>\n",
       "      <td>1.000000</td>\n",
       "    </tr>\n",
       "    <tr>\n",
       "      <td>25%</td>\n",
       "      <td>0.511147</td>\n",
       "      <td>3.278746</td>\n",
       "      <td>61.000000</td>\n",
       "      <td>-1.382425</td>\n",
       "      <td>0.000000</td>\n",
       "      <td>-1.372719</td>\n",
       "      <td>6.000000</td>\n",
       "      <td>0.000000</td>\n",
       "      <td>2.000000</td>\n",
       "    </tr>\n",
       "    <tr>\n",
       "      <td>50%</td>\n",
       "      <td>1.417296</td>\n",
       "      <td>3.596953</td>\n",
       "      <td>65.500000</td>\n",
       "      <td>-0.618728</td>\n",
       "      <td>0.000000</td>\n",
       "      <td>-0.751386</td>\n",
       "      <td>7.000000</td>\n",
       "      <td>15.000000</td>\n",
       "      <td>4.000000</td>\n",
       "    </tr>\n",
       "    <tr>\n",
       "      <td>75%</td>\n",
       "      <td>2.549721</td>\n",
       "      <td>3.932959</td>\n",
       "      <td>69.000000</td>\n",
       "      <td>1.432672</td>\n",
       "      <td>1.000000</td>\n",
       "      <td>1.254511</td>\n",
       "      <td>7.000000</td>\n",
       "      <td>45.000000</td>\n",
       "      <td>4.000000</td>\n",
       "    </tr>\n",
       "    <tr>\n",
       "      <td>max</td>\n",
       "      <td>3.983271</td>\n",
       "      <td>4.912296</td>\n",
       "      <td>79.000000</td>\n",
       "      <td>2.481077</td>\n",
       "      <td>1.000000</td>\n",
       "      <td>2.768033</td>\n",
       "      <td>9.000000</td>\n",
       "      <td>100.000000</td>\n",
       "      <td>6.000000</td>\n",
       "    </tr>\n",
       "  </tbody>\n",
       "</table>\n",
       "</div>"
      ],
      "text/plain": [
       "               A1          A2          A3          A4          A5          A6  \\\n",
       "count  751.000000  782.000000  762.000000  785.000000  761.000000  764.000000   \n",
       "mean     1.378244    3.618547   64.696850   -0.002154    0.257556   -0.170783   \n",
       "std      1.300856    0.473805    7.254793    1.452304    0.437576    1.414620   \n",
       "min     -1.448874    2.484787   41.000000   -1.722658    0.000000   -1.642174   \n",
       "25%      0.511147    3.278746   61.000000   -1.382425    0.000000   -1.372719   \n",
       "50%      1.417296    3.596953   65.500000   -0.618728    0.000000   -0.751386   \n",
       "75%      2.549721    3.932959   69.000000    1.432672    1.000000    1.254511   \n",
       "max      3.983271    4.912296   79.000000    2.481077    1.000000    2.768033   \n",
       "\n",
       "               A7          A8            y  \n",
       "count  771.000000  743.000000  1000.000000  \n",
       "mean     6.730220   25.881561     3.351000  \n",
       "std      0.683655   28.263956     1.289753  \n",
       "min      6.000000    0.000000     1.000000  \n",
       "25%      6.000000    0.000000     2.000000  \n",
       "50%      7.000000   15.000000     4.000000  \n",
       "75%      7.000000   45.000000     4.000000  \n",
       "max      9.000000  100.000000     6.000000  "
      ]
     },
     "execution_count": 7,
     "metadata": {},
     "output_type": "execute_result"
    }
   ],
   "source": [
    "# Generate descriptive statistics\n",
    "training_data.describe()"
   ]
  },
  {
   "cell_type": "markdown",
   "metadata": {},
   "source": [
    "In this dataset, we can see that many values are replaced by NaN and it may lead to error in future so I will replace each NaN value by mean value of the corresponding column to overcome this problem."
   ]
  },
  {
   "cell_type": "code",
   "execution_count": 8,
   "metadata": {},
   "outputs": [
    {
     "data": {
      "text/html": [
       "<div>\n",
       "<style scoped>\n",
       "    .dataframe tbody tr th:only-of-type {\n",
       "        vertical-align: middle;\n",
       "    }\n",
       "\n",
       "    .dataframe tbody tr th {\n",
       "        vertical-align: top;\n",
       "    }\n",
       "\n",
       "    .dataframe thead th {\n",
       "        text-align: right;\n",
       "    }\n",
       "</style>\n",
       "<table border=\"1\" class=\"dataframe\">\n",
       "  <thead>\n",
       "    <tr style=\"text-align: right;\">\n",
       "      <th></th>\n",
       "      <th>A1</th>\n",
       "      <th>A2</th>\n",
       "      <th>A3</th>\n",
       "      <th>A4</th>\n",
       "      <th>A5</th>\n",
       "      <th>A6</th>\n",
       "      <th>A7</th>\n",
       "      <th>A8</th>\n",
       "      <th>y</th>\n",
       "    </tr>\n",
       "  </thead>\n",
       "  <tbody>\n",
       "    <tr>\n",
       "      <td>0</td>\n",
       "      <td>1.378244</td>\n",
       "      <td>3.683394</td>\n",
       "      <td>64.69685</td>\n",
       "      <td>-0.634417</td>\n",
       "      <td>1.000000</td>\n",
       "      <td>0.409612</td>\n",
       "      <td>7.00000</td>\n",
       "      <td>30.000000</td>\n",
       "      <td>5</td>\n",
       "    </tr>\n",
       "    <tr>\n",
       "      <td>1</td>\n",
       "      <td>1.378244</td>\n",
       "      <td>3.618547</td>\n",
       "      <td>60.00000</td>\n",
       "      <td>1.573618</td>\n",
       "      <td>0.000000</td>\n",
       "      <td>0.639814</td>\n",
       "      <td>7.00000</td>\n",
       "      <td>30.000000</td>\n",
       "      <td>5</td>\n",
       "    </tr>\n",
       "    <tr>\n",
       "      <td>2</td>\n",
       "      <td>1.378244</td>\n",
       "      <td>3.096229</td>\n",
       "      <td>67.00000</td>\n",
       "      <td>0.249917</td>\n",
       "      <td>0.000000</td>\n",
       "      <td>0.089343</td>\n",
       "      <td>6.73022</td>\n",
       "      <td>80.000000</td>\n",
       "      <td>3</td>\n",
       "    </tr>\n",
       "    <tr>\n",
       "      <td>3</td>\n",
       "      <td>2.887677</td>\n",
       "      <td>3.870995</td>\n",
       "      <td>68.00000</td>\n",
       "      <td>-1.347755</td>\n",
       "      <td>0.257556</td>\n",
       "      <td>1.276986</td>\n",
       "      <td>6.73022</td>\n",
       "      <td>60.000000</td>\n",
       "      <td>5</td>\n",
       "    </tr>\n",
       "    <tr>\n",
       "      <td>4</td>\n",
       "      <td>2.731273</td>\n",
       "      <td>3.945024</td>\n",
       "      <td>79.00000</td>\n",
       "      <td>1.967320</td>\n",
       "      <td>1.000000</td>\n",
       "      <td>2.487831</td>\n",
       "      <td>6.73022</td>\n",
       "      <td>100.000000</td>\n",
       "      <td>4</td>\n",
       "    </tr>\n",
       "    <tr>\n",
       "      <td>...</td>\n",
       "      <td>...</td>\n",
       "      <td>...</td>\n",
       "      <td>...</td>\n",
       "      <td>...</td>\n",
       "      <td>...</td>\n",
       "      <td>...</td>\n",
       "      <td>...</td>\n",
       "      <td>...</td>\n",
       "      <td>...</td>\n",
       "    </tr>\n",
       "    <tr>\n",
       "      <td>995</td>\n",
       "      <td>3.125917</td>\n",
       "      <td>3.245430</td>\n",
       "      <td>68.00000</td>\n",
       "      <td>-0.142998</td>\n",
       "      <td>0.257556</td>\n",
       "      <td>2.540562</td>\n",
       "      <td>7.00000</td>\n",
       "      <td>25.881561</td>\n",
       "      <td>4</td>\n",
       "    </tr>\n",
       "    <tr>\n",
       "      <td>996</td>\n",
       "      <td>2.566080</td>\n",
       "      <td>3.567651</td>\n",
       "      <td>64.69685</td>\n",
       "      <td>-0.002154</td>\n",
       "      <td>1.000000</td>\n",
       "      <td>2.414309</td>\n",
       "      <td>7.00000</td>\n",
       "      <td>70.000000</td>\n",
       "      <td>4</td>\n",
       "    </tr>\n",
       "    <tr>\n",
       "      <td>997</td>\n",
       "      <td>1.783414</td>\n",
       "      <td>3.618547</td>\n",
       "      <td>64.69685</td>\n",
       "      <td>0.411349</td>\n",
       "      <td>0.000000</td>\n",
       "      <td>1.234720</td>\n",
       "      <td>7.00000</td>\n",
       "      <td>60.000000</td>\n",
       "      <td>3</td>\n",
       "    </tr>\n",
       "    <tr>\n",
       "      <td>998</td>\n",
       "      <td>1.633291</td>\n",
       "      <td>4.130596</td>\n",
       "      <td>64.69685</td>\n",
       "      <td>1.938254</td>\n",
       "      <td>0.257556</td>\n",
       "      <td>-1.389201</td>\n",
       "      <td>6.00000</td>\n",
       "      <td>0.000000</td>\n",
       "      <td>4</td>\n",
       "    </tr>\n",
       "    <tr>\n",
       "      <td>999</td>\n",
       "      <td>1.378244</td>\n",
       "      <td>4.138071</td>\n",
       "      <td>65.00000</td>\n",
       "      <td>2.107206</td>\n",
       "      <td>0.000000</td>\n",
       "      <td>-0.170783</td>\n",
       "      <td>6.00000</td>\n",
       "      <td>0.000000</td>\n",
       "      <td>3</td>\n",
       "    </tr>\n",
       "  </tbody>\n",
       "</table>\n",
       "<p>1000 rows × 9 columns</p>\n",
       "</div>"
      ],
      "text/plain": [
       "           A1        A2        A3        A4        A5        A6       A7  \\\n",
       "0    1.378244  3.683394  64.69685 -0.634417  1.000000  0.409612  7.00000   \n",
       "1    1.378244  3.618547  60.00000  1.573618  0.000000  0.639814  7.00000   \n",
       "2    1.378244  3.096229  67.00000  0.249917  0.000000  0.089343  6.73022   \n",
       "3    2.887677  3.870995  68.00000 -1.347755  0.257556  1.276986  6.73022   \n",
       "4    2.731273  3.945024  79.00000  1.967320  1.000000  2.487831  6.73022   \n",
       "..        ...       ...       ...       ...       ...       ...      ...   \n",
       "995  3.125917  3.245430  68.00000 -0.142998  0.257556  2.540562  7.00000   \n",
       "996  2.566080  3.567651  64.69685 -0.002154  1.000000  2.414309  7.00000   \n",
       "997  1.783414  3.618547  64.69685  0.411349  0.000000  1.234720  7.00000   \n",
       "998  1.633291  4.130596  64.69685  1.938254  0.257556 -1.389201  6.00000   \n",
       "999  1.378244  4.138071  65.00000  2.107206  0.000000 -0.170783  6.00000   \n",
       "\n",
       "             A8  y  \n",
       "0     30.000000  5  \n",
       "1     30.000000  5  \n",
       "2     80.000000  3  \n",
       "3     60.000000  5  \n",
       "4    100.000000  4  \n",
       "..          ... ..  \n",
       "995   25.881561  4  \n",
       "996   70.000000  4  \n",
       "997   60.000000  3  \n",
       "998    0.000000  4  \n",
       "999    0.000000  3  \n",
       "\n",
       "[1000 rows x 9 columns]"
      ]
     },
     "execution_count": 8,
     "metadata": {},
     "output_type": "execute_result"
    }
   ],
   "source": [
    "training_data.fillna(training_data.mean(), inplace = True)\n",
    "training_data"
   ]
  },
  {
   "cell_type": "markdown",
   "metadata": {},
   "source": [
    "# Train model"
   ]
  },
  {
   "cell_type": "markdown",
   "metadata": {},
   "source": [
    "We will use two popular approaches which are appropriate with the problem: Random Forest and SVM. At first, I will split the dataset into train and test using sklearn with the ratio 70/30. "
   ]
  },
  {
   "cell_type": "code",
   "execution_count": 9,
   "metadata": {},
   "outputs": [
    {
     "name": "stdout",
     "output_type": "stream",
     "text": [
      "(700, 8) (300, 8) (700,) (300,)\n"
     ]
    }
   ],
   "source": [
    "X = np.array(training_data[training_data.columns[:-1]])\n",
    "Y = np.array(training_data[training_data.columns[-1]])\n",
    "X_train, X_test, Y_train, Y_test = train_test_split(X, Y, test_size = 0.3, random_state=42)\n",
    "print (X_train.shape, X_test.shape, Y_train.shape, Y_test.shape)"
   ]
  },
  {
   "cell_type": "markdown",
   "metadata": {},
   "source": [
    "## Random Forest"
   ]
  },
  {
   "cell_type": "markdown",
   "metadata": {},
   "source": [
    "With random forest, I will use RandomForestClassifier, which is a set of decision trees from randomly selected subset of training set. After that, I will perform predictions on the test set. "
   ]
  },
  {
   "cell_type": "markdown",
   "metadata": {},
   "source": [
    "### Parameter tuning: n_estimators"
   ]
  },
  {
   "cell_type": "code",
   "execution_count": 10,
   "metadata": {},
   "outputs": [
    {
     "name": "stdout",
     "output_type": "stream",
     "text": [
      "Best Model Parameter:  {'n_estimators': 300}\n"
     ]
    }
   ],
   "source": [
    "from sklearn.model_selection import GridSearchCV\n",
    "param_grid = {\n",
    "              \"n_estimators\":[50,100,200,300,400,500,600,700,800,900,1000]\n",
    "             }\n",
    "\n",
    "forest_grid = GridSearchCV(estimator=RandomForestClassifier(random_state=42),\n",
    "                 param_grid = param_grid,   \n",
    "                 scoring=\"accuracy\",  #metrics\n",
    "                 cv = 5,              #cross-validation\n",
    "                 n_jobs = 1)          #number of core\n",
    "\n",
    "forest_grid.fit(X_train,Y_train)\n",
    "forest_grid_best = forest_grid.best_estimator_ #best estimator\n",
    "print(\"Best Model Parameter: \",forest_grid.best_params_)\n"
   ]
  },
  {
   "cell_type": "code",
   "execution_count": 11,
   "metadata": {},
   "outputs": [],
   "source": [
    "rf_model = RandomForestClassifier (n_estimators = 300 , criterion = 'gini',bootstrap = True)\n",
    "rf_model.fit (X_train, Y_train)\n",
    "rf_predict = rf_model.predict(X_test)"
   ]
  },
  {
   "cell_type": "markdown",
   "metadata": {},
   "source": [
    "After training, I will check the accuracy using actual and predicted values."
   ]
  },
  {
   "cell_type": "code",
   "execution_count": 12,
   "metadata": {},
   "outputs": [
    {
     "name": "stdout",
     "output_type": "stream",
     "text": [
      "Accuracy:  0.9033333333333333\n"
     ]
    }
   ],
   "source": [
    "from sklearn import metrics\n",
    "print (\"Accuracy: \", metrics.accuracy_score(Y_test, rf_predict))"
   ]
  },
  {
   "cell_type": "markdown",
   "metadata": {},
   "source": [
    "##  Support Vector Machine (SVM)"
   ]
  },
  {
   "cell_type": "markdown",
   "metadata": {},
   "source": [
    "Some parameters will be used in SVM:\n",
    "- Kernel: RBF (Radial Basis Function). RBF can map an input space in infinite dimensional space.\n",
    "- gamma\n",
    "- C\n",
    "<br>\n",
    "At first, I will import module for SVM, then I will fit the model and perform prediction on the test set. Finally I will evaluate the model."
   ]
  },
  {
   "cell_type": "markdown",
   "metadata": {},
   "source": [
    "### Parameters tuning: gamma & C"
   ]
  },
  {
   "cell_type": "code",
   "execution_count": null,
   "metadata": {},
   "outputs": [],
   "source": [
    "from sklearn.svm import SVC\n",
    "# defining parameter range \n",
    "param_grid = {'C': [0.1, 1, 10, 100, 1000],  \n",
    "              'gamma': [0.1 , 0.2 ,0.5, 1.0], \n",
    "              'kernel': ['rbf']\n",
    "             }  \n",
    "grid = GridSearchCV(SVC(), param_grid, refit = True, verbose = 3, cv = 5)\n",
    "\n",
    "# fitting the model for grid search \n",
    "grid.fit(X_train, Y_train) \n",
    "# print best parameter after tuning \n",
    "print(grid.best_params_) "
   ]
  },
  {
   "cell_type": "markdown",
   "metadata": {},
   "source": [
    "After parameters tuning, I get C = 100 and gamma = 0.2"
   ]
  },
  {
   "cell_type": "code",
   "execution_count": 14,
   "metadata": {},
   "outputs": [],
   "source": [
    "# Import SVM model\n",
    "from sklearn.svm import SVC\n",
    "svm_model = SVC (kernel = 'rbf' , gamma = 0.2, C = 100.0)\n",
    "\n",
    "svm_model.fit (X_train, Y_train)\n",
    "Y_predict = svm_model.predict(X_test)"
   ]
  },
  {
   "cell_type": "code",
   "execution_count": 15,
   "metadata": {},
   "outputs": [
    {
     "name": "stdout",
     "output_type": "stream",
     "text": [
      "Accuracy:  0.9066666666666666\n"
     ]
    }
   ],
   "source": [
    "# Evaluate the model\n",
    "from sklearn import metrics\n",
    "print (\"Accuracy: \", metrics.accuracy_score(Y_test, Y_predict))"
   ]
  },
  {
   "cell_type": "markdown",
   "metadata": {},
   "source": [
    "As we can see, both Random Forest and SVM are provide nearly the same accuracy, SVM is a little bit better so I will use SVM to train the test file."
   ]
  },
  {
   "cell_type": "markdown",
   "metadata": {},
   "source": [
    "# Predict the results"
   ]
  },
  {
   "cell_type": "code",
   "execution_count": 17,
   "metadata": {},
   "outputs": [
    {
     "name": "stdout",
     "output_type": "stream",
     "text": [
      "[3 5 2 5 1 0 0 0 0 0 0 0 0 0 0]\n",
      "[3 5 2 5 1 2 1 5 1 4 4 4 2 2 3]\n"
     ]
    }
   ],
   "source": [
    "X_id = np.array (test_data[test_data.columns[:-1]])\n",
    "Y_ori = np.array (test_data[test_data.columns[-1]])\n",
    "Y_pred = svm_model.predict (X_id)\n",
    "print (Y_ori)\n",
    "print (Y_pred)"
   ]
  },
  {
   "cell_type": "markdown",
   "metadata": {},
   "source": [
    "We can see that, the accuracy in the first 5 rows is 100% so the result of the predicted values might be really good."
   ]
  }
 ],
 "metadata": {
  "kernelspec": {
   "display_name": "Python 3",
   "language": "python",
   "name": "python3"
  },
  "language_info": {
   "codemirror_mode": {
    "name": "ipython",
    "version": 3
   },
   "file_extension": ".py",
   "mimetype": "text/x-python",
   "name": "python",
   "nbconvert_exporter": "python",
   "pygments_lexer": "ipython3",
   "version": "3.7.3"
  }
 },
 "nbformat": 4,
 "nbformat_minor": 2
}
